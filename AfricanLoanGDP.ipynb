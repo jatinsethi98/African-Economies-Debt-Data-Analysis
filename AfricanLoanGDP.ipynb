{
 "cells": [
  {
   "cell_type": "markdown",
   "source": "## African Debt GDP Analysis by Anurag Aiyer and Jatin Sethi",
   "metadata": {
    "tags": [],
    "cell_id": "00000-cf040987-54d2-4a88-a256-f998ec9f1fd6",
    "deepnote_cell_type": "markdown"
   }
  },
  {
   "cell_type": "markdown",
   "source": "## <u> Understanding World Bank API </u>",
   "metadata": {
    "tags": [],
    "cell_id": "00001-43d07e57-c8be-4175-aaea-33b6696d1614",
    "deepnote_cell_type": "markdown"
   }
  },
  {
   "cell_type": "code",
   "metadata": {
    "tags": [],
    "cell_id": "00000-5a0de0e6-d43c-43fe-8018-893003211a90",
    "deepnote_to_be_reexecuted": false,
    "source_hash": "5a0ff362",
    "execution_start": 1636920292780,
    "execution_millis": 838,
    "deepnote_cell_type": "code"
   },
   "source": "import wbgapi as wb\nimport pandas as pd\nimport matplotlib.pyplot as plt\nfrom scipy.stats import norm",
   "outputs": [],
   "execution_count": null
  },
  {
   "cell_type": "markdown",
   "source": "Line below is one metric that World Bank API provides",
   "metadata": {
    "tags": [],
    "is_collapsed": false,
    "cell_id": "00003-c7a982b9-864d-4e79-bc10-8e587df5d8f7",
    "deepnote_cell_type": "text-cell-p"
   }
  },
  {
   "cell_type": "code",
   "metadata": {
    "tags": [],
    "cell_id": "00009-235f470e-6503-4eb3-9680-aa95c8f6be0c",
    "deepnote_to_be_reexecuted": false,
    "source_hash": "d791a958",
    "execution_start": 1636920293628,
    "execution_millis": 347,
    "deepnote_cell_type": "code"
   },
   "source": "wb.series.metadata.get('DT.DOD.MWBG.CD')",
   "outputs": [
    {
     "output_type": "execute_result",
     "execution_count": 2,
     "data": {
      "text/plain": "========\nSeries: DT.DOD.MWBG.CD\n\nAggregationmethod: Sum\n--------\nIndicatorName: IBRD loans and IDA credits (DOD, current US$)\n--------\nLicense_Type: CC BY-4.0\n--------\nLicense_URL: https://datacatalog.worldbank.org/public-licenses#cc-by\n--------\nLongdefinition: IBRD loans and IDA credits are public and publicly guaranteed debt extended by the World Bank Group. The International Bank for Reconstruction and Development (IBRD) lends at market rates. Credits from the International Development Association (IDA) are at concessional rates. Data are in current U.S. dollars.\n--------\nPeriodicity: Annual\n--------\nSource: World Bank, International Debt Statistics.\n--------\nTopic: Economic Policy & Debt: External debt: Debt outstanding",
      "text/html": "<div class=\"wbgapi\"><h4>Series: DT.DOD.MWBG.CD</h4><table>\n<thead>\n<tr><th>field            </th><th>value                                                                                                                                                                                                                                                                                                                 </th></tr>\n</thead>\n<tbody>\n<tr><td>Aggregationmethod</td><td>Sum                                                                                                                                                                                                                                                                                                                   </td></tr>\n<tr><td>IndicatorName    </td><td>IBRD loans and IDA credits (DOD, current US$)                                                                                                                                                                                                                                                                         </td></tr>\n<tr><td>License_Type     </td><td>CC BY-4.0                                                                                                                                                                                                                                                                                                             </td></tr>\n<tr><td>License_URL      </td><td>https://datacatalog.worldbank.org/public-licenses#cc-by                                                                                                                                                                                                                                                               </td></tr>\n<tr><td>Longdefinition   </td><td>IBRD loans and IDA credits are public and publicly guaranteed debt extended by the World Bank Group. The International Bank for Reconstruction and Development (IBRD) lends at market rates. Credits from the International Development Association (IDA) are at concessional rates. Data are in current U.S. dollars.</td></tr>\n<tr><td>Periodicity      </td><td>Annual                                                                                                                                                                                                                                                                                                                </td></tr>\n<tr><td>Source           </td><td>World Bank, International Debt Statistics.                                                                                                                                                                                                                                                                            </td></tr>\n<tr><td>Topic            </td><td>Economic Policy &amp; Debt: External debt: Debt outstanding                                                                                                                                                                                                                                                               </td></tr>\n</tbody>\n</table></div>"
     },
     "metadata": {}
    }
   ],
   "execution_count": null
  },
  {
   "cell_type": "markdown",
   "source": "We see below that this is the way to combine multiple World Bank metrics into a dataframe",
   "metadata": {
    "tags": [],
    "is_collapsed": false,
    "cell_id": "00005-22e8a2bf-149b-4c44-8d35-23a9df6d8ecb",
    "deepnote_cell_type": "text-cell-p"
   }
  },
  {
   "cell_type": "code",
   "metadata": {
    "tags": [],
    "cell_id": "00010-c6caaa9a-7a8e-483d-b382-4d1cbedacb75",
    "deepnote_to_be_reexecuted": false,
    "source_hash": "e16ca99d",
    "execution_start": 1636920293983,
    "execution_millis": 332,
    "deepnote_cell_type": "code"
   },
   "source": "#Education, Health, Transportation\ncombined = wb.data.DataFrame(['EG.ELC.ACCS.ZS', 'SP.POP.TOTL'], ['BRA', 'COL', 'PER'],\n                             time=range(1990,1996), index=['series', 'economy'])\n",
   "outputs": [],
   "execution_count": null
  },
  {
   "cell_type": "markdown",
   "source": "## <u>Exploratory Data Analysis</u>",
   "metadata": {
    "tags": [],
    "cell_id": "00012-ca7a18c6-80df-4688-af6e-8255b8f853df",
    "deepnote_cell_type": "markdown"
   }
  },
  {
   "cell_type": "code",
   "metadata": {
    "tags": [],
    "cell_id": "00014-ce4bb0a7-c99a-4a03-a916-de28a0703161",
    "deepnote_to_be_reexecuted": false,
    "source_hash": "fb4641b7",
    "execution_start": 1636920294322,
    "execution_millis": 187,
    "deepnote_cell_type": "code"
   },
   "source": "loanDataByCountry = pd.read_excel(\"LoanData_06April2021.xlsx\", sheet_name=0)",
   "outputs": [
    {
     "name": "stderr",
     "text": "/root/venv/lib/python3.7/site-packages/openpyxl/worksheet/_reader.py:312: UserWarning: Unknown extension is not supported and will be removed\n  warn(msg)\n",
     "output_type": "stream"
    }
   ],
   "execution_count": null
  },
  {
   "cell_type": "markdown",
   "source": "A glance at the loan data for all the African nations. Figured are in millions of US $",
   "metadata": {
    "tags": [],
    "cell_id": "00015-1c6c33ea-89de-475f-a438-db508e8fd1d7",
    "deepnote_cell_type": "markdown"
   }
  },
  {
   "cell_type": "code",
   "source": "loanDataByCountry.head(10)",
   "metadata": {
    "tags": [],
    "cell_id": "00015-c7d718bf-31cc-41f1-b785-7f274a5a15db",
    "deepnote_to_be_reexecuted": false,
    "source_hash": "8ea392db",
    "execution_start": 1636920294568,
    "execution_millis": 115,
    "deepnote_cell_type": "code"
   },
   "outputs": [
    {
     "output_type": "execute_result",
     "execution_count": 5,
     "data": {
      "application/vnd.deepnote.dataframe.v2+json": {
       "row_count": 10,
       "column_count": 61,
       "columns": [
        {
         "name": "All Type 1 Loans",
         "dtype": "object",
         "stats": {
          "unique_count": 10,
          "nan_count": 0,
          "categories": [
           {
            "name": "2000",
            "count": 1
           },
           {
            "name": "2001",
            "count": 1
           },
           {
            "name": "8 others",
            "count": 8
           }
          ]
         }
        },
        {
         "name": "Regional",
         "dtype": "float64",
         "stats": {
          "unique_count": 4,
          "nan_count": 0,
          "min": "0.0",
          "max": "100.0",
          "histogram": [
           {
            "bin_start": 0,
            "bin_end": 10,
            "count": 7
           },
           {
            "bin_start": 10,
            "bin_end": 20,
            "count": 0
           },
           {
            "bin_start": 20,
            "bin_end": 30,
            "count": 0
           },
           {
            "bin_start": 30,
            "bin_end": 40,
            "count": 0
           },
           {
            "bin_start": 40,
            "bin_end": 50,
            "count": 0
           },
           {
            "bin_start": 50,
            "bin_end": 60,
            "count": 1
           },
           {
            "bin_start": 60,
            "bin_end": 70,
            "count": 0
           },
           {
            "bin_start": 70,
            "bin_end": 80,
            "count": 0
           },
           {
            "bin_start": 80,
            "bin_end": 90,
            "count": 0
           },
           {
            "bin_start": 90,
            "bin_end": 100,
            "count": 2
           }
          ]
         }
        },
        {
         "name": "Algeria",
         "dtype": "float64",
         "stats": {
          "unique_count": 2,
          "nan_count": 0,
          "min": "0.0",
          "max": "9.0",
          "histogram": [
           {
            "bin_start": 0,
            "bin_end": 0.9,
            "count": 9
           },
           {
            "bin_start": 0.9,
            "bin_end": 1.8,
            "count": 0
           },
           {
            "bin_start": 1.8,
            "bin_end": 2.7,
            "count": 0
           },
           {
            "bin_start": 2.7,
            "bin_end": 3.6,
            "count": 0
           },
           {
            "bin_start": 3.6,
            "bin_end": 4.5,
            "count": 0
           },
           {
            "bin_start": 4.5,
            "bin_end": 5.4,
            "count": 0
           },
           {
            "bin_start": 5.4,
            "bin_end": 6.3,
            "count": 0
           },
           {
            "bin_start": 6.3,
            "bin_end": 7.2,
            "count": 0
           },
           {
            "bin_start": 7.2,
            "bin_end": 8.1,
            "count": 0
           },
           {
            "bin_start": 8.1,
            "bin_end": 9,
            "count": 1
           }
          ]
         }
        },
        {
         "name": "Angola",
         "dtype": "float64",
         "stats": {
          "unique_count": 9,
          "nan_count": 0,
          "min": "0.0",
          "max": "2186.0727582000004",
          "histogram": [
           {
            "bin_start": 0,
            "bin_end": 218.60727582000004,
            "count": 4
           },
           {
            "bin_start": 218.60727582000004,
            "bin_end": 437.2145516400001,
            "count": 3
           },
           {
            "bin_start": 437.2145516400001,
            "bin_end": 655.8218274600001,
            "count": 0
           },
           {
            "bin_start": 655.8218274600001,
            "bin_end": 874.4291032800002,
            "count": 1
           },
           {
            "bin_start": 874.4291032800002,
            "bin_end": 1093.0363791000002,
            "count": 1
           },
           {
            "bin_start": 1093.0363791000002,
            "bin_end": 1311.6436549200002,
            "count": 0
           },
           {
            "bin_start": 1311.6436549200002,
            "bin_end": 1530.2509307400003,
            "count": 0
           },
           {
            "bin_start": 1530.2509307400003,
            "bin_end": 1748.8582065600003,
            "count": 0
           },
           {
            "bin_start": 1748.8582065600003,
            "bin_end": 1967.4654823800004,
            "count": 0
           },
           {
            "bin_start": 1967.4654823800004,
            "bin_end": 2186.0727582000004,
            "count": 1
           }
          ]
         }
        },
        {
         "name": "Benin",
         "dtype": "float64",
         "stats": {
          "unique_count": 4,
          "nan_count": 0,
          "min": "0.0",
          "max": "15.7071226",
          "histogram": [
           {
            "bin_start": 0,
            "bin_end": 1.57071226,
            "count": 7
           },
           {
            "bin_start": 1.57071226,
            "bin_end": 3.14142452,
            "count": 0
           },
           {
            "bin_start": 3.14142452,
            "bin_end": 4.71213678,
            "count": 1
           },
           {
            "bin_start": 4.71213678,
            "bin_end": 6.28284904,
            "count": 0
           },
           {
            "bin_start": 6.28284904,
            "bin_end": 7.853561300000001,
            "count": 0
           },
           {
            "bin_start": 7.853561300000001,
            "bin_end": 9.42427356,
            "count": 1
           },
           {
            "bin_start": 9.42427356,
            "bin_end": 10.99498582,
            "count": 0
           },
           {
            "bin_start": 10.99498582,
            "bin_end": 12.56569808,
            "count": 0
           },
           {
            "bin_start": 12.56569808,
            "bin_end": 14.136410340000001,
            "count": 0
           },
           {
            "bin_start": 14.136410340000001,
            "bin_end": 15.7071226,
            "count": 1
           }
          ]
         }
        },
        {
         "name": "Botswana",
         "dtype": "float64",
         "stats": {
          "unique_count": 9,
          "nan_count": 0,
          "min": "0.0",
          "max": "825.0",
          "histogram": [
           {
            "bin_start": 0,
            "bin_end": 82.5,
            "count": 9
           },
           {
            "bin_start": 82.5,
            "bin_end": 165,
            "count": 0
           },
           {
            "bin_start": 165,
            "bin_end": 247.5,
            "count": 0
           },
           {
            "bin_start": 247.5,
            "bin_end": 330,
            "count": 0
           },
           {
            "bin_start": 330,
            "bin_end": 412.5,
            "count": 0
           },
           {
            "bin_start": 412.5,
            "bin_end": 495,
            "count": 0
           },
           {
            "bin_start": 495,
            "bin_end": 577.5,
            "count": 0
           },
           {
            "bin_start": 577.5,
            "bin_end": 660,
            "count": 0
           },
           {
            "bin_start": 660,
            "bin_end": 742.5,
            "count": 0
           },
           {
            "bin_start": 742.5,
            "bin_end": 825,
            "count": 1
           }
          ]
         }
        },
        {
         "name": "Burkina Faso",
         "dtype": "float64",
         "stats": {
          "unique_count": 1,
          "nan_count": 0,
          "min": "0.0",
          "max": "0.0",
          "histogram": [
           {
            "bin_start": -0.5,
            "bin_end": -0.4,
            "count": 0
           },
           {
            "bin_start": -0.4,
            "bin_end": -0.3,
            "count": 0
           },
           {
            "bin_start": -0.3,
            "bin_end": -0.19999999999999996,
            "count": 0
           },
           {
            "bin_start": -0.19999999999999996,
            "bin_end": -0.09999999999999998,
            "count": 0
           },
           {
            "bin_start": -0.09999999999999998,
            "bin_end": 0,
            "count": 0
           },
           {
            "bin_start": 0,
            "bin_end": 0.10000000000000009,
            "count": 10
           },
           {
            "bin_start": 0.10000000000000009,
            "bin_end": 0.20000000000000007,
            "count": 0
           },
           {
            "bin_start": 0.20000000000000007,
            "bin_end": 0.30000000000000004,
            "count": 0
           },
           {
            "bin_start": 0.30000000000000004,
            "bin_end": 0.4,
            "count": 0
           },
           {
            "bin_start": 0.4,
            "bin_end": 0.5,
            "count": 0
           }
          ]
         }
        },
        {
         "name": "Burundi",
         "dtype": "float64",
         "stats": {
          "unique_count": 3,
          "nan_count": 0,
          "min": "0.0",
          "max": "7.3238075",
          "histogram": [
           {
            "bin_start": 0,
            "bin_end": 0.73238075,
            "count": 8
           },
           {
            "bin_start": 0.73238075,
            "bin_end": 1.4647615,
            "count": 0
           },
           {
            "bin_start": 1.4647615,
            "bin_end": 2.19714225,
            "count": 0
           },
           {
            "bin_start": 2.19714225,
            "bin_end": 2.929523,
            "count": 1
           },
           {
            "bin_start": 2.929523,
            "bin_end": 3.66190375,
            "count": 0
           },
           {
            "bin_start": 3.66190375,
            "bin_end": 4.3942845,
            "count": 0
           },
           {
            "bin_start": 4.3942845,
            "bin_end": 5.12666525,
            "count": 0
           },
           {
            "bin_start": 5.12666525,
            "bin_end": 5.859046,
            "count": 0
           },
           {
            "bin_start": 5.859046,
            "bin_end": 6.59142675,
            "count": 0
           },
           {
            "bin_start": 6.59142675,
            "bin_end": 7.3238075,
            "count": 1
           }
          ]
         }
        },
        {
         "name": "Cameroon",
         "dtype": "float64",
         "stats": {
          "unique_count": 6,
          "nan_count": 0,
          "min": "0.0",
          "max": "220.93046850000002",
          "histogram": [
           {
            "bin_start": 0,
            "bin_end": 22.09304685,
            "count": 7
           },
           {
            "bin_start": 22.09304685,
            "bin_end": 44.1860937,
            "count": 1
           },
           {
            "bin_start": 44.1860937,
            "bin_end": 66.27914055,
            "count": 0
           },
           {
            "bin_start": 66.27914055,
            "bin_end": 88.3721874,
            "count": 1
           },
           {
            "bin_start": 88.3721874,
            "bin_end": 110.46523425000001,
            "count": 0
           },
           {
            "bin_start": 110.46523425000001,
            "bin_end": 132.5582811,
            "count": 0
           },
           {
            "bin_start": 132.5582811,
            "bin_end": 154.65132795,
            "count": 0
           },
           {
            "bin_start": 154.65132795,
            "bin_end": 176.7443748,
            "count": 0
           },
           {
            "bin_start": 176.7443748,
            "bin_end": 198.83742165,
            "count": 0
           },
           {
            "bin_start": 198.83742165,
            "bin_end": 220.93046850000002,
            "count": 1
           }
          ]
         }
        },
        {
         "name": "Cape Verde",
         "dtype": "float64",
         "stats": {
          "unique_count": 3,
          "nan_count": 0,
          "min": "0.0",
          "max": "15.7",
          "histogram": [
           {
            "bin_start": 0,
            "bin_end": 1.5699999999999998,
            "count": 8
           },
           {
            "bin_start": 1.5699999999999998,
            "bin_end": 3.1399999999999997,
            "count": 1
           },
           {
            "bin_start": 3.1399999999999997,
            "bin_end": 4.709999999999999,
            "count": 0
           },
           {
            "bin_start": 4.709999999999999,
            "bin_end": 6.279999999999999,
            "count": 0
           },
           {
            "bin_start": 6.279999999999999,
            "bin_end": 7.85,
            "count": 0
           },
           {
            "bin_start": 7.85,
            "bin_end": 9.419999999999998,
            "count": 0
           },
           {
            "bin_start": 9.419999999999998,
            "bin_end": 10.989999999999998,
            "count": 0
           },
           {
            "bin_start": 10.989999999999998,
            "bin_end": 12.559999999999999,
            "count": 0
           },
           {
            "bin_start": 12.559999999999999,
            "bin_end": 14.129999999999999,
            "count": 0
           },
           {
            "bin_start": 14.129999999999999,
            "bin_end": 15.7,
            "count": 1
           }
          ]
         }
        },
        {
         "name": "CAR",
         "dtype": "float64",
         "stats": {
          "unique_count": 6,
          "nan_count": 0,
          "min": "0.0",
          "max": "36.25794",
          "histogram": [
           {
            "bin_start": 0,
            "bin_end": 3.625794,
            "count": 6
           },
           {
            "bin_start": 3.625794,
            "bin_end": 7.251588,
            "count": 3
           },
           {
            "bin_start": 7.251588,
            "bin_end": 10.877382,
            "count": 0
           },
           {
            "bin_start": 10.877382,
            "bin_end": 14.503176,
            "count": 0
           },
           {
            "bin_start": 14.503176,
            "bin_end": 18.12897,
            "count": 0
           },
           {
            "bin_start": 18.12897,
            "bin_end": 21.754764,
            "count": 0
           },
           {
            "bin_start": 21.754764,
            "bin_end": 25.380558,
            "count": 0
           },
           {
            "bin_start": 25.380558,
            "bin_end": 29.006352,
            "count": 0
           },
           {
            "bin_start": 29.006352,
            "bin_end": 32.632146,
            "count": 0
           },
           {
            "bin_start": 32.632146,
            "bin_end": 36.25794,
            "count": 1
           }
          ]
         }
        },
        {
         "name": "Chad",
         "dtype": "float64",
         "stats": {
          "unique_count": 2,
          "nan_count": 0,
          "min": "0.0",
          "max": "120.9285194",
          "histogram": [
           {
            "bin_start": 0,
            "bin_end": 12.09285194,
            "count": 9
           },
           {
            "bin_start": 12.09285194,
            "bin_end": 24.18570388,
            "count": 0
           },
           {
            "bin_start": 24.18570388,
            "bin_end": 36.278555819999994,
            "count": 0
           },
           {
            "bin_start": 36.278555819999994,
            "bin_end": 48.37140776,
            "count": 0
           },
           {
            "bin_start": 48.37140776,
            "bin_end": 60.4642597,
            "count": 0
           },
           {
            "bin_start": 60.4642597,
            "bin_end": 72.55711163999999,
            "count": 0
           },
           {
            "bin_start": 72.55711163999999,
            "bin_end": 84.64996357999999,
            "count": 0
           },
           {
            "bin_start": 84.64996357999999,
            "bin_end": 96.74281552,
            "count": 0
           },
           {
            "bin_start": 96.74281552,
            "bin_end": 108.83566746,
            "count": 0
           },
           {
            "bin_start": 108.83566746,
            "bin_end": 120.9285194,
            "count": 1
           }
          ]
         }
        },
        {
         "name": "Comoros",
         "dtype": "float64",
         "stats": {
          "unique_count": 2,
          "nan_count": 0,
          "min": "0.0",
          "max": "8.0",
          "histogram": [
           {
            "bin_start": 0,
            "bin_end": 0.8,
            "count": 9
           },
           {
            "bin_start": 0.8,
            "bin_end": 1.6,
            "count": 0
           },
           {
            "bin_start": 1.6,
            "bin_end": 2.4000000000000004,
            "count": 0
           },
           {
            "bin_start": 2.4000000000000004,
            "bin_end": 3.2,
            "count": 0
           },
           {
            "bin_start": 3.2,
            "bin_end": 4,
            "count": 0
           },
           {
            "bin_start": 4,
            "bin_end": 4.800000000000001,
            "count": 0
           },
           {
            "bin_start": 4.800000000000001,
            "bin_end": 5.6000000000000005,
            "count": 0
           },
           {
            "bin_start": 5.6000000000000005,
            "bin_end": 6.4,
            "count": 0
           },
           {
            "bin_start": 6.4,
            "bin_end": 7.2,
            "count": 0
           },
           {
            "bin_start": 7.2,
            "bin_end": 8,
            "count": 1
           }
          ]
         }
        },
        {
         "name": "ROC",
         "dtype": "float64",
         "stats": {
          "unique_count": 8,
          "nan_count": 0,
          "min": "0.0",
          "max": "857.2113392499999",
          "histogram": [
           {
            "bin_start": 0,
            "bin_end": 85.72113392499999,
            "count": 5
           },
           {
            "bin_start": 85.72113392499999,
            "bin_end": 171.44226784999998,
            "count": 0
           },
           {
            "bin_start": 171.44226784999998,
            "bin_end": 257.16340177499995,
            "count": 1
           },
           {
            "bin_start": 257.16340177499995,
            "bin_end": 342.88453569999996,
            "count": 1
           },
           {
            "bin_start": 342.88453569999996,
            "bin_end": 428.60566962499996,
            "count": 0
           },
           {
            "bin_start": 428.60566962499996,
            "bin_end": 514.3268035499999,
            "count": 0
           },
           {
            "bin_start": 514.3268035499999,
            "bin_end": 600.0479374749999,
            "count": 2
           },
           {
            "bin_start": 600.0479374749999,
            "bin_end": 685.7690713999999,
            "count": 0
           },
           {
            "bin_start": 685.7690713999999,
            "bin_end": 771.4902053249999,
            "count": 0
           },
           {
            "bin_start": 771.4902053249999,
            "bin_end": 857.2113392499999,
            "count": 1
           }
          ]
         }
        },
        {
         "name": "Cote d'Ivoire",
         "dtype": "float64",
         "stats": {
          "unique_count": 6,
          "nan_count": 0,
          "min": "0.0",
          "max": "30.0",
          "histogram": [
           {
            "bin_start": 0,
            "bin_end": 3,
            "count": 7
           },
           {
            "bin_start": 3,
            "bin_end": 6,
            "count": 2
           },
           {
            "bin_start": 6,
            "bin_end": 9,
            "count": 0
           },
           {
            "bin_start": 9,
            "bin_end": 12,
            "count": 0
           },
           {
            "bin_start": 12,
            "bin_end": 15,
            "count": 0
           },
           {
            "bin_start": 15,
            "bin_end": 18,
            "count": 0
           },
           {
            "bin_start": 18,
            "bin_end": 21,
            "count": 0
           },
           {
            "bin_start": 21,
            "bin_end": 24,
            "count": 0
           },
           {
            "bin_start": 24,
            "bin_end": 27,
            "count": 0
           },
           {
            "bin_start": 27,
            "bin_end": 30,
            "count": 1
           }
          ]
         }
        },
        {
         "name": "Djibouti",
         "dtype": "float64",
         "stats": {
          "unique_count": 2,
          "nan_count": 0,
          "min": "0.0",
          "max": "12.08211",
          "histogram": [
           {
            "bin_start": 0,
            "bin_end": 1.208211,
            "count": 9
           },
           {
            "bin_start": 1.208211,
            "bin_end": 2.416422,
            "count": 0
           },
           {
            "bin_start": 2.416422,
            "bin_end": 3.6246329999999998,
            "count": 0
           },
           {
            "bin_start": 3.6246329999999998,
            "bin_end": 4.832844,
            "count": 0
           },
           {
            "bin_start": 4.832844,
            "bin_end": 6.041055,
            "count": 0
           },
           {
            "bin_start": 6.041055,
            "bin_end": 7.2492659999999995,
            "count": 0
           },
           {
            "bin_start": 7.2492659999999995,
            "bin_end": 8.457476999999999,
            "count": 0
           },
           {
            "bin_start": 8.457476999999999,
            "bin_end": 9.665688,
            "count": 0
           },
           {
            "bin_start": 9.665688,
            "bin_end": 10.873899,
            "count": 0
           },
           {
            "bin_start": 10.873899,
            "bin_end": 12.08211,
            "count": 1
           }
          ]
         }
        },
        {
         "name": "DRC",
         "dtype": "float64",
         "stats": {
          "unique_count": 7,
          "nan_count": 0,
          "min": "0.0",
          "max": "831.9147592249999",
          "histogram": [
           {
            "bin_start": 0,
            "bin_end": 83.19147592249999,
            "count": 8
           },
           {
            "bin_start": 83.19147592249999,
            "bin_end": 166.38295184499998,
            "count": 1
           },
           {
            "bin_start": 166.38295184499998,
            "bin_end": 249.57442776749997,
            "count": 0
           },
           {
            "bin_start": 249.57442776749997,
            "bin_end": 332.76590368999996,
            "count": 0
           },
           {
            "bin_start": 332.76590368999996,
            "bin_end": 415.95737961249995,
            "count": 0
           },
           {
            "bin_start": 415.95737961249995,
            "bin_end": 499.14885553499994,
            "count": 0
           },
           {
            "bin_start": 499.14885553499994,
            "bin_end": 582.3403314574999,
            "count": 0
           },
           {
            "bin_start": 582.3403314574999,
            "bin_end": 665.5318073799999,
            "count": 0
           },
           {
            "bin_start": 665.5318073799999,
            "bin_end": 748.7232833024999,
            "count": 0
           },
           {
            "bin_start": 748.7232833024999,
            "bin_end": 831.9147592249999,
            "count": 1
           }
          ]
         }
        },
        {
         "name": "Egypt",
         "dtype": "float64",
         "stats": {
          "unique_count": 5,
          "nan_count": 0,
          "min": "0.0",
          "max": "60.9857659319999",
          "histogram": [
           {
            "bin_start": 0,
            "bin_end": 6.09857659319999,
            "count": 6
           },
           {
            "bin_start": 6.09857659319999,
            "bin_end": 12.19715318639998,
            "count": 0
           },
           {
            "bin_start": 12.19715318639998,
            "bin_end": 18.29572977959997,
            "count": 1
           },
           {
            "bin_start": 18.29572977959997,
            "bin_end": 24.39430637279996,
            "count": 1
           },
           {
            "bin_start": 24.39430637279996,
            "bin_end": 30.49288296599995,
            "count": 1
           },
           {
            "bin_start": 30.49288296599995,
            "bin_end": 36.59145955919994,
            "count": 0
           },
           {
            "bin_start": 36.59145955919994,
            "bin_end": 42.69003615239993,
            "count": 0
           },
           {
            "bin_start": 42.69003615239993,
            "bin_end": 48.78861274559992,
            "count": 0
           },
           {
            "bin_start": 48.78861274559992,
            "bin_end": 54.887189338799914,
            "count": 0
           },
           {
            "bin_start": 54.887189338799914,
            "bin_end": 60.9857659319999,
            "count": 1
           }
          ]
         }
        },
        {
         "name": "Equatorial Guinea",
         "dtype": "float64",
         "stats": {
          "unique_count": 10,
          "nan_count": 0,
          "min": "0.0",
          "max": "686.8520371",
          "histogram": [
           {
            "bin_start": 0,
            "bin_end": 68.68520371,
            "count": 6
           },
           {
            "bin_start": 68.68520371,
            "bin_end": 137.37040742,
            "count": 1
           },
           {
            "bin_start": 137.37040742,
            "bin_end": 206.05561113,
            "count": 1
           },
           {
            "bin_start": 206.05561113,
            "bin_end": 274.74081484,
            "count": 1
           },
           {
            "bin_start": 274.74081484,
            "bin_end": 343.42601855,
            "count": 0
           },
           {
            "bin_start": 343.42601855,
            "bin_end": 412.11122226,
            "count": 0
           },
           {
            "bin_start": 412.11122226,
            "bin_end": 480.79642597,
            "count": 0
           },
           {
            "bin_start": 480.79642597,
            "bin_end": 549.48162968,
            "count": 0
           },
           {
            "bin_start": 549.48162968,
            "bin_end": 618.16683339,
            "count": 0
           },
           {
            "bin_start": 618.16683339,
            "bin_end": 686.8520371,
            "count": 1
           }
          ]
         }
        },
        {
         "name": "Eritrea",
         "dtype": "float64",
         "stats": {
          "unique_count": 4,
          "nan_count": 0,
          "min": "0.0",
          "max": "48.306861555",
          "histogram": [
           {
            "bin_start": 0,
            "bin_end": 4.8306861555,
            "count": 7
           },
           {
            "bin_start": 4.8306861555,
            "bin_end": 9.661372311,
            "count": 0
           },
           {
            "bin_start": 9.661372311,
            "bin_end": 14.492058466499998,
            "count": 1
           },
           {
            "bin_start": 14.492058466499998,
            "bin_end": 19.322744622,
            "count": 0
           },
           {
            "bin_start": 19.322744622,
            "bin_end": 24.1534307775,
            "count": 1
           },
           {
            "bin_start": 24.1534307775,
            "bin_end": 28.984116932999996,
            "count": 0
           },
           {
            "bin_start": 28.984116932999996,
            "bin_end": 33.8148030885,
            "count": 0
           },
           {
            "bin_start": 33.8148030885,
            "bin_end": 38.645489244,
            "count": 0
           },
           {
            "bin_start": 38.645489244,
            "bin_end": 43.47617539949999,
            "count": 0
           },
           {
            "bin_start": 43.47617539949999,
            "bin_end": 48.306861555,
            "count": 1
           }
          ]
         }
        },
        {
         "name": "Ethiopia",
         "dtype": "float64",
         "stats": {
          "unique_count": 5,
          "nan_count": 0,
          "min": "0.0",
          "max": "1900.0",
          "histogram": [
           {
            "bin_start": 0,
            "bin_end": 190,
            "count": 7
           },
           {
            "bin_start": 190,
            "bin_end": 380,
            "count": 1
           },
           {
            "bin_start": 380,
            "bin_end": 570,
            "count": 0
           },
           {
            "bin_start": 570,
            "bin_end": 760,
            "count": 1
           },
           {
            "bin_start": 760,
            "bin_end": 950,
            "count": 0
           },
           {
            "bin_start": 950,
            "bin_end": 1140,
            "count": 0
           },
           {
            "bin_start": 1140,
            "bin_end": 1330,
            "count": 0
           },
           {
            "bin_start": 1330,
            "bin_end": 1520,
            "count": 0
           },
           {
            "bin_start": 1520,
            "bin_end": 1710,
            "count": 0
           },
           {
            "bin_start": 1710,
            "bin_end": 1900,
            "count": 1
           }
          ]
         }
        },
        {
         "name": "Fmr. Sudan",
         "dtype": "float64",
         "stats": {
          "unique_count": 1,
          "nan_count": 0,
          "min": "0.0",
          "max": "0.0",
          "histogram": [
           {
            "bin_start": -0.5,
            "bin_end": -0.4,
            "count": 0
           },
           {
            "bin_start": -0.4,
            "bin_end": -0.3,
            "count": 0
           },
           {
            "bin_start": -0.3,
            "bin_end": -0.19999999999999996,
            "count": 0
           },
           {
            "bin_start": -0.19999999999999996,
            "bin_end": -0.09999999999999998,
            "count": 0
           },
           {
            "bin_start": -0.09999999999999998,
            "bin_end": 0,
            "count": 0
           },
           {
            "bin_start": 0,
            "bin_end": 0.10000000000000009,
            "count": 10
           },
           {
            "bin_start": 0.10000000000000009,
            "bin_end": 0.20000000000000007,
            "count": 0
           },
           {
            "bin_start": 0.20000000000000007,
            "bin_end": 0.30000000000000004,
            "count": 0
           },
           {
            "bin_start": 0.30000000000000004,
            "bin_end": 0.4,
            "count": 0
           },
           {
            "bin_start": 0.4,
            "bin_end": 0.5,
            "count": 0
           }
          ]
         }
        },
        {
         "name": "Gabon",
         "dtype": "float64",
         "stats": {
          "unique_count": 9,
          "nan_count": 0,
          "min": "0.0",
          "max": "326.65811477999904",
          "histogram": [
           {
            "bin_start": 0,
            "bin_end": 32.6658114779999,
            "count": 9
           },
           {
            "bin_start": 32.6658114779999,
            "bin_end": 65.3316229559998,
            "count": 0
           },
           {
            "bin_start": 65.3316229559998,
            "bin_end": 97.9974344339997,
            "count": 0
           },
           {
            "bin_start": 97.9974344339997,
            "bin_end": 130.6632459119996,
            "count": 0
           },
           {
            "bin_start": 130.6632459119996,
            "bin_end": 163.32905738999952,
            "count": 0
           },
           {
            "bin_start": 163.32905738999952,
            "bin_end": 195.9948688679994,
            "count": 0
           },
           {
            "bin_start": 195.9948688679994,
            "bin_end": 228.6606803459993,
            "count": 0
           },
           {
            "bin_start": 228.6606803459993,
            "bin_end": 261.3264918239992,
            "count": 0
           },
           {
            "bin_start": 261.3264918239992,
            "bin_end": 293.99230330199913,
            "count": 0
           },
           {
            "bin_start": 293.99230330199913,
            "bin_end": 326.65811477999904,
            "count": 1
           }
          ]
         }
        },
        {
         "name": "The Gambia",
         "dtype": "float64",
         "stats": {
          "unique_count": 1,
          "nan_count": 0,
          "min": "0.0",
          "max": "0.0",
          "histogram": [
           {
            "bin_start": -0.5,
            "bin_end": -0.4,
            "count": 0
           },
           {
            "bin_start": -0.4,
            "bin_end": -0.3,
            "count": 0
           },
           {
            "bin_start": -0.3,
            "bin_end": -0.19999999999999996,
            "count": 0
           },
           {
            "bin_start": -0.19999999999999996,
            "bin_end": -0.09999999999999998,
            "count": 0
           },
           {
            "bin_start": -0.09999999999999998,
            "bin_end": 0,
            "count": 0
           },
           {
            "bin_start": 0,
            "bin_end": 0.10000000000000009,
            "count": 10
           },
           {
            "bin_start": 0.10000000000000009,
            "bin_end": 0.20000000000000007,
            "count": 0
           },
           {
            "bin_start": 0.20000000000000007,
            "bin_end": 0.30000000000000004,
            "count": 0
           },
           {
            "bin_start": 0.30000000000000004,
            "bin_end": 0.4,
            "count": 0
           },
           {
            "bin_start": 0.4,
            "bin_end": 0.5,
            "count": 0
           }
          ]
         }
        },
        {
         "name": "Ghana",
         "dtype": "float64",
         "stats": {
          "unique_count": 7,
          "nan_count": 0,
          "min": "0.0",
          "max": "636.1",
          "histogram": [
           {
            "bin_start": 0,
            "bin_end": 63.61,
            "count": 7
           },
           {
            "bin_start": 63.61,
            "bin_end": 127.22,
            "count": 1
           },
           {
            "bin_start": 127.22,
            "bin_end": 190.82999999999998,
            "count": 0
           },
           {
            "bin_start": 190.82999999999998,
            "bin_end": 254.44,
            "count": 1
           },
           {
            "bin_start": 254.44,
            "bin_end": 318.05,
            "count": 0
           },
           {
            "bin_start": 318.05,
            "bin_end": 381.65999999999997,
            "count": 0
           },
           {
            "bin_start": 381.65999999999997,
            "bin_end": 445.27,
            "count": 0
           },
           {
            "bin_start": 445.27,
            "bin_end": 508.88,
            "count": 0
           },
           {
            "bin_start": 508.88,
            "bin_end": 572.49,
            "count": 0
           },
           {
            "bin_start": 572.49,
            "bin_end": 636.1,
            "count": 1
           }
          ]
         }
        },
        {
         "name": "Guinea",
         "dtype": "float64",
         "stats": {
          "unique_count": 5,
          "nan_count": 0,
          "min": "0.0",
          "max": "50.975",
          "histogram": [
           {
            "bin_start": 0,
            "bin_end": 5.0975,
            "count": 7
           },
           {
            "bin_start": 5.0975,
            "bin_end": 10.195,
            "count": 1
           },
           {
            "bin_start": 10.195,
            "bin_end": 15.2925,
            "count": 1
           },
           {
            "bin_start": 15.2925,
            "bin_end": 20.39,
            "count": 0
           },
           {
            "bin_start": 20.39,
            "bin_end": 25.4875,
            "count": 0
           },
           {
            "bin_start": 25.4875,
            "bin_end": 30.585,
            "count": 0
           },
           {
            "bin_start": 30.585,
            "bin_end": 35.682500000000005,
            "count": 0
           },
           {
            "bin_start": 35.682500000000005,
            "bin_end": 40.78,
            "count": 0
           },
           {
            "bin_start": 40.78,
            "bin_end": 45.8775,
            "count": 0
           },
           {
            "bin_start": 45.8775,
            "bin_end": 50.975,
            "count": 1
           }
          ]
         }
        },
        {
         "name": "Guinea-Bissau",
         "dtype": "float64",
         "stats": {
          "unique_count": 1,
          "nan_count": 0,
          "min": "0.0",
          "max": "0.0",
          "histogram": [
           {
            "bin_start": -0.5,
            "bin_end": -0.4,
            "count": 0
           },
           {
            "bin_start": -0.4,
            "bin_end": -0.3,
            "count": 0
           },
           {
            "bin_start": -0.3,
            "bin_end": -0.19999999999999996,
            "count": 0
           },
           {
            "bin_start": -0.19999999999999996,
            "bin_end": -0.09999999999999998,
            "count": 0
           },
           {
            "bin_start": -0.09999999999999998,
            "bin_end": 0,
            "count": 0
           },
           {
            "bin_start": 0,
            "bin_end": 0.10000000000000009,
            "count": 10
           },
           {
            "bin_start": 0.10000000000000009,
            "bin_end": 0.20000000000000007,
            "count": 0
           },
           {
            "bin_start": 0.20000000000000007,
            "bin_end": 0.30000000000000004,
            "count": 0
           },
           {
            "bin_start": 0.30000000000000004,
            "bin_end": 0.4,
            "count": 0
           },
           {
            "bin_start": 0.4,
            "bin_end": 0.5,
            "count": 0
           }
          ]
         }
        },
        {
         "name": "Kenya",
         "dtype": "float64",
         "stats": {
          "unique_count": 7,
          "nan_count": 0,
          "min": "0.0",
          "max": "249.74183575",
          "histogram": [
           {
            "bin_start": 0,
            "bin_end": 24.974183575,
            "count": 6
           },
           {
            "bin_start": 24.974183575,
            "bin_end": 49.94836715,
            "count": 1
           },
           {
            "bin_start": 49.94836715,
            "bin_end": 74.92255072500001,
            "count": 1
           },
           {
            "bin_start": 74.92255072500001,
            "bin_end": 99.8967343,
            "count": 0
           },
           {
            "bin_start": 99.8967343,
            "bin_end": 124.870917875,
            "count": 0
           },
           {
            "bin_start": 124.870917875,
            "bin_end": 149.84510145000002,
            "count": 0
           },
           {
            "bin_start": 149.84510145000002,
            "bin_end": 174.819285025,
            "count": 1
           },
           {
            "bin_start": 174.819285025,
            "bin_end": 199.7934686,
            "count": 0
           },
           {
            "bin_start": 199.7934686,
            "bin_end": 224.76765217500002,
            "count": 0
           },
           {
            "bin_start": 224.76765217500002,
            "bin_end": 249.74183575,
            "count": 1
           }
          ]
         }
        },
        {
         "name": "Lesotho",
         "dtype": "float64",
         "stats": {
          "unique_count": 2,
          "nan_count": 0,
          "min": "0.0",
          "max": "9.0",
          "histogram": [
           {
            "bin_start": 0,
            "bin_end": 0.9,
            "count": 9
           },
           {
            "bin_start": 0.9,
            "bin_end": 1.8,
            "count": 0
           },
           {
            "bin_start": 1.8,
            "bin_end": 2.7,
            "count": 0
           },
           {
            "bin_start": 2.7,
            "bin_end": 3.6,
            "count": 0
           },
           {
            "bin_start": 3.6,
            "bin_end": 4.5,
            "count": 0
           },
           {
            "bin_start": 4.5,
            "bin_end": 5.4,
            "count": 0
           },
           {
            "bin_start": 5.4,
            "bin_end": 6.3,
            "count": 0
           },
           {
            "bin_start": 6.3,
            "bin_end": 7.2,
            "count": 0
           },
           {
            "bin_start": 7.2,
            "bin_end": 8.1,
            "count": 0
           },
           {
            "bin_start": 8.1,
            "bin_end": 9,
            "count": 1
           }
          ]
         }
        },
        {
         "name": "Liberia",
         "dtype": "float64",
         "stats": {
          "unique_count": 2,
          "nan_count": 0,
          "min": "0.0",
          "max": "5.0",
          "histogram": [
           {
            "bin_start": 0,
            "bin_end": 0.5,
            "count": 9
           },
           {
            "bin_start": 0.5,
            "bin_end": 1,
            "count": 0
           },
           {
            "bin_start": 1,
            "bin_end": 1.5,
            "count": 0
           },
           {
            "bin_start": 1.5,
            "bin_end": 2,
            "count": 0
           },
           {
            "bin_start": 2,
            "bin_end": 2.5,
            "count": 0
           },
           {
            "bin_start": 2.5,
            "bin_end": 3,
            "count": 0
           },
           {
            "bin_start": 3,
            "bin_end": 3.5,
            "count": 0
           },
           {
            "bin_start": 3.5,
            "bin_end": 4,
            "count": 0
           },
           {
            "bin_start": 4,
            "bin_end": 4.5,
            "count": 0
           },
           {
            "bin_start": 4.5,
            "bin_end": 5,
            "count": 1
           }
          ]
         }
        },
        {
         "name": "Libya",
         "dtype": "float64",
         "stats": {
          "unique_count": 1,
          "nan_count": 0,
          "min": "0.0",
          "max": "0.0",
          "histogram": [
           {
            "bin_start": -0.5,
            "bin_end": -0.4,
            "count": 0
           },
           {
            "bin_start": -0.4,
            "bin_end": -0.3,
            "count": 0
           },
           {
            "bin_start": -0.3,
            "bin_end": -0.19999999999999996,
            "count": 0
           },
           {
            "bin_start": -0.19999999999999996,
            "bin_end": -0.09999999999999998,
            "count": 0
           },
           {
            "bin_start": -0.09999999999999998,
            "bin_end": 0,
            "count": 0
           },
           {
            "bin_start": 0,
            "bin_end": 0.10000000000000009,
            "count": 10
           },
           {
            "bin_start": 0.10000000000000009,
            "bin_end": 0.20000000000000007,
            "count": 0
           },
           {
            "bin_start": 0.20000000000000007,
            "bin_end": 0.30000000000000004,
            "count": 0
           },
           {
            "bin_start": 0.30000000000000004,
            "bin_end": 0.4,
            "count": 0
           },
           {
            "bin_start": 0.4,
            "bin_end": 0.5,
            "count": 0
           }
          ]
         }
        },
        {
         "name": "Madagascar",
         "dtype": "float64",
         "stats": {
          "unique_count": 3,
          "nan_count": 0,
          "min": "0.0",
          "max": "52.76068567",
          "histogram": [
           {
            "bin_start": 0,
            "bin_end": 5.276068567,
            "count": 9
           },
           {
            "bin_start": 5.276068567,
            "bin_end": 10.552137134,
            "count": 0
           },
           {
            "bin_start": 10.552137134,
            "bin_end": 15.828205701000002,
            "count": 0
           },
           {
            "bin_start": 15.828205701000002,
            "bin_end": 21.104274268,
            "count": 0
           },
           {
            "bin_start": 21.104274268,
            "bin_end": 26.380342835,
            "count": 0
           },
           {
            "bin_start": 26.380342835,
            "bin_end": 31.656411402000003,
            "count": 0
           },
           {
            "bin_start": 31.656411402000003,
            "bin_end": 36.932479969,
            "count": 0
           },
           {
            "bin_start": 36.932479969,
            "bin_end": 42.208548536,
            "count": 0
           },
           {
            "bin_start": 42.208548536,
            "bin_end": 47.484617103000005,
            "count": 0
           },
           {
            "bin_start": 47.484617103000005,
            "bin_end": 52.76068567,
            "count": 1
           }
          ]
         }
        },
        {
         "name": "Malawi",
         "dtype": "float64",
         "stats": {
          "unique_count": 2,
          "nan_count": 0,
          "min": "0.0",
          "max": "90.0",
          "histogram": [
           {
            "bin_start": 0,
            "bin_end": 9,
            "count": 9
           },
           {
            "bin_start": 9,
            "bin_end": 18,
            "count": 0
           },
           {
            "bin_start": 18,
            "bin_end": 27,
            "count": 0
           },
           {
            "bin_start": 27,
            "bin_end": 36,
            "count": 0
           },
           {
            "bin_start": 36,
            "bin_end": 45,
            "count": 0
           },
           {
            "bin_start": 45,
            "bin_end": 54,
            "count": 0
           },
           {
            "bin_start": 54,
            "bin_end": 63,
            "count": 0
           },
           {
            "bin_start": 63,
            "bin_end": 72,
            "count": 0
           },
           {
            "bin_start": 72,
            "bin_end": 81,
            "count": 0
           },
           {
            "bin_start": 81,
            "bin_end": 90,
            "count": 1
           }
          ]
         }
        },
        {
         "name": "Mali",
         "dtype": "float64",
         "stats": {
          "unique_count": 3,
          "nan_count": 0,
          "min": "0.0",
          "max": "29.3018826",
          "histogram": [
           {
            "bin_start": 0,
            "bin_end": 2.93018826,
            "count": 8
           },
           {
            "bin_start": 2.93018826,
            "bin_end": 5.86037652,
            "count": 0
           },
           {
            "bin_start": 5.86037652,
            "bin_end": 8.79056478,
            "count": 0
           },
           {
            "bin_start": 8.79056478,
            "bin_end": 11.72075304,
            "count": 0
           },
           {
            "bin_start": 11.72075304,
            "bin_end": 14.6509413,
            "count": 0
           },
           {
            "bin_start": 14.6509413,
            "bin_end": 17.58112956,
            "count": 0
           },
           {
            "bin_start": 17.58112956,
            "bin_end": 20.51131782,
            "count": 1
           },
           {
            "bin_start": 20.51131782,
            "bin_end": 23.44150608,
            "count": 0
           },
           {
            "bin_start": 23.44150608,
            "bin_end": 26.37169434,
            "count": 0
           },
           {
            "bin_start": 26.37169434,
            "bin_end": 29.3018826,
            "count": 1
           }
          ]
         }
        },
        {
         "name": "Mauritania",
         "dtype": "float64",
         "stats": {
          "unique_count": 3,
          "nan_count": 0,
          "min": "0.0",
          "max": "292.9523",
          "histogram": [
           {
            "bin_start": 0,
            "bin_end": 29.295229999999997,
            "count": 9
           },
           {
            "bin_start": 29.295229999999997,
            "bin_end": 58.59045999999999,
            "count": 0
           },
           {
            "bin_start": 58.59045999999999,
            "bin_end": 87.88568999999998,
            "count": 0
           },
           {
            "bin_start": 87.88568999999998,
            "bin_end": 117.18091999999999,
            "count": 0
           },
           {
            "bin_start": 117.18091999999999,
            "bin_end": 146.47615,
            "count": 0
           },
           {
            "bin_start": 146.47615,
            "bin_end": 175.77137999999997,
            "count": 0
           },
           {
            "bin_start": 175.77137999999997,
            "bin_end": 205.06660999999997,
            "count": 0
           },
           {
            "bin_start": 205.06660999999997,
            "bin_end": 234.36183999999997,
            "count": 0
           },
           {
            "bin_start": 234.36183999999997,
            "bin_end": 263.65707,
            "count": 0
           },
           {
            "bin_start": 263.65707,
            "bin_end": 292.9523,
            "count": 1
           }
          ]
         }
        },
        {
         "name": "Mauritius",
         "dtype": "float64",
         "stats": {
          "unique_count": 10,
          "nan_count": 0,
          "min": "2.4164804",
          "max": "280.63995429649987",
          "histogram": [
           {
            "bin_start": 2.4164804,
            "bin_end": 30.238827789649985,
            "count": 8
           },
           {
            "bin_start": 30.238827789649985,
            "bin_end": 58.061175179299966,
            "count": 1
           },
           {
            "bin_start": 58.061175179299966,
            "bin_end": 85.88352256894994,
            "count": 0
           },
           {
            "bin_start": 85.88352256894994,
            "bin_end": 113.70586995859993,
            "count": 0
           },
           {
            "bin_start": 113.70586995859993,
            "bin_end": 141.52821734824994,
            "count": 0
           },
           {
            "bin_start": 141.52821734824994,
            "bin_end": 169.3505647378999,
            "count": 0
           },
           {
            "bin_start": 169.3505647378999,
            "bin_end": 197.1729121275499,
            "count": 0
           },
           {
            "bin_start": 197.1729121275499,
            "bin_end": 224.99525951719988,
            "count": 0
           },
           {
            "bin_start": 224.99525951719988,
            "bin_end": 252.81760690684987,
            "count": 0
           },
           {
            "bin_start": 252.81760690684987,
            "bin_end": 280.63995429649987,
            "count": 1
           }
          ]
         }
        },
        {
         "name": "Morocco",
         "dtype": "float64",
         "stats": {
          "unique_count": 6,
          "nan_count": 0,
          "min": "0.0",
          "max": "514.963678",
          "histogram": [
           {
            "bin_start": 0,
            "bin_end": 51.496367799999994,
            "count": 9
           },
           {
            "bin_start": 51.496367799999994,
            "bin_end": 102.99273559999999,
            "count": 0
           },
           {
            "bin_start": 102.99273559999999,
            "bin_end": 154.48910339999998,
            "count": 0
           },
           {
            "bin_start": 154.48910339999998,
            "bin_end": 205.98547119999998,
            "count": 0
           },
           {
            "bin_start": 205.98547119999998,
            "bin_end": 257.481839,
            "count": 0
           },
           {
            "bin_start": 257.481839,
            "bin_end": 308.97820679999995,
            "count": 0
           },
           {
            "bin_start": 308.97820679999995,
            "bin_end": 360.4745746,
            "count": 0
           },
           {
            "bin_start": 360.4745746,
            "bin_end": 411.97094239999996,
            "count": 0
           },
           {
            "bin_start": 411.97094239999996,
            "bin_end": 463.46731019999993,
            "count": 0
           },
           {
            "bin_start": 463.46731019999993,
            "bin_end": 514.963678,
            "count": 1
           }
          ]
         }
        },
        {
         "name": "Mozambique",
         "dtype": "float64",
         "stats": {
          "unique_count": 5,
          "nan_count": 0,
          "min": "0.0",
          "max": "117.0",
          "histogram": [
           {
            "bin_start": 0,
            "bin_end": 11.7,
            "count": 7
           },
           {
            "bin_start": 11.7,
            "bin_end": 23.4,
            "count": 0
           },
           {
            "bin_start": 23.4,
            "bin_end": 35.099999999999994,
            "count": 0
           },
           {
            "bin_start": 35.099999999999994,
            "bin_end": 46.8,
            "count": 0
           },
           {
            "bin_start": 46.8,
            "bin_end": 58.5,
            "count": 1
           },
           {
            "bin_start": 58.5,
            "bin_end": 70.19999999999999,
            "count": 1
           },
           {
            "bin_start": 70.19999999999999,
            "bin_end": 81.89999999999999,
            "count": 0
           },
           {
            "bin_start": 81.89999999999999,
            "bin_end": 93.6,
            "count": 0
           },
           {
            "bin_start": 93.6,
            "bin_end": 105.3,
            "count": 0
           },
           {
            "bin_start": 105.3,
            "bin_end": 117,
            "count": 1
           }
          ]
         }
        },
        {
         "name": "Namibia",
         "dtype": "float64",
         "stats": {
          "unique_count": 7,
          "nan_count": 0,
          "min": "0.0",
          "max": "47.972149726999895",
          "histogram": [
           {
            "bin_start": 0,
            "bin_end": 4.797214972699989,
            "count": 6
           },
           {
            "bin_start": 4.797214972699989,
            "bin_end": 9.594429945399979,
            "count": 1
           },
           {
            "bin_start": 9.594429945399979,
            "bin_end": 14.391644918099967,
            "count": 0
           },
           {
            "bin_start": 14.391644918099967,
            "bin_end": 19.188859890799957,
            "count": 0
           },
           {
            "bin_start": 19.188859890799957,
            "bin_end": 23.986074863499947,
            "count": 0
           },
           {
            "bin_start": 23.986074863499947,
            "bin_end": 28.783289836199934,
            "count": 1
           },
           {
            "bin_start": 28.783289836199934,
            "bin_end": 33.580504808899924,
            "count": 0
           },
           {
            "bin_start": 33.580504808899924,
            "bin_end": 38.377719781599914,
            "count": 1
           },
           {
            "bin_start": 38.377719781599914,
            "bin_end": 43.174934754299905,
            "count": 0
           },
           {
            "bin_start": 43.174934754299905,
            "bin_end": 47.972149726999895,
            "count": 1
           }
          ]
         }
        },
        {
         "name": "Niger",
         "dtype": "float64",
         "stats": {
          "unique_count": 2,
          "nan_count": 0,
          "min": "0.0",
          "max": "352.0",
          "histogram": [
           {
            "bin_start": 0,
            "bin_end": 35.2,
            "count": 9
           },
           {
            "bin_start": 35.2,
            "bin_end": 70.4,
            "count": 0
           },
           {
            "bin_start": 70.4,
            "bin_end": 105.60000000000001,
            "count": 0
           },
           {
            "bin_start": 105.60000000000001,
            "bin_end": 140.8,
            "count": 0
           },
           {
            "bin_start": 140.8,
            "bin_end": 176,
            "count": 0
           },
           {
            "bin_start": 176,
            "bin_end": 211.20000000000002,
            "count": 0
           },
           {
            "bin_start": 211.20000000000002,
            "bin_end": 246.40000000000003,
            "count": 0
           },
           {
            "bin_start": 246.40000000000003,
            "bin_end": 281.6,
            "count": 0
           },
           {
            "bin_start": 281.6,
            "bin_end": 316.8,
            "count": 0
           },
           {
            "bin_start": 316.8,
            "bin_end": 352,
            "count": 1
           }
          ]
         }
        },
        {
         "name": "Nigeria",
         "dtype": "float64",
         "stats": {
          "unique_count": 3,
          "nan_count": 0,
          "min": "0.0",
          "max": "389.52",
          "histogram": [
           {
            "bin_start": 0,
            "bin_end": 38.952,
            "count": 8
           },
           {
            "bin_start": 38.952,
            "bin_end": 77.904,
            "count": 0
           },
           {
            "bin_start": 77.904,
            "bin_end": 116.856,
            "count": 0
           },
           {
            "bin_start": 116.856,
            "bin_end": 155.808,
            "count": 0
           },
           {
            "bin_start": 155.808,
            "bin_end": 194.76,
            "count": 0
           },
           {
            "bin_start": 194.76,
            "bin_end": 233.712,
            "count": 1
           },
           {
            "bin_start": 233.712,
            "bin_end": 272.664,
            "count": 0
           },
           {
            "bin_start": 272.664,
            "bin_end": 311.616,
            "count": 0
           },
           {
            "bin_start": 311.616,
            "bin_end": 350.568,
            "count": 0
           },
           {
            "bin_start": 350.568,
            "bin_end": 389.52,
            "count": 1
           }
          ]
         }
        },
        {
         "name": "Rwanda",
         "dtype": "float64",
         "stats": {
          "unique_count": 4,
          "nan_count": 0,
          "min": "0.0",
          "max": "36.0",
          "histogram": [
           {
            "bin_start": 0,
            "bin_end": 3.6,
            "count": 8
           },
           {
            "bin_start": 3.6,
            "bin_end": 7.2,
            "count": 1
           },
           {
            "bin_start": 7.2,
            "bin_end": 10.8,
            "count": 0
           },
           {
            "bin_start": 10.8,
            "bin_end": 14.4,
            "count": 0
           },
           {
            "bin_start": 14.4,
            "bin_end": 18,
            "count": 0
           },
           {
            "bin_start": 18,
            "bin_end": 21.6,
            "count": 0
           },
           {
            "bin_start": 21.6,
            "bin_end": 25.2,
            "count": 0
           },
           {
            "bin_start": 25.2,
            "bin_end": 28.8,
            "count": 0
           },
           {
            "bin_start": 28.8,
            "bin_end": 32.4,
            "count": 0
           },
           {
            "bin_start": 32.4,
            "bin_end": 36,
            "count": 1
           }
          ]
         }
        },
        {
         "name": "Sao Tome & Principe",
         "dtype": "float64",
         "stats": {
          "unique_count": 1,
          "nan_count": 0,
          "min": "0.0",
          "max": "0.0",
          "histogram": [
           {
            "bin_start": -0.5,
            "bin_end": -0.4,
            "count": 0
           },
           {
            "bin_start": -0.4,
            "bin_end": -0.3,
            "count": 0
           },
           {
            "bin_start": -0.3,
            "bin_end": -0.19999999999999996,
            "count": 0
           },
           {
            "bin_start": -0.19999999999999996,
            "bin_end": -0.09999999999999998,
            "count": 0
           },
           {
            "bin_start": -0.09999999999999998,
            "bin_end": 0,
            "count": 0
           },
           {
            "bin_start": 0,
            "bin_end": 0.10000000000000009,
            "count": 10
           },
           {
            "bin_start": 0.10000000000000009,
            "bin_end": 0.20000000000000007,
            "count": 0
           },
           {
            "bin_start": 0.20000000000000007,
            "bin_end": 0.30000000000000004,
            "count": 0
           },
           {
            "bin_start": 0.30000000000000004,
            "bin_end": 0.4,
            "count": 0
           },
           {
            "bin_start": 0.4,
            "bin_end": 0.5,
            "count": 0
           }
          ]
         }
        },
        {
         "name": "Senegal",
         "dtype": "float64",
         "stats": {
          "unique_count": 4,
          "nan_count": 0,
          "min": "0.0",
          "max": "60.78760225",
          "histogram": [
           {
            "bin_start": 0,
            "bin_end": 6.078760225,
            "count": 7
           },
           {
            "bin_start": 6.078760225,
            "bin_end": 12.15752045,
            "count": 0
           },
           {
            "bin_start": 12.15752045,
            "bin_end": 18.236280675,
            "count": 0
           },
           {
            "bin_start": 18.236280675,
            "bin_end": 24.3150409,
            "count": 0
           },
           {
            "bin_start": 24.3150409,
            "bin_end": 30.393801125,
            "count": 0
           },
           {
            "bin_start": 30.393801125,
            "bin_end": 36.47256135,
            "count": 0
           },
           {
            "bin_start": 36.47256135,
            "bin_end": 42.551321575,
            "count": 0
           },
           {
            "bin_start": 42.551321575,
            "bin_end": 48.6300818,
            "count": 0
           },
           {
            "bin_start": 48.6300818,
            "bin_end": 54.708842024999996,
            "count": 2
           },
           {
            "bin_start": 54.708842024999996,
            "bin_end": 60.78760225,
            "count": 1
           }
          ]
         }
        },
        {
         "name": "Seychelles",
         "dtype": "float64",
         "stats": {
          "unique_count": 4,
          "nan_count": 0,
          "min": "0.0",
          "max": "21.241209174999888",
          "histogram": [
           {
            "bin_start": 0,
            "bin_end": 2.124120917499989,
            "count": 8
           },
           {
            "bin_start": 2.124120917499989,
            "bin_end": 4.248241834999978,
            "count": 0
           },
           {
            "bin_start": 4.248241834999978,
            "bin_end": 6.372362752499967,
            "count": 0
           },
           {
            "bin_start": 6.372362752499967,
            "bin_end": 8.496483669999956,
            "count": 0
           },
           {
            "bin_start": 8.496483669999956,
            "bin_end": 10.620604587499944,
            "count": 0
           },
           {
            "bin_start": 10.620604587499944,
            "bin_end": 12.744725504999934,
            "count": 1
           },
           {
            "bin_start": 12.744725504999934,
            "bin_end": 14.868846422499923,
            "count": 0
           },
           {
            "bin_start": 14.868846422499923,
            "bin_end": 16.99296733999991,
            "count": 0
           },
           {
            "bin_start": 16.99296733999991,
            "bin_end": 19.1170882574999,
            "count": 0
           },
           {
            "bin_start": 19.1170882574999,
            "bin_end": 21.241209174999888,
            "count": 1
           }
          ]
         }
        },
        {
         "name": "Sierra Leone",
         "dtype": "float64",
         "stats": {
          "unique_count": 3,
          "nan_count": 0,
          "min": "0.0",
          "max": "17.0401404809999",
          "histogram": [
           {
            "bin_start": 0,
            "bin_end": 1.70401404809999,
            "count": 8
           },
           {
            "bin_start": 1.70401404809999,
            "bin_end": 3.40802809619998,
            "count": 1
           },
           {
            "bin_start": 3.40802809619998,
            "bin_end": 5.11204214429997,
            "count": 0
           },
           {
            "bin_start": 5.11204214429997,
            "bin_end": 6.81605619239996,
            "count": 0
           },
           {
            "bin_start": 6.81605619239996,
            "bin_end": 8.52007024049995,
            "count": 0
           },
           {
            "bin_start": 8.52007024049995,
            "bin_end": 10.22408428859994,
            "count": 0
           },
           {
            "bin_start": 10.22408428859994,
            "bin_end": 11.928098336699929,
            "count": 0
           },
           {
            "bin_start": 11.928098336699929,
            "bin_end": 13.63211238479992,
            "count": 0
           },
           {
            "bin_start": 13.63211238479992,
            "bin_end": 15.33612643289991,
            "count": 0
           },
           {
            "bin_start": 15.33612643289991,
            "bin_end": 17.0401404809999,
            "count": 1
           }
          ]
         }
        },
        {
         "name": "Somalia",
         "dtype": "float64",
         "stats": {
          "unique_count": 1,
          "nan_count": 0,
          "min": "0.0",
          "max": "0.0",
          "histogram": [
           {
            "bin_start": -0.5,
            "bin_end": -0.4,
            "count": 0
           },
           {
            "bin_start": -0.4,
            "bin_end": -0.3,
            "count": 0
           },
           {
            "bin_start": -0.3,
            "bin_end": -0.19999999999999996,
            "count": 0
           },
           {
            "bin_start": -0.19999999999999996,
            "bin_end": -0.09999999999999998,
            "count": 0
           },
           {
            "bin_start": -0.09999999999999998,
            "bin_end": 0,
            "count": 0
           },
           {
            "bin_start": 0,
            "bin_end": 0.10000000000000009,
            "count": 10
           },
           {
            "bin_start": 0.10000000000000009,
            "bin_end": 0.20000000000000007,
            "count": 0
           },
           {
            "bin_start": 0.20000000000000007,
            "bin_end": 0.30000000000000004,
            "count": 0
           },
           {
            "bin_start": 0.30000000000000004,
            "bin_end": 0.4,
            "count": 0
           },
           {
            "bin_start": 0.4,
            "bin_end": 0.5,
            "count": 0
           }
          ]
         }
        },
        {
         "name": "South Africa",
         "dtype": "float64",
         "stats": {
          "unique_count": 6,
          "nan_count": 0,
          "min": "0.0",
          "max": "73.0",
          "histogram": [
           {
            "bin_start": 0,
            "bin_end": 7.3,
            "count": 5
           },
           {
            "bin_start": 7.3,
            "bin_end": 14.6,
            "count": 0
           },
           {
            "bin_start": 14.6,
            "bin_end": 21.9,
            "count": 0
           },
           {
            "bin_start": 21.9,
            "bin_end": 29.2,
            "count": 1
           },
           {
            "bin_start": 29.2,
            "bin_end": 36.5,
            "count": 1
           },
           {
            "bin_start": 36.5,
            "bin_end": 43.8,
            "count": 1
           },
           {
            "bin_start": 43.8,
            "bin_end": 51.1,
            "count": 0
           },
           {
            "bin_start": 51.1,
            "bin_end": 58.4,
            "count": 1
           },
           {
            "bin_start": 58.4,
            "bin_end": 65.7,
            "count": 0
           },
           {
            "bin_start": 65.7,
            "bin_end": 73,
            "count": 1
           }
          ]
         }
        },
        {
         "name": "South Sudan",
         "dtype": "float64",
         "stats": {
          "unique_count": 1,
          "nan_count": 0,
          "min": "0.0",
          "max": "0.0",
          "histogram": [
           {
            "bin_start": -0.5,
            "bin_end": -0.4,
            "count": 0
           },
           {
            "bin_start": -0.4,
            "bin_end": -0.3,
            "count": 0
           },
           {
            "bin_start": -0.3,
            "bin_end": -0.19999999999999996,
            "count": 0
           },
           {
            "bin_start": -0.19999999999999996,
            "bin_end": -0.09999999999999998,
            "count": 0
           },
           {
            "bin_start": -0.09999999999999998,
            "bin_end": 0,
            "count": 0
           },
           {
            "bin_start": 0,
            "bin_end": 0.10000000000000009,
            "count": 10
           },
           {
            "bin_start": 0.10000000000000009,
            "bin_end": 0.20000000000000007,
            "count": 0
           },
           {
            "bin_start": 0.20000000000000007,
            "bin_end": 0.30000000000000004,
            "count": 0
           },
           {
            "bin_start": 0.30000000000000004,
            "bin_end": 0.4,
            "count": 0
           },
           {
            "bin_start": 0.4,
            "bin_end": 0.5,
            "count": 0
           }
          ]
         }
        },
        {
         "name": "Sudan",
         "dtype": "float64",
         "stats": {
          "unique_count": 10,
          "nan_count": 0,
          "min": "0.0",
          "max": "1890.518092",
          "histogram": [
           {
            "bin_start": 0,
            "bin_end": 189.0518092,
            "count": 4
           },
           {
            "bin_start": 189.0518092,
            "bin_end": 378.1036184,
            "count": 3
           },
           {
            "bin_start": 378.1036184,
            "bin_end": 567.1554276,
            "count": 0
           },
           {
            "bin_start": 567.1554276,
            "bin_end": 756.2072368,
            "count": 0
           },
           {
            "bin_start": 756.2072368,
            "bin_end": 945.259046,
            "count": 0
           },
           {
            "bin_start": 945.259046,
            "bin_end": 1134.3108552,
            "count": 1
           },
           {
            "bin_start": 1134.3108552,
            "bin_end": 1323.3626644,
            "count": 1
           },
           {
            "bin_start": 1323.3626644,
            "bin_end": 1512.4144736,
            "count": 0
           },
           {
            "bin_start": 1512.4144736,
            "bin_end": 1701.4662828,
            "count": 0
           },
           {
            "bin_start": 1701.4662828,
            "bin_end": 1890.518092,
            "count": 1
           }
          ]
         }
        },
        {
         "name": "Swaziland",
         "dtype": "float64",
         "stats": {
          "unique_count": 1,
          "nan_count": 0,
          "min": "0.0",
          "max": "0.0",
          "histogram": [
           {
            "bin_start": -0.5,
            "bin_end": -0.4,
            "count": 0
           },
           {
            "bin_start": -0.4,
            "bin_end": -0.3,
            "count": 0
           },
           {
            "bin_start": -0.3,
            "bin_end": -0.19999999999999996,
            "count": 0
           },
           {
            "bin_start": -0.19999999999999996,
            "bin_end": -0.09999999999999998,
            "count": 0
           },
           {
            "bin_start": -0.09999999999999998,
            "bin_end": 0,
            "count": 0
           },
           {
            "bin_start": 0,
            "bin_end": 0.10000000000000009,
            "count": 10
           },
           {
            "bin_start": 0.10000000000000009,
            "bin_end": 0.20000000000000007,
            "count": 0
           },
           {
            "bin_start": 0.20000000000000007,
            "bin_end": 0.30000000000000004,
            "count": 0
           },
           {
            "bin_start": 0.30000000000000004,
            "bin_end": 0.4,
            "count": 0
           },
           {
            "bin_start": 0.4,
            "bin_end": 0.5,
            "count": 0
           }
          ]
         }
        },
        {
         "name": "Tanzania",
         "dtype": "float64",
         "stats": {
          "unique_count": 4,
          "nan_count": 0,
          "min": "0.0",
          "max": "76.917441825",
          "histogram": [
           {
            "bin_start": 0,
            "bin_end": 7.6917441825,
            "count": 8
           },
           {
            "bin_start": 7.6917441825,
            "bin_end": 15.383488365,
            "count": 1
           },
           {
            "bin_start": 15.383488365,
            "bin_end": 23.0752325475,
            "count": 0
           },
           {
            "bin_start": 23.0752325475,
            "bin_end": 30.76697673,
            "count": 0
           },
           {
            "bin_start": 30.76697673,
            "bin_end": 38.4587209125,
            "count": 0
           },
           {
            "bin_start": 38.4587209125,
            "bin_end": 46.150465095,
            "count": 0
           },
           {
            "bin_start": 46.150465095,
            "bin_end": 53.8422092775,
            "count": 0
           },
           {
            "bin_start": 53.8422092775,
            "bin_end": 61.53395346,
            "count": 0
           },
           {
            "bin_start": 61.53395346,
            "bin_end": 69.2256976425,
            "count": 0
           },
           {
            "bin_start": 69.2256976425,
            "bin_end": 76.917441825,
            "count": 1
           }
          ]
         }
        },
        {
         "name": "Togo",
         "dtype": "float64",
         "stats": {
          "unique_count": 4,
          "nan_count": 0,
          "min": "0.0",
          "max": "119.18441347",
          "histogram": [
           {
            "bin_start": 0,
            "bin_end": 11.918441347,
            "count": 7
           },
           {
            "bin_start": 11.918441347,
            "bin_end": 23.836882694,
            "count": 2
           },
           {
            "bin_start": 23.836882694,
            "bin_end": 35.755324041,
            "count": 0
           },
           {
            "bin_start": 35.755324041,
            "bin_end": 47.673765388,
            "count": 0
           },
           {
            "bin_start": 47.673765388,
            "bin_end": 59.592206735,
            "count": 0
           },
           {
            "bin_start": 59.592206735,
            "bin_end": 71.510648082,
            "count": 0
           },
           {
            "bin_start": 71.510648082,
            "bin_end": 83.429089429,
            "count": 0
           },
           {
            "bin_start": 83.429089429,
            "bin_end": 95.347530776,
            "count": 0
           },
           {
            "bin_start": 95.347530776,
            "bin_end": 107.265972123,
            "count": 0
           },
           {
            "bin_start": 107.265972123,
            "bin_end": 119.18441347,
            "count": 1
           }
          ]
         }
        },
        {
         "name": "Tunisia",
         "dtype": "float64",
         "stats": {
          "unique_count": 6,
          "nan_count": 0,
          "min": "0.0",
          "max": "80.148",
          "histogram": [
           {
            "bin_start": 0,
            "bin_end": 8.0148,
            "count": 7
           },
           {
            "bin_start": 8.0148,
            "bin_end": 16.0296,
            "count": 1
           },
           {
            "bin_start": 16.0296,
            "bin_end": 24.044399999999996,
            "count": 0
           },
           {
            "bin_start": 24.044399999999996,
            "bin_end": 32.0592,
            "count": 0
           },
           {
            "bin_start": 32.0592,
            "bin_end": 40.074,
            "count": 1
           },
           {
            "bin_start": 40.074,
            "bin_end": 48.08879999999999,
            "count": 0
           },
           {
            "bin_start": 48.08879999999999,
            "bin_end": 56.10359999999999,
            "count": 0
           },
           {
            "bin_start": 56.10359999999999,
            "bin_end": 64.1184,
            "count": 0
           },
           {
            "bin_start": 64.1184,
            "bin_end": 72.13319999999999,
            "count": 0
           },
           {
            "bin_start": 72.13319999999999,
            "bin_end": 80.148,
            "count": 1
           }
          ]
         }
        },
        {
         "name": "Uganda",
         "dtype": "float64",
         "stats": {
          "unique_count": 5,
          "nan_count": 0,
          "min": "0.0",
          "max": "69.7226474",
          "histogram": [
           {
            "bin_start": 0,
            "bin_end": 6.97226474,
            "count": 7
           },
           {
            "bin_start": 6.97226474,
            "bin_end": 13.94452948,
            "count": 0
           },
           {
            "bin_start": 13.94452948,
            "bin_end": 20.91679422,
            "count": 0
           },
           {
            "bin_start": 20.91679422,
            "bin_end": 27.88905896,
            "count": 0
           },
           {
            "bin_start": 27.88905896,
            "bin_end": 34.8613237,
            "count": 1
           },
           {
            "bin_start": 34.8613237,
            "bin_end": 41.83358844,
            "count": 1
           },
           {
            "bin_start": 41.83358844,
            "bin_end": 48.80585318,
            "count": 0
           },
           {
            "bin_start": 48.80585318,
            "bin_end": 55.77811792,
            "count": 0
           },
           {
            "bin_start": 55.77811792,
            "bin_end": 62.75038266,
            "count": 0
           },
           {
            "bin_start": 62.75038266,
            "bin_end": 69.7226474,
            "count": 1
           }
          ]
         }
        },
        {
         "name": "Western Sahara",
         "dtype": "float64",
         "stats": {
          "unique_count": 1,
          "nan_count": 0,
          "min": "0.0",
          "max": "0.0",
          "histogram": [
           {
            "bin_start": -0.5,
            "bin_end": -0.4,
            "count": 0
           },
           {
            "bin_start": -0.4,
            "bin_end": -0.3,
            "count": 0
           },
           {
            "bin_start": -0.3,
            "bin_end": -0.19999999999999996,
            "count": 0
           },
           {
            "bin_start": -0.19999999999999996,
            "bin_end": -0.09999999999999998,
            "count": 0
           },
           {
            "bin_start": -0.09999999999999998,
            "bin_end": 0,
            "count": 0
           },
           {
            "bin_start": 0,
            "bin_end": 0.10000000000000009,
            "count": 10
           },
           {
            "bin_start": 0.10000000000000009,
            "bin_end": 0.20000000000000007,
            "count": 0
           },
           {
            "bin_start": 0.20000000000000007,
            "bin_end": 0.30000000000000004,
            "count": 0
           },
           {
            "bin_start": 0.30000000000000004,
            "bin_end": 0.4,
            "count": 0
           },
           {
            "bin_start": 0.4,
            "bin_end": 0.5,
            "count": 0
           }
          ]
         }
        },
        {
         "name": "Zambia",
         "dtype": "float64",
         "stats": {
          "unique_count": 7,
          "nan_count": 0,
          "min": "0.0",
          "max": "315.6",
          "histogram": [
           {
            "bin_start": 0,
            "bin_end": 31.560000000000002,
            "count": 6
           },
           {
            "bin_start": 31.560000000000002,
            "bin_end": 63.120000000000005,
            "count": 1
           },
           {
            "bin_start": 63.120000000000005,
            "bin_end": 94.68,
            "count": 1
           },
           {
            "bin_start": 94.68,
            "bin_end": 126.24000000000001,
            "count": 0
           },
           {
            "bin_start": 126.24000000000001,
            "bin_end": 157.8,
            "count": 0
           },
           {
            "bin_start": 157.8,
            "bin_end": 189.36,
            "count": 1
           },
           {
            "bin_start": 189.36,
            "bin_end": 220.92000000000002,
            "count": 0
           },
           {
            "bin_start": 220.92000000000002,
            "bin_end": 252.48000000000002,
            "count": 0
           },
           {
            "bin_start": 252.48000000000002,
            "bin_end": 284.04,
            "count": 0
           },
           {
            "bin_start": 284.04,
            "bin_end": 315.6,
            "count": 1
           }
          ]
         }
        },
        {
         "name": "Zimbabwe",
         "dtype": "float64",
         "stats": {
          "unique_count": 7,
          "nan_count": 0,
          "min": "0.0",
          "max": "375.6242713999999",
          "histogram": [
           {
            "bin_start": 0,
            "bin_end": 37.56242713999999,
            "count": 8
           },
           {
            "bin_start": 37.56242713999999,
            "bin_end": 75.12485427999998,
            "count": 1
           },
           {
            "bin_start": 75.12485427999998,
            "bin_end": 112.68728141999998,
            "count": 0
           },
           {
            "bin_start": 112.68728141999998,
            "bin_end": 150.24970855999996,
            "count": 0
           },
           {
            "bin_start": 150.24970855999996,
            "bin_end": 187.81213569999994,
            "count": 0
           },
           {
            "bin_start": 187.81213569999994,
            "bin_end": 225.37456283999995,
            "count": 0
           },
           {
            "bin_start": 225.37456283999995,
            "bin_end": 262.9369899799999,
            "count": 0
           },
           {
            "bin_start": 262.9369899799999,
            "bin_end": 300.4994171199999,
            "count": 0
           },
           {
            "bin_start": 300.4994171199999,
            "bin_end": 338.06184425999993,
            "count": 0
           },
           {
            "bin_start": 338.06184425999993,
            "bin_end": 375.6242713999999,
            "count": 1
           }
          ]
         }
        },
        {
         "name": "Unnamed: 58",
         "dtype": "float64",
         "stats": {
          "unique_count": 0,
          "nan_count": 10,
          "min": null,
          "max": null,
          "histogram": [
           {
            "bin_start": 0,
            "bin_end": 0.1,
            "count": 0
           },
           {
            "bin_start": 0.1,
            "bin_end": 0.2,
            "count": 0
           },
           {
            "bin_start": 0.2,
            "bin_end": 0.30000000000000004,
            "count": 0
           },
           {
            "bin_start": 0.30000000000000004,
            "bin_end": 0.4,
            "count": 0
           },
           {
            "bin_start": 0.4,
            "bin_end": 0.5,
            "count": 0
           },
           {
            "bin_start": 0.5,
            "bin_end": 0.6000000000000001,
            "count": 0
           },
           {
            "bin_start": 0.6000000000000001,
            "bin_end": 0.7000000000000001,
            "count": 0
           },
           {
            "bin_start": 0.7000000000000001,
            "bin_end": 0.8,
            "count": 0
           },
           {
            "bin_start": 0.8,
            "bin_end": 0.9,
            "count": 0
           },
           {
            "bin_start": 0.9,
            "bin_end": 1,
            "count": 0
           }
          ]
         }
        },
        {
         "name": "Yearly Sum",
         "dtype": "float64",
         "stats": {
          "unique_count": 10,
          "nan_count": 0,
          "min": "134.17731031609998",
          "max": "6447.5492464465015",
          "histogram": [
           {
            "bin_start": 134.17731031609998,
            "bin_end": 765.5145039291401,
            "count": 3
           },
           {
            "bin_start": 765.5145039291401,
            "bin_end": 1396.85169754218,
            "count": 1
           },
           {
            "bin_start": 1396.85169754218,
            "bin_end": 2028.18889115522,
            "count": 1
           },
           {
            "bin_start": 2028.18889115522,
            "bin_end": 2659.5260847682603,
            "count": 1
           },
           {
            "bin_start": 2659.5260847682603,
            "bin_end": 3290.8632783813005,
            "count": 0
           },
           {
            "bin_start": 3290.8632783813005,
            "bin_end": 3922.20047199434,
            "count": 0
           },
           {
            "bin_start": 3922.20047199434,
            "bin_end": 4553.537665607381,
            "count": 1
           },
           {
            "bin_start": 4553.537665607381,
            "bin_end": 5184.874859220421,
            "count": 1
           },
           {
            "bin_start": 5184.874859220421,
            "bin_end": 5816.212052833461,
            "count": 1
           },
           {
            "bin_start": 5816.212052833461,
            "bin_end": 6447.5492464465015,
            "count": 1
           }
          ]
         }
        },
        {
         "name": "billions",
         "dtype": "float64",
         "stats": {
          "unique_count": 10,
          "nan_count": 0,
          "min": "0.13417731031609997",
          "max": "6.447549246446502",
          "histogram": [
           {
            "bin_start": 0.13417731031609997,
            "bin_end": 0.7655145039291402,
            "count": 3
           },
           {
            "bin_start": 0.7655145039291402,
            "bin_end": 1.3968516975421803,
            "count": 1
           },
           {
            "bin_start": 1.3968516975421803,
            "bin_end": 2.028188891155221,
            "count": 1
           },
           {
            "bin_start": 2.028188891155221,
            "bin_end": 2.659526084768261,
            "count": 1
           },
           {
            "bin_start": 2.659526084768261,
            "bin_end": 3.290863278381301,
            "count": 0
           },
           {
            "bin_start": 3.290863278381301,
            "bin_end": 3.9222004719943415,
            "count": 0
           },
           {
            "bin_start": 3.9222004719943415,
            "bin_end": 4.553537665607381,
            "count": 1
           },
           {
            "bin_start": 4.553537665607381,
            "bin_end": 5.184874859220422,
            "count": 1
           },
           {
            "bin_start": 5.184874859220422,
            "bin_end": 5.816212052833462,
            "count": 1
           },
           {
            "bin_start": 5.816212052833462,
            "bin_end": 6.447549246446502,
            "count": 1
           }
          ]
         }
        },
        {
         "name": "_deepnote_index_column",
         "dtype": "int64"
        }
       ],
       "rows_top": [
        {
         "All Type 1 Loans": "2000",
         "Regional": 0,
         "Algeria": 0,
         "Angola": 0,
         "Benin": 8.87959990049999,
         "Botswana": 2.34864,
         "Burkina Faso": 0,
         "Burundi": 0,
         "Cameroon": 0,
         "Cape Verde": 0,
         "CAR": 0,
         "Chad": 0,
         "Comoros": 0,
         "ROC": 24.1621766,
         "Cote d'Ivoire": 0,
         "Djibouti": 0,
         "DRC": 4.7357866136,
         "Egypt": 0,
         "Equatorial Guinea": 0,
         "Eritrea": 10,
         "Ethiopia": 0,
         "Fmr. Sudan": 0,
         "Gabon": 6.04054415,
         "The Gambia": 0,
         "Ghana": 25.971363046,
         "Guinea": 0,
         "Guinea-Bissau": 0,
         "Kenya": 0,
         "Lesotho": 0,
         "Liberia": 0,
         "Libya": 0,
         "Madagascar": 0,
         "Malawi": 0,
         "Mali": 18.12163245,
         "Mauritania": 0,
         "Mauritius": 20.53785011,
         "Morocco": 3,
         "Mozambique": 0,
         "Namibia": 0,
         "Niger": 0,
         "Nigeria": 0,
         "Rwanda": 0,
         "Sao Tome & Principe": 0,
         "Senegal": 0,
         "Seychelles": 0,
         "Sierra Leone": 0,
         "Somalia": 0,
         "South Africa": 0,
         "South Sudan": 0,
         "Sudan": 0,
         "Swaziland": 0,
         "Tanzania": 0,
         "Togo": 0,
         "Tunisia": 2.8894427,
         "Uganda": 0,
         "Western Sahara": 0,
         "Zambia": 0,
         "Zimbabwe": 7.490274746,
         "Unnamed: 58": "nan",
         "Yearly Sum": 134.17731031609998,
         "billions": 0.13417731031609997,
         "_deepnote_index_column": 0
        },
        {
         "All Type 1 Loans": "2001",
         "Regional": 0,
         "Algeria": 0,
         "Angola": 0,
         "Benin": 15.7071226,
         "Botswana": 14.94832159999998,
         "Burkina Faso": 0,
         "Burundi": 0,
         "Cameroon": 0,
         "Cape Verde": 0,
         "CAR": 0,
         "Chad": 0,
         "Comoros": 0,
         "ROC": 4.005339,
         "Cote d'Ivoire": 1.2082402,
         "Djibouti": 0,
         "DRC": 0,
         "Egypt": 0,
         "Equatorial Guinea": 11,
         "Eritrea": 0,
         "Ethiopia": 1,
         "Fmr. Sudan": 0,
         "Gabon": 7.2494412,
         "The Gambia": 0,
         "Ghana": 0,
         "Guinea": 0,
         "Guinea-Bissau": 0,
         "Kenya": 6.041201,
         "Lesotho": 0,
         "Liberia": 0,
         "Libya": 0,
         "Madagascar": 0,
         "Malawi": 0,
         "Mali": 0,
         "Mauritania": 0,
         "Mauritius": 4.8329608,
         "Morocco": 13.04,
         "Mozambique": 11.194345453,
         "Namibia": 0,
         "Niger": 0,
         "Nigeria": 0,
         "Rwanda": 0,
         "Sao Tome & Principe": 0,
         "Senegal": 0,
         "Seychelles": 0,
         "Sierra Leone": 0,
         "Somalia": 0,
         "South Africa": 36,
         "South Sudan": 0,
         "Sudan": 131.7,
         "Swaziland": 0,
         "Tanzania": 0,
         "Togo": 0,
         "Tunisia": 0,
         "Uganda": 40,
         "Western Sahara": 0,
         "Zambia": 0,
         "Zimbabwe": 0,
         "Unnamed: 58": "nan",
         "Yearly Sum": 297.92697185299994,
         "billions": 0.29792697185299993,
         "_deepnote_index_column": 1
        },
        {
         "All Type 1 Loans": "2002",
         "Regional": 0,
         "Algeria": 9,
         "Angola": 151.04083605,
         "Benin": 0,
         "Botswana": 0,
         "Burkina Faso": 0,
         "Burundi": 0,
         "Cameroon": 0,
         "Cape Verde": 0,
         "CAR": 0,
         "Chad": 0,
         "Comoros": 0,
         "ROC": 0,
         "Cote d'Ivoire": 0,
         "Djibouti": 0,
         "DRC": 0,
         "Egypt": 24.1633442,
         "Equatorial Guinea": 6.25,
         "Eritrea": 0,
         "Ethiopia": 0,
         "Fmr. Sudan": 0,
         "Gabon": 0,
         "The Gambia": 0,
         "Ghana": 0,
         "Guinea": 0,
         "Guinea-Bissau": 0,
         "Kenya": 6.04083605,
         "Lesotho": 0,
         "Liberia": 0,
         "Libya": 0,
         "Madagascar": 0,
         "Malawi": 0,
         "Mali": 0,
         "Mauritania": 0,
         "Mauritius": 14.49800652,
         "Morocco": 6.644919655000001,
         "Mozambique": 0,
         "Namibia": 0,
         "Niger": 0,
         "Nigeria": 389.52,
         "Rwanda": 0,
         "Sao Tome & Principe": 0,
         "Senegal": 0,
         "Seychelles": 0,
         "Sierra Leone": 0,
         "Somalia": 0,
         "South Africa": 73,
         "South Sudan": 0,
         "Sudan": 42.22450163,
         "Swaziland": 0,
         "Tanzania": 4.153688,
         "Togo": 0,
         "Tunisia": 0,
         "Uganda": 0,
         "Western Sahara": 0,
         "Zambia": 8.4,
         "Zimbabwe": 0,
         "Unnamed: 58": "nan",
         "Yearly Sum": 734.936132105,
         "billions": 0.734936132105,
         "_deepnote_index_column": 2
        },
        {
         "All Type 1 Loans": "2003",
         "Regional": 0,
         "Algeria": 0,
         "Angola": 11,
         "Benin": 0,
         "Botswana": 27.32262,
         "Burkina Faso": 0,
         "Burundi": 0,
         "Cameroon": 0,
         "Cape Verde": 0,
         "CAR": 4.5,
         "Chad": 0,
         "Comoros": 0,
         "ROC": 238,
         "Cote d'Ivoire": 0,
         "Djibouti": 12.08211,
         "DRC": 0,
         "Egypt": 0,
         "Equatorial Guinea": 6.041055,
         "Eritrea": 0,
         "Ethiopia": 0,
         "Fmr. Sudan": 0,
         "Gabon": 4.832844,
         "The Gambia": 0,
         "Ghana": 44.229779943,
         "Guinea": 6.041,
         "Guinea-Bissau": 0,
         "Kenya": 0,
         "Lesotho": 0,
         "Liberia": 0,
         "Libya": 0,
         "Madagascar": 0,
         "Malawi": 0,
         "Mali": 0,
         "Mauritania": 0,
         "Mauritius": 33.829907999999996,
         "Morocco": 4.8,
         "Mozambique": 0,
         "Namibia": 0,
         "Niger": 0,
         "Nigeria": 0,
         "Rwanda": 3.611628,
         "Sao Tome & Principe": 0,
         "Senegal": 0,
         "Seychelles": 0,
         "Sierra Leone": 0,
         "Somalia": 0,
         "South Africa": 52,
         "South Sudan": 0,
         "Sudan": 1259.546,
         "Swaziland": 0,
         "Tanzania": 0,
         "Togo": 0,
         "Tunisia": 0,
         "Uganda": 0,
         "Western Sahara": 0,
         "Zambia": 0,
         "Zimbabwe": 22,
         "Unnamed: 58": "nan",
         "Yearly Sum": 1729.8369449430002,
         "billions": 1.7298369449430002,
         "_deepnote_index_column": 3
        },
        {
         "All Type 1 Loans": "2004",
         "Regional": 0,
         "Algeria": 0,
         "Angola": 435.1181456999999,
         "Benin": 0,
         "Botswana": 28.03117264,
         "Burkina Faso": 0,
         "Burundi": 0,
         "Cameroon": 3.6247206,
         "Cape Verde": 0,
         "CAR": 2,
         "Chad": 0,
         "Comoros": 8,
         "ROC": 0,
         "Cote d'Ivoire": 0,
         "Djibouti": 0,
         "DRC": 0,
         "Egypt": 30.206005,
         "Equatorial Guinea": 4.8329608,
         "Eritrea": 0,
         "Ethiopia": 0,
         "Fmr. Sudan": 0,
         "Gabon": 10.8741618,
         "The Gambia": 0,
         "Ghana": 0,
         "Guinea": 4.416,
         "Guinea-Bissau": 0,
         "Kenya": 0,
         "Lesotho": 0,
         "Liberia": 0,
         "Libya": 0,
         "Madagascar": 0,
         "Malawi": 0,
         "Mali": 0,
         "Mauritania": 0,
         "Mauritius": 2.4164804,
         "Morocco": 0,
         "Mozambique": 0,
         "Namibia": 5.29567521,
         "Niger": 0,
         "Nigeria": 0,
         "Rwanda": 0,
         "Sao Tome & Principe": 0,
         "Senegal": 0,
         "Seychelles": 0,
         "Sierra Leone": 3,
         "Somalia": 0,
         "South Africa": 41.8,
         "South Sudan": 0,
         "Sudan": 255.29944120000002,
         "Swaziland": 0,
         "Tanzania": 0,
         "Togo": 20.3781592,
         "Tunisia": 33.04536947,
         "Uganda": 0,
         "Western Sahara": 0,
         "Zambia": 0,
         "Zimbabwe": 40,
         "Unnamed: 58": "nan",
         "Yearly Sum": 928.3382920199999,
         "billions": 0.92833829202,
         "_deepnote_index_column": 4
        },
        {
         "All Type 1 Loans": "2005",
         "Regional": 0,
         "Algeria": 0,
         "Angola": 1042.7026051,
         "Benin": 0,
         "Botswana": 22.30427988,
         "Burkina Faso": 0,
         "Burundi": 0,
         "Cameroon": 0,
         "Cape Verde": 0,
         "CAR": 36.25794,
         "Chad": 0,
         "Comoros": 0,
         "ROC": 551.5072,
         "Cote d'Ivoire": 2.47825332,
         "Djibouti": 0,
         "DRC": 1.23912666,
         "Egypt": 16.3,
         "Equatorial Guinea": 9.91301328,
         "Eritrea": 0,
         "Ethiopia": 0,
         "Fmr. Sudan": 0,
         "Gabon": 2.788034985,
         "The Gambia": 0,
         "Ghana": 0,
         "Guinea": 50.975,
         "Guinea-Bissau": 0,
         "Kenya": 0,
         "Lesotho": 0,
         "Liberia": 0,
         "Libya": 0,
         "Madagascar": 0,
         "Malawi": 0,
         "Mali": 0,
         "Mauritania": 0,
         "Mauritius": 7.434759959999999,
         "Morocco": 0,
         "Mozambique": 0,
         "Namibia": 37.1737998,
         "Niger": 0,
         "Nigeria": 0,
         "Rwanda": 1.5,
         "Sao Tome & Principe": 0,
         "Senegal": 0,
         "Seychelles": 2,
         "Sierra Leone": 0,
         "Somalia": 0,
         "South Africa": 24,
         "South Sudan": 0,
         "Sudan": 354.61737997999995,
         "Swaziland": 0,
         "Tanzania": 0,
         "Togo": 0,
         "Tunisia": 0,
         "Uganda": 0,
         "Western Sahara": 0,
         "Zambia": 8,
         "Zimbabwe": 12,
         "Unnamed: 58": "nan",
         "Yearly Sum": 2183.191392965,
         "billions": 2.183191392965,
         "_deepnote_index_column": 5
        },
        {
         "All Type 1 Loans": "2006",
         "Regional": 92.393,
         "Algeria": 0,
         "Angola": 705,
         "Benin": 3.84364071,
         "Botswana": 8.2502,
         "Burkina Faso": 0,
         "Burundi": 0,
         "Cameroon": 5.12485427999999,
         "Cape Verde": 2.5,
         "CAR": 0,
         "Chad": 0,
         "Comoros": 0,
         "ROC": 857.2113392499999,
         "Cote d'Ivoire": 3.3433067,
         "Djibouti": 0,
         "DRC": 1.3,
         "Egypt": 60.9857659319999,
         "Equatorial Guinea": 257,
         "Eritrea": 21.2681452619999,
         "Ethiopia": 1900,
         "Fmr. Sudan": 0,
         "Gabon": 6.40606784999999,
         "The Gambia": 0,
         "Ghana": 111,
         "Guinea": 15.008,
         "Guinea-Bissau": 0,
         "Kenya": 45.742911846995995,
         "Lesotho": 0,
         "Liberia": 5,
         "Libya": 0,
         "Madagascar": 0,
         "Malawi": 0,
         "Mali": 0,
         "Mauritania": 7.4640609,
         "Mauritius": 20.49941711999988,
         "Morocco": 0,
         "Mozambique": 0,
         "Namibia": 2.56242713999999,
         "Niger": 0,
         "Nigeria": 200,
         "Rwanda": 0,
         "Sao Tome & Principe": 0,
         "Senegal": 50.2567249999999,
         "Seychelles": 0,
         "Sierra Leone": 17.0401404809999,
         "Somalia": 0,
         "South Africa": 0,
         "South Sudan": 0,
         "Sudan": 229.89999999999998,
         "Swaziland": 0,
         "Tanzania": 10.2497085599999,
         "Togo": 19.7006361999999,
         "Tunisia": 12.81213569999998,
         "Uganda": 0,
         "Western Sahara": 0,
         "Zambia": 67.8,
         "Zimbabwe": 375.6242713999999,
         "Unnamed: 58": "nan",
         "Yearly Sum": 5115.286754331995,
         "billions": 5.115286754331995,
         "_deepnote_index_column": 6
        },
        {
         "All Type 1 Loans": "2007",
         "Regional": 0,
         "Algeria": 0,
         "Angola": 2186.0727582000004,
         "Benin": 0,
         "Botswana": 0,
         "Burkina Faso": 0,
         "Burundi": 0,
         "Cameroon": 69.55841447999998,
         "Cape Verde": 0,
         "CAR": 3.8,
         "Chad": 120.9285194,
         "Comoros": 0,
         "ROC": 0,
         "Cote d'Ivoire": 30,
         "Djibouti": 0,
         "DRC": 1.37040741999999,
         "Egypt": 0,
         "Equatorial Guinea": 686.8520371,
         "Eritrea": 48.306861555,
         "Ethiopia": 207,
         "Fmr. Sudan": 0,
         "Gabon": 0,
         "The Gambia": 0,
         "Ghana": 636.1,
         "Guinea": 0,
         "Guinea-Bissau": 0,
         "Kenya": 65.48376333715998,
         "Lesotho": 0,
         "Liberia": 0,
         "Libya": 0,
         "Madagascar": 52.76068567,
         "Malawi": 0,
         "Mali": 0,
         "Mauritania": 0,
         "Mauritius": 2.74081483999999,
         "Morocco": 0,
         "Mozambique": 50,
         "Namibia": 47.972149726999895,
         "Niger": 0,
         "Nigeria": 0,
         "Rwanda": 0,
         "Sao Tome & Principe": 0,
         "Senegal": 50.70507454,
         "Seychelles": 21.241209174999888,
         "Sierra Leone": 0,
         "Somalia": 0,
         "South Africa": 0,
         "South Sudan": 0,
         "Sudan": 1104.92168,
         "Swaziland": 0,
         "Tanzania": 0,
         "Togo": 0,
         "Tunisia": 2.877855582,
         "Uganda": 30.55597424374,
         "Western Sahara": 0,
         "Zambia": 39.899,
         "Zimbabwe": 0,
         "Unnamed: 58": "nan",
         "Yearly Sum": 5459.147205269901,
         "billions": 5.459147205269901,
         "_deepnote_index_column": 7
        },
        {
         "All Type 1 Loans": "2008",
         "Regional": 50,
         "Algeria": 0,
         "Angola": 274.3486812,
         "Benin": 0,
         "Botswana": 2.91169999999999,
         "Burkina Faso": 0,
         "Burundi": 2.197641195,
         "Cameroon": 23.310287,
         "Cape Verde": 15.7,
         "CAR": 0,
         "Chad": 0,
         "Comoros": 0,
         "ROC": 286.25,
         "Cote d'Ivoire": 0,
         "Djibouti": 0,
         "DRC": 831.9147592249999,
         "Egypt": 0,
         "Equatorial Guinea": 201.25053292,
         "Eritrea": 0,
         "Ethiopia": 0,
         "Fmr. Sudan": 0,
         "Gabon": 326.65811477999904,
         "The Gambia": 0,
         "Ghana": 208.357545954,
         "Guinea": 0,
         "Guinea-Bissau": 0,
         "Kenya": 165.13867107,
         "Lesotho": 9,
         "Liberia": 0,
         "Libya": 0,
         "Madagascar": 4.08028715205,
         "Malawi": 0,
         "Mali": 29.3018826,
         "Mauritania": 0,
         "Mauritius": 4.39528239,
         "Morocco": 514.963678,
         "Mozambique": 70,
         "Namibia": 3.969424713,
         "Niger": 352,
         "Nigeria": 0,
         "Rwanda": 0,
         "Sao Tome & Principe": 0,
         "Senegal": 0,
         "Seychelles": 11,
         "Sierra Leone": 0,
         "Somalia": 0,
         "South Africa": 0,
         "South Sudan": 0,
         "Sudan": 187.00058729999992,
         "Swaziland": 0,
         "Tanzania": 76.917441825,
         "Togo": 0,
         "Tunisia": 0,
         "Uganda": 5,
         "Western Sahara": 0,
         "Zambia": 315.6,
         "Zimbabwe": 20.5,
         "Unnamed: 58": "nan",
         "Yearly Sum": 3991.7665173240484,
         "billions": 3.9917665173240486,
         "_deepnote_index_column": 8
        },
        {
         "All Type 1 Loans": "2009",
         "Regional": 100,
         "Algeria": 0,
         "Angola": 336.51147,
         "Benin": 0,
         "Botswana": 825,
         "Burkina Faso": 0,
         "Burundi": 7.3238075,
         "Cameroon": 220.93046850000002,
         "Cape Verde": 0,
         "CAR": 5.6788394,
         "Chad": 0,
         "Comoros": 0,
         "ROC": 561.86661495,
         "Cote d'Ivoire": 4.3942845,
         "Djibouti": 0,
         "DRC": 98.5942845,
         "Egypt": 0,
         "Equatorial Guinea": 131.828535,
         "Eritrea": 0,
         "Ethiopia": 619,
         "Fmr. Sudan": 0,
         "Gabon": 7.3238075,
         "The Gambia": 0,
         "Ghana": 35.8,
         "Guinea": 0,
         "Guinea-Bissau": 0,
         "Kenya": 249.74183575,
         "Lesotho": 0,
         "Liberia": 0,
         "Libya": 0,
         "Madagascar": 0,
         "Malawi": 90,
         "Mali": 0,
         "Mauritania": 292.9523,
         "Mauritius": 280.63995429649987,
         "Morocco": 0,
         "Mozambique": 117,
         "Namibia": 26.3822894299999,
         "Niger": 0,
         "Nigeria": 0,
         "Rwanda": 36,
         "Sao Tome & Principe": 0,
         "Senegal": 60.78760225,
         "Seychelles": 0,
         "Sierra Leone": 0,
         "Somalia": 0,
         "South Africa": 0,
         "South Sudan": 0,
         "Sudan": 1890.518092,
         "Swaziland": 0,
         "Tanzania": 0,
         "Togo": 119.18441347,
         "Tunisia": 80.148,
         "Uganda": 69.7226474,
         "Western Sahara": 0,
         "Zambia": 180.21999999999997,
         "Zimbabwe": 0,
         "Unnamed: 58": "nan",
         "Yearly Sum": 6447.5492464465015,
         "billions": 6.447549246446502,
         "_deepnote_index_column": 9
        }
       ],
       "rows_bottom": null
      },
      "text/plain": "  All Type 1 Loans  Regional  Algeria       Angola      Benin    Botswana  \\\n0             2000     0.000      0.0     0.000000   8.879600    2.348640   \n1             2001     0.000      0.0     0.000000  15.707123   14.948322   \n2             2002     0.000      9.0   151.040836   0.000000    0.000000   \n3             2003     0.000      0.0    11.000000   0.000000   27.322620   \n4             2004     0.000      0.0   435.118146   0.000000   28.031173   \n5             2005     0.000      0.0  1042.702605   0.000000   22.304280   \n6             2006    92.393      0.0   705.000000   3.843641    8.250200   \n7             2007     0.000      0.0  2186.072758   0.000000    0.000000   \n8             2008    50.000      0.0   274.348681   0.000000    2.911700   \n9             2009   100.000      0.0   336.511470   0.000000  825.000000   \n\n   Burkina Faso   Burundi    Cameroon  Cape Verde  ...   Tanzania        Togo  \\\n0           0.0  0.000000    0.000000         0.0  ...   0.000000    0.000000   \n1           0.0  0.000000    0.000000         0.0  ...   0.000000    0.000000   \n2           0.0  0.000000    0.000000         0.0  ...   4.153688    0.000000   \n3           0.0  0.000000    0.000000         0.0  ...   0.000000    0.000000   \n4           0.0  0.000000    3.624721         0.0  ...   0.000000   20.378159   \n5           0.0  0.000000    0.000000         0.0  ...   0.000000    0.000000   \n6           0.0  0.000000    5.124854         2.5  ...  10.249709   19.700636   \n7           0.0  0.000000   69.558414         0.0  ...   0.000000    0.000000   \n8           0.0  2.197641   23.310287        15.7  ...  76.917442    0.000000   \n9           0.0  7.323808  220.930469         0.0  ...   0.000000  119.184413   \n\n     Tunisia     Uganda  Western Sahara   Zambia    Zimbabwe  Unnamed: 58  \\\n0   2.889443   0.000000             0.0    0.000    7.490275          NaN   \n1   0.000000  40.000000             0.0    0.000    0.000000          NaN   \n2   0.000000   0.000000             0.0    8.400    0.000000          NaN   \n3   0.000000   0.000000             0.0    0.000   22.000000          NaN   \n4  33.045369   0.000000             0.0    0.000   40.000000          NaN   \n5   0.000000   0.000000             0.0    8.000   12.000000          NaN   \n6  12.812136   0.000000             0.0   67.800  375.624271          NaN   \n7   2.877856  30.555974             0.0   39.899    0.000000          NaN   \n8   0.000000   5.000000             0.0  315.600   20.500000          NaN   \n9  80.148000  69.722647             0.0  180.220    0.000000          NaN   \n\n    Yearly Sum  billions  \n0   134.177310  0.134177  \n1   297.926972  0.297927  \n2   734.936132  0.734936  \n3  1729.836945  1.729837  \n4   928.338292  0.928338  \n5  2183.191393  2.183191  \n6  5115.286754  5.115287  \n7  5459.147205  5.459147  \n8  3991.766517  3.991767  \n9  6447.549246  6.447549  \n\n[10 rows x 61 columns]",
      "text/html": "<div>\n<style scoped>\n    .dataframe tbody tr th:only-of-type {\n        vertical-align: middle;\n    }\n\n    .dataframe tbody tr th {\n        vertical-align: top;\n    }\n\n    .dataframe thead th {\n        text-align: right;\n    }\n</style>\n<table border=\"1\" class=\"dataframe\">\n  <thead>\n    <tr style=\"text-align: right;\">\n      <th></th>\n      <th>All Type 1 Loans</th>\n      <th>Regional</th>\n      <th>Algeria</th>\n      <th>Angola</th>\n      <th>Benin</th>\n      <th>Botswana</th>\n      <th>Burkina Faso</th>\n      <th>Burundi</th>\n      <th>Cameroon</th>\n      <th>Cape Verde</th>\n      <th>...</th>\n      <th>Tanzania</th>\n      <th>Togo</th>\n      <th>Tunisia</th>\n      <th>Uganda</th>\n      <th>Western Sahara</th>\n      <th>Zambia</th>\n      <th>Zimbabwe</th>\n      <th>Unnamed: 58</th>\n      <th>Yearly Sum</th>\n      <th>billions</th>\n    </tr>\n  </thead>\n  <tbody>\n    <tr>\n      <th>0</th>\n      <td>2000</td>\n      <td>0.000</td>\n      <td>0.0</td>\n      <td>0.000000</td>\n      <td>8.879600</td>\n      <td>2.348640</td>\n      <td>0.0</td>\n      <td>0.000000</td>\n      <td>0.000000</td>\n      <td>0.0</td>\n      <td>...</td>\n      <td>0.000000</td>\n      <td>0.000000</td>\n      <td>2.889443</td>\n      <td>0.000000</td>\n      <td>0.0</td>\n      <td>0.000</td>\n      <td>7.490275</td>\n      <td>NaN</td>\n      <td>134.177310</td>\n      <td>0.134177</td>\n    </tr>\n    <tr>\n      <th>1</th>\n      <td>2001</td>\n      <td>0.000</td>\n      <td>0.0</td>\n      <td>0.000000</td>\n      <td>15.707123</td>\n      <td>14.948322</td>\n      <td>0.0</td>\n      <td>0.000000</td>\n      <td>0.000000</td>\n      <td>0.0</td>\n      <td>...</td>\n      <td>0.000000</td>\n      <td>0.000000</td>\n      <td>0.000000</td>\n      <td>40.000000</td>\n      <td>0.0</td>\n      <td>0.000</td>\n      <td>0.000000</td>\n      <td>NaN</td>\n      <td>297.926972</td>\n      <td>0.297927</td>\n    </tr>\n    <tr>\n      <th>2</th>\n      <td>2002</td>\n      <td>0.000</td>\n      <td>9.0</td>\n      <td>151.040836</td>\n      <td>0.000000</td>\n      <td>0.000000</td>\n      <td>0.0</td>\n      <td>0.000000</td>\n      <td>0.000000</td>\n      <td>0.0</td>\n      <td>...</td>\n      <td>4.153688</td>\n      <td>0.000000</td>\n      <td>0.000000</td>\n      <td>0.000000</td>\n      <td>0.0</td>\n      <td>8.400</td>\n      <td>0.000000</td>\n      <td>NaN</td>\n      <td>734.936132</td>\n      <td>0.734936</td>\n    </tr>\n    <tr>\n      <th>3</th>\n      <td>2003</td>\n      <td>0.000</td>\n      <td>0.0</td>\n      <td>11.000000</td>\n      <td>0.000000</td>\n      <td>27.322620</td>\n      <td>0.0</td>\n      <td>0.000000</td>\n      <td>0.000000</td>\n      <td>0.0</td>\n      <td>...</td>\n      <td>0.000000</td>\n      <td>0.000000</td>\n      <td>0.000000</td>\n      <td>0.000000</td>\n      <td>0.0</td>\n      <td>0.000</td>\n      <td>22.000000</td>\n      <td>NaN</td>\n      <td>1729.836945</td>\n      <td>1.729837</td>\n    </tr>\n    <tr>\n      <th>4</th>\n      <td>2004</td>\n      <td>0.000</td>\n      <td>0.0</td>\n      <td>435.118146</td>\n      <td>0.000000</td>\n      <td>28.031173</td>\n      <td>0.0</td>\n      <td>0.000000</td>\n      <td>3.624721</td>\n      <td>0.0</td>\n      <td>...</td>\n      <td>0.000000</td>\n      <td>20.378159</td>\n      <td>33.045369</td>\n      <td>0.000000</td>\n      <td>0.0</td>\n      <td>0.000</td>\n      <td>40.000000</td>\n      <td>NaN</td>\n      <td>928.338292</td>\n      <td>0.928338</td>\n    </tr>\n    <tr>\n      <th>5</th>\n      <td>2005</td>\n      <td>0.000</td>\n      <td>0.0</td>\n      <td>1042.702605</td>\n      <td>0.000000</td>\n      <td>22.304280</td>\n      <td>0.0</td>\n      <td>0.000000</td>\n      <td>0.000000</td>\n      <td>0.0</td>\n      <td>...</td>\n      <td>0.000000</td>\n      <td>0.000000</td>\n      <td>0.000000</td>\n      <td>0.000000</td>\n      <td>0.0</td>\n      <td>8.000</td>\n      <td>12.000000</td>\n      <td>NaN</td>\n      <td>2183.191393</td>\n      <td>2.183191</td>\n    </tr>\n    <tr>\n      <th>6</th>\n      <td>2006</td>\n      <td>92.393</td>\n      <td>0.0</td>\n      <td>705.000000</td>\n      <td>3.843641</td>\n      <td>8.250200</td>\n      <td>0.0</td>\n      <td>0.000000</td>\n      <td>5.124854</td>\n      <td>2.5</td>\n      <td>...</td>\n      <td>10.249709</td>\n      <td>19.700636</td>\n      <td>12.812136</td>\n      <td>0.000000</td>\n      <td>0.0</td>\n      <td>67.800</td>\n      <td>375.624271</td>\n      <td>NaN</td>\n      <td>5115.286754</td>\n      <td>5.115287</td>\n    </tr>\n    <tr>\n      <th>7</th>\n      <td>2007</td>\n      <td>0.000</td>\n      <td>0.0</td>\n      <td>2186.072758</td>\n      <td>0.000000</td>\n      <td>0.000000</td>\n      <td>0.0</td>\n      <td>0.000000</td>\n      <td>69.558414</td>\n      <td>0.0</td>\n      <td>...</td>\n      <td>0.000000</td>\n      <td>0.000000</td>\n      <td>2.877856</td>\n      <td>30.555974</td>\n      <td>0.0</td>\n      <td>39.899</td>\n      <td>0.000000</td>\n      <td>NaN</td>\n      <td>5459.147205</td>\n      <td>5.459147</td>\n    </tr>\n    <tr>\n      <th>8</th>\n      <td>2008</td>\n      <td>50.000</td>\n      <td>0.0</td>\n      <td>274.348681</td>\n      <td>0.000000</td>\n      <td>2.911700</td>\n      <td>0.0</td>\n      <td>2.197641</td>\n      <td>23.310287</td>\n      <td>15.7</td>\n      <td>...</td>\n      <td>76.917442</td>\n      <td>0.000000</td>\n      <td>0.000000</td>\n      <td>5.000000</td>\n      <td>0.0</td>\n      <td>315.600</td>\n      <td>20.500000</td>\n      <td>NaN</td>\n      <td>3991.766517</td>\n      <td>3.991767</td>\n    </tr>\n    <tr>\n      <th>9</th>\n      <td>2009</td>\n      <td>100.000</td>\n      <td>0.0</td>\n      <td>336.511470</td>\n      <td>0.000000</td>\n      <td>825.000000</td>\n      <td>0.0</td>\n      <td>7.323808</td>\n      <td>220.930469</td>\n      <td>0.0</td>\n      <td>...</td>\n      <td>0.000000</td>\n      <td>119.184413</td>\n      <td>80.148000</td>\n      <td>69.722647</td>\n      <td>0.0</td>\n      <td>180.220</td>\n      <td>0.000000</td>\n      <td>NaN</td>\n      <td>6447.549246</td>\n      <td>6.447549</td>\n    </tr>\n  </tbody>\n</table>\n<p>10 rows × 61 columns</p>\n</div>"
     },
     "metadata": {}
    }
   ],
   "execution_count": null
  },
  {
   "cell_type": "markdown",
   "source": "### Top 5 Indebted African Nations",
   "metadata": {
    "tags": [],
    "cell_id": "00017-be181656-bdb2-4079-8de1-b37c7f70da15",
    "deepnote_cell_type": "markdown"
   }
  },
  {
   "cell_type": "markdown",
   "source": "The top 5 nations that have received the most money from China are a good representation of the impact these loans can have on a country's development. Therefore, we're going to be using these countries for our analysis from this point on, specifically Angola.",
   "metadata": {
    "tags": [],
    "cell_id": "00018-144ea1dc-0694-4c6b-b669-c7c1ef2c65ef",
    "deepnote_cell_type": "markdown"
   }
  },
  {
   "cell_type": "code",
   "metadata": {
    "tags": [],
    "cell_id": "00015-1063ad98-38db-4ba5-9b03-8736da75a77d",
    "deepnote_to_be_reexecuted": false,
    "source_hash": "24d03a8b",
    "execution_start": 1636920294683,
    "execution_millis": 7,
    "deepnote_cell_type": "code"
   },
   "source": "#Total loan money received from China \nsortedLoans = loanDataByCountry.transpose().reset_index()[2:58].sort_values(by=21, ascending=False) #Sum column is 21\ntop5Countries = list(sortedLoans.head(5)['index'])\nsortedLoans = sortedLoans.rename(columns={21: \"Total Loans(millions US$)\"})\nsortedLoans = sortedLoans.rename(columns={'index': 'Country'})\nprint(sortedLoans.head(5)[['Country', 'Total Loans(millions US$)']])\n",
   "outputs": [
    {
     "name": "stdout",
     "text": "     Country Total Loans(millions US$)\n3     Angola              42619.377871\n20  Ethiopia              13729.229731\n56    Zambia               9848.340115\n27     Kenya               9175.216309\n40   Nigeria               6731.725228\n",
     "output_type": "stream"
    }
   ],
   "execution_count": null
  },
  {
   "cell_type": "code",
   "metadata": {
    "tags": [],
    "cell_id": "00016-41cbe1cf-94e4-41bb-9cce-78b4b882cfc2",
    "deepnote_to_be_reexecuted": false,
    "source_hash": "b7954bbc",
    "execution_start": 1636920294735,
    "execution_millis": 377,
    "deepnote_cell_type": "code"
   },
   "source": "HighestLoans = loanDataByCountry[top5Countries + ['All Type 1 Loans']][:20]\nHighestLoans = HighestLoans.pivot_table(index=['All Type 1 Loans'], values=top5Countries)\nHighestLoans = HighestLoans.cumsum()\nHighestLoans = HighestLoans.rename(index={'All Type 1 Loans': 'Year'})\nHighestLoans.plot(figsize=(20,8))\nplt.suptitle(\"Total Incurred Debt\")\nplt.show()",
   "outputs": [
    {
     "data": {
      "text/plain": "<Figure size 1440x576 with 1 Axes>",
      "image/png": "[encoded data removed]"
     },
     "metadata": {
      "needs_background": "light",
      "image/png": {
       "width": 1168,
       "height": 537
      }
     },
     "output_type": "display_data"
    }
   ],
   "execution_count": null
  },
  {
   "cell_type": "markdown",
   "source": "This chart is a clear representation of the debt these African nations have incurred over the past 20 years. Angola is currently the leader with over $42 billion in loans from China allocated towards projects in all sectors of the economy. As it can be seen from the figure above the next four highest in-debt countries are currently way below Angola at under $15 billion but their loans have been consistently rising over the past 5 years, while Angola's loans have plateaued. It is clear that other nations are on a similar trajectory as Angola, making Angola a compelling case to study the impact of these loans.",
   "metadata": {
    "tags": [],
    "is_collapsed": false,
    "cell_id": "00021-a56fa1af-5d83-42dd-8b39-6034375a58e3",
    "deepnote_cell_type": "text-cell-p"
   }
  },
  {
   "cell_type": "markdown",
   "source": "Let's look at specific sector loans for these 5 countries to better visualize the trajectory they're following",
   "metadata": {
    "tags": [],
    "is_collapsed": false,
    "deepnote_cell_type": "text-cell-p"
   }
  },
  {
   "cell_type": "markdown",
   "source": "### Loans in the Transportation Sector",
   "metadata": {
    "tags": [],
    "cell_id": "00017-9797846d-960d-4f1d-a9af-cb5a1bca00c3",
    "deepnote_cell_type": "markdown"
   }
  },
  {
   "cell_type": "code",
   "metadata": {
    "tags": [],
    "cell_id": "00017-7f536604-7363-4e05-9bf5-8f650902f18d",
    "deepnote_to_be_reexecuted": false,
    "source_hash": "bfb25fce",
    "execution_start": 1636920295155,
    "execution_millis": 47,
    "deepnote_cell_type": "code"
   },
   "source": "transportLoans = pd.read_excel(\"SectorLoansForHighlyIndebtedAfricanCountries.xlsx\", sheet_name=0) #Transport Loans For Top Five Countries\ntransportLoans.head()",
   "outputs": [
    {
     "output_type": "execute_result",
     "execution_count": 8,
     "data": {
      "application/vnd.deepnote.dataframe.v2+json": {
       "row_count": 5,
       "column_count": 5,
       "columns": [
        {
         "name": "YEAR",
         "dtype": "int64",
         "stats": {
          "unique_count": 3,
          "nan_count": 0,
          "min": "2004",
          "max": "2007",
          "histogram": [
           {
            "bin_start": 2004,
            "bin_end": 2004.3,
            "count": 1
           },
           {
            "bin_start": 2004.3,
            "bin_end": 2004.6,
            "count": 0
           },
           {
            "bin_start": 2004.6,
            "bin_end": 2004.9,
            "count": 0
           },
           {
            "bin_start": 2004.9,
            "bin_end": 2005.2,
            "count": 1
           },
           {
            "bin_start": 2005.2,
            "bin_end": 2005.5,
            "count": 0
           },
           {
            "bin_start": 2005.5,
            "bin_end": 2005.8,
            "count": 0
           },
           {
            "bin_start": 2005.8,
            "bin_end": 2006.1,
            "count": 0
           },
           {
            "bin_start": 2006.1,
            "bin_end": 2006.4,
            "count": 0
           },
           {
            "bin_start": 2006.4,
            "bin_end": 2006.7,
            "count": 0
           },
           {
            "bin_start": 2006.7,
            "bin_end": 2007,
            "count": 3
           }
          ]
         }
        },
        {
         "name": "Loan Amount in USD (M)",
         "dtype": "int64",
         "stats": {
          "unique_count": 5,
          "nan_count": 0,
          "min": "12",
          "max": "429",
          "histogram": [
           {
            "bin_start": 12,
            "bin_end": 53.7,
            "count": 1
           },
           {
            "bin_start": 53.7,
            "bin_end": 95.4,
            "count": 1
           },
           {
            "bin_start": 95.4,
            "bin_end": 137.10000000000002,
            "count": 0
           },
           {
            "bin_start": 137.10000000000002,
            "bin_end": 178.8,
            "count": 1
           },
           {
            "bin_start": 178.8,
            "bin_end": 220.5,
            "count": 1
           },
           {
            "bin_start": 220.5,
            "bin_end": 262.20000000000005,
            "count": 0
           },
           {
            "bin_start": 262.20000000000005,
            "bin_end": 303.90000000000003,
            "count": 0
           },
           {
            "bin_start": 303.90000000000003,
            "bin_end": 345.6,
            "count": 0
           },
           {
            "bin_start": 345.6,
            "bin_end": 387.3,
            "count": 0
           },
           {
            "bin_start": 387.3,
            "bin_end": 429,
            "count": 1
           }
          ]
         }
        },
        {
         "name": "COUNTRY",
         "dtype": "object",
         "stats": {
          "unique_count": 1,
          "nan_count": 0,
          "categories": [
           {
            "name": "Angola",
            "count": 5
           }
          ]
         }
        },
        {
         "name": "LENDER",
         "dtype": "object",
         "stats": {
          "unique_count": 1,
          "nan_count": 0,
          "categories": [
           {
            "name": "Eximbank",
            "count": 5
           }
          ]
         }
        },
        {
         "name": "PURPOSE",
         "dtype": "object",
         "stats": {
          "unique_count": 5,
          "nan_count": 0,
          "categories": [
           {
            "name": "Road Transport Support",
            "count": 1
           },
           {
            "name": "Kifangondo-Caxito-Uíge-Negage Road, 371 km",
            "count": 1
           },
           {
            "name": "3 others",
            "count": 3
           }
          ]
         }
        },
        {
         "name": "_deepnote_index_column",
         "dtype": "int64"
        }
       ],
       "rows_top": [
        {
         "YEAR": 2004,
         "Loan Amount in USD (M)": 12,
         "COUNTRY": "Angola",
         "LENDER": "Eximbank",
         "PURPOSE": "Road Transport Support",
         "_deepnote_index_column": 0
        },
        {
         "YEAR": 2005,
         "Loan Amount in USD (M)": 191,
         "COUNTRY": "Angola",
         "LENDER": "Eximbank",
         "PURPOSE": "Kifangondo-Caxito-Uíge-Negage Road, 371 km",
         "_deepnote_index_column": 1
        },
        {
         "YEAR": 2007,
         "Loan Amount in USD (M)": 429,
         "COUNTRY": "Angola",
         "LENDER": "Eximbank",
         "PURPOSE": "Caxito-Nzeto Road Rehabilitation, 208km (Disbursements from 2007 Credit Line)",
         "_deepnote_index_column": 2
        },
        {
         "YEAR": 2007,
         "Loan Amount in USD (M)": 144,
         "COUNTRY": "Angola",
         "LENDER": "Eximbank",
         "PURPOSE": "Nzeto-Tomboco-Mbanza Congo Road Rehabilitation, 214km",
         "_deepnote_index_column": 3
        },
        {
         "YEAR": 2007,
         "Loan Amount in USD (M)": 57,
         "COUNTRY": "Angola",
         "LENDER": "Eximbank",
         "PURPOSE": "Cars Purchase - 1500 Units, Phase II",
         "_deepnote_index_column": 4
        }
       ],
       "rows_bottom": null
      },
      "text/plain": "   YEAR  Loan Amount in USD (M) COUNTRY    LENDER  \\\n0  2004                      12  Angola  Eximbank   \n1  2005                     191  Angola  Eximbank   \n2  2007                     429  Angola  Eximbank   \n3  2007                     144  Angola  Eximbank   \n4  2007                      57  Angola  Eximbank   \n\n                                             PURPOSE  \n0                             Road Transport Support  \n1         Kifangondo-Caxito-Uíge-Negage Road, 371 km  \n2  Caxito-Nzeto Road Rehabilitation, 208km (Disbu...  \n3  Nzeto-Tomboco-Mbanza Congo Road Rehabilitation...  \n4               Cars Purchase - 1500 Units, Phase II  ",
      "text/html": "<div>\n<style scoped>\n    .dataframe tbody tr th:only-of-type {\n        vertical-align: middle;\n    }\n\n    .dataframe tbody tr th {\n        vertical-align: top;\n    }\n\n    .dataframe thead th {\n        text-align: right;\n    }\n</style>\n<table border=\"1\" class=\"dataframe\">\n  <thead>\n    <tr style=\"text-align: right;\">\n      <th></th>\n      <th>YEAR</th>\n      <th>Loan Amount in USD (M)</th>\n      <th>COUNTRY</th>\n      <th>LENDER</th>\n      <th>PURPOSE</th>\n    </tr>\n  </thead>\n  <tbody>\n    <tr>\n      <th>0</th>\n      <td>2004</td>\n      <td>12</td>\n      <td>Angola</td>\n      <td>Eximbank</td>\n      <td>Road Transport Support</td>\n    </tr>\n    <tr>\n      <th>1</th>\n      <td>2005</td>\n      <td>191</td>\n      <td>Angola</td>\n      <td>Eximbank</td>\n      <td>Kifangondo-Caxito-Uíge-Negage Road, 371 km</td>\n    </tr>\n    <tr>\n      <th>2</th>\n      <td>2007</td>\n      <td>429</td>\n      <td>Angola</td>\n      <td>Eximbank</td>\n      <td>Caxito-Nzeto Road Rehabilitation, 208km (Disbu...</td>\n    </tr>\n    <tr>\n      <th>3</th>\n      <td>2007</td>\n      <td>144</td>\n      <td>Angola</td>\n      <td>Eximbank</td>\n      <td>Nzeto-Tomboco-Mbanza Congo Road Rehabilitation...</td>\n    </tr>\n    <tr>\n      <th>4</th>\n      <td>2007</td>\n      <td>57</td>\n      <td>Angola</td>\n      <td>Eximbank</td>\n      <td>Cars Purchase - 1500 Units, Phase II</td>\n    </tr>\n  </tbody>\n</table>\n</div>"
     },
     "metadata": {}
    }
   ],
   "execution_count": null
  },
  {
   "cell_type": "code",
   "metadata": {
    "tags": [],
    "cell_id": "00019-992fc7c6-00f5-429f-8e6f-44822a2c027f",
    "deepnote_to_be_reexecuted": false,
    "source_hash": "60c85380",
    "execution_start": 1636920295200,
    "execution_millis": 335,
    "deepnote_cell_type": "code"
   },
   "source": "transportLoansChart = transportLoans[['COUNTRY','Loan Amount in USD (M)', 'YEAR']]\n\ntransportLoansChart = transportLoansChart.pivot_table(index='YEAR', columns='COUNTRY', values = 'Loan Amount in USD (M)')\ntransportLoansChart = transportLoansChart.fillna(0).cumsum()\ntransportLoansChart.plot(figsize=(18,8))\nplt.suptitle(\"Incurred Debt in the Transportation sector\")\nplt.show()",
   "outputs": [
    {
     "data": {
      "text/plain": "<Figure size 1296x576 with 1 Axes>",
      "image/png": "[encoded data removed]"
     },
     "metadata": {
      "needs_background": "light",
      "image/png": {
       "width": 1050,
       "height": 537
      }
     },
     "output_type": "display_data"
    }
   ],
   "execution_count": null
  },
  {
   "cell_type": "markdown",
   "source": "### Loans in the Agriculture Sector",
   "metadata": {
    "tags": [],
    "cell_id": "00020-fced8fce-63cc-4023-8d34-3b6bf730d69f",
    "deepnote_cell_type": "markdown"
   }
  },
  {
   "cell_type": "code",
   "metadata": {
    "tags": [],
    "cell_id": "00020-8a662af5-c2b7-4707-b483-8583d03bc419",
    "deepnote_to_be_reexecuted": false,
    "source_hash": "c51b24c8",
    "execution_start": 1636920295543,
    "execution_millis": 48,
    "deepnote_cell_type": "code"
   },
   "source": "agricultureLoans = pd.read_excel(\"SectorLoansForHighlyIndebtedAfricanCountries.xlsx\", sheet_name=1) #Agriculture Loans For Top Five Countries\nagricultureLoans.head()",
   "outputs": [
    {
     "output_type": "execute_result",
     "execution_count": 10,
     "data": {
      "application/vnd.deepnote.dataframe.v2+json": {
       "row_count": 5,
       "column_count": 6,
       "columns": [
        {
         "name": "YEAR",
         "dtype": "int64",
         "stats": {
          "unique_count": 3,
          "nan_count": 0,
          "min": "2004",
          "max": "2006",
          "histogram": [
           {
            "bin_start": 2004,
            "bin_end": 2004.2,
            "count": 1
           },
           {
            "bin_start": 2004.2,
            "bin_end": 2004.4,
            "count": 0
           },
           {
            "bin_start": 2004.4,
            "bin_end": 2004.6,
            "count": 0
           },
           {
            "bin_start": 2004.6,
            "bin_end": 2004.8,
            "count": 0
           },
           {
            "bin_start": 2004.8,
            "bin_end": 2005,
            "count": 0
           },
           {
            "bin_start": 2005,
            "bin_end": 2005.2,
            "count": 2
           },
           {
            "bin_start": 2005.2,
            "bin_end": 2005.4,
            "count": 0
           },
           {
            "bin_start": 2005.4,
            "bin_end": 2005.6,
            "count": 0
           },
           {
            "bin_start": 2005.6,
            "bin_end": 2005.8,
            "count": 0
           },
           {
            "bin_start": 2005.8,
            "bin_end": 2006,
            "count": 2
           }
          ]
         }
        },
        {
         "name": "Loan Amount in USD (M)",
         "dtype": "int64",
         "stats": {
          "unique_count": 4,
          "nan_count": 0,
          "min": "20",
          "max": "88",
          "histogram": [
           {
            "bin_start": 20,
            "bin_end": 26.8,
            "count": 1
           },
           {
            "bin_start": 26.8,
            "bin_end": 33.6,
            "count": 1
           },
           {
            "bin_start": 33.6,
            "bin_end": 40.4,
            "count": 0
           },
           {
            "bin_start": 40.4,
            "bin_end": 47.2,
            "count": 0
           },
           {
            "bin_start": 47.2,
            "bin_end": 54,
            "count": 0
           },
           {
            "bin_start": 54,
            "bin_end": 60.8,
            "count": 0
           },
           {
            "bin_start": 60.8,
            "bin_end": 67.6,
            "count": 0
           },
           {
            "bin_start": 67.6,
            "bin_end": 74.4,
            "count": 0
           },
           {
            "bin_start": 74.4,
            "bin_end": 81.19999999999999,
            "count": 0
           },
           {
            "bin_start": 81.19999999999999,
            "bin_end": 88,
            "count": 3
           }
          ]
         }
        },
        {
         "name": "COUNTRY",
         "dtype": "object",
         "stats": {
          "unique_count": 1,
          "nan_count": 0,
          "categories": [
           {
            "name": "Angola",
            "count": 5
           }
          ]
         }
        },
        {
         "name": "LENDER",
         "dtype": "object",
         "stats": {
          "unique_count": 1,
          "nan_count": 0,
          "categories": [
           {
            "name": "Eximbank",
            "count": 5
           }
          ]
         }
        },
        {
         "name": "SECTOR",
         "dtype": "object",
         "stats": {
          "unique_count": 1,
          "nan_count": 0,
          "categories": [
           {
            "name": "Agriculture",
            "count": 5
           }
          ]
         }
        },
        {
         "name": "PURPOSE",
         "dtype": "object",
         "stats": {
          "unique_count": 5,
          "nan_count": 0,
          "categories": [
           {
            "name": "Agricultural Equipment, Machinery and Tools Purchase",
            "count": 1
           },
           {
            "name": "Agricultural Equipment for MECANAGRO Purchase",
            "count": 1
           },
           {
            "name": "3 others",
            "count": 3
           }
          ]
         }
        },
        {
         "name": "_deepnote_index_column",
         "dtype": "int64"
        }
       ],
       "rows_top": [
        {
         "YEAR": 2004,
         "Loan Amount in USD (M)": 20,
         "COUNTRY": "Angola",
         "LENDER": "Eximbank",
         "SECTOR": "Agriculture",
         "PURPOSE": "Agricultural Equipment, Machinery and Tools Purchase",
         "_deepnote_index_column": 0
        },
        {
         "YEAR": 2005,
         "Loan Amount in USD (M)": 29,
         "COUNTRY": "Angola",
         "LENDER": "Eximbank",
         "SECTOR": "Agriculture",
         "PURPOSE": "Agricultural Equipment for MECANAGRO Purchase",
         "_deepnote_index_column": 1
        },
        {
         "YEAR": 2005,
         "Loan Amount in USD (M)": 86,
         "COUNTRY": "Angola",
         "LENDER": "Eximbank",
         "SECTOR": "Agriculture",
         "PURPOSE": "Luena, Caxito, Gangelas, Waco-Kungo Irrigation Projects, Phase I",
         "_deepnote_index_column": 2
        },
        {
         "YEAR": 2006,
         "Loan Amount in USD (M)": 88,
         "COUNTRY": "Angola",
         "LENDER": "Eximbank",
         "SECTOR": "Agriculture",
         "PURPOSE": "30m Boats - 25 Units; 4.15m Canoes - 1000 Units",
         "_deepnote_index_column": 3
        },
        {
         "YEAR": 2006,
         "Loan Amount in USD (M)": 88,
         "COUNTRY": "Angola",
         "LENDER": "Eximbank",
         "SECTOR": "Agriculture",
         "PURPOSE": "46.9m Patrol Boats - 5 Units; 33.88m Shrimp Boats - 10 Units; Canoes - 2000 Units",
         "_deepnote_index_column": 4
        }
       ],
       "rows_bottom": null
      },
      "text/plain": "   YEAR  Loan Amount in USD (M) COUNTRY    LENDER       SECTOR  \\\n0  2004                      20  Angola  Eximbank  Agriculture   \n1  2005                      29  Angola  Eximbank  Agriculture   \n2  2005                      86  Angola  Eximbank  Agriculture   \n3  2006                      88  Angola  Eximbank  Agriculture   \n4  2006                      88  Angola  Eximbank  Agriculture   \n\n                                             PURPOSE  \n0  Agricultural Equipment, Machinery and Tools Pu...  \n1      Agricultural Equipment for MECANAGRO Purchase  \n2  Luena, Caxito, Gangelas, Waco-Kungo Irrigation...  \n3    30m Boats - 25 Units; 4.15m Canoes - 1000 Units  \n4  46.9m Patrol Boats - 5 Units; 33.88m Shrimp Bo...  ",
      "text/html": "<div>\n<style scoped>\n    .dataframe tbody tr th:only-of-type {\n        vertical-align: middle;\n    }\n\n    .dataframe tbody tr th {\n        vertical-align: top;\n    }\n\n    .dataframe thead th {\n        text-align: right;\n    }\n</style>\n<table border=\"1\" class=\"dataframe\">\n  <thead>\n    <tr style=\"text-align: right;\">\n      <th></th>\n      <th>YEAR</th>\n      <th>Loan Amount in USD (M)</th>\n      <th>COUNTRY</th>\n      <th>LENDER</th>\n      <th>SECTOR</th>\n      <th>PURPOSE</th>\n    </tr>\n  </thead>\n  <tbody>\n    <tr>\n      <th>0</th>\n      <td>2004</td>\n      <td>20</td>\n      <td>Angola</td>\n      <td>Eximbank</td>\n      <td>Agriculture</td>\n      <td>Agricultural Equipment, Machinery and Tools Pu...</td>\n    </tr>\n    <tr>\n      <th>1</th>\n      <td>2005</td>\n      <td>29</td>\n      <td>Angola</td>\n      <td>Eximbank</td>\n      <td>Agriculture</td>\n      <td>Agricultural Equipment for MECANAGRO Purchase</td>\n    </tr>\n    <tr>\n      <th>2</th>\n      <td>2005</td>\n      <td>86</td>\n      <td>Angola</td>\n      <td>Eximbank</td>\n      <td>Agriculture</td>\n      <td>Luena, Caxito, Gangelas, Waco-Kungo Irrigation...</td>\n    </tr>\n    <tr>\n      <th>3</th>\n      <td>2006</td>\n      <td>88</td>\n      <td>Angola</td>\n      <td>Eximbank</td>\n      <td>Agriculture</td>\n      <td>30m Boats - 25 Units; 4.15m Canoes - 1000 Units</td>\n    </tr>\n    <tr>\n      <th>4</th>\n      <td>2006</td>\n      <td>88</td>\n      <td>Angola</td>\n      <td>Eximbank</td>\n      <td>Agriculture</td>\n      <td>46.9m Patrol Boats - 5 Units; 33.88m Shrimp Bo...</td>\n    </tr>\n  </tbody>\n</table>\n</div>"
     },
     "metadata": {}
    }
   ],
   "execution_count": null
  },
  {
   "cell_type": "code",
   "metadata": {
    "tags": [],
    "cell_id": "00022-9e0ed136-b509-4314-bd65-82b15e215605",
    "deepnote_to_be_reexecuted": false,
    "source_hash": "4fd3e8d7",
    "execution_start": 1636920295597,
    "execution_millis": 299,
    "deepnote_cell_type": "code"
   },
   "source": "agricultureLoansChart = agricultureLoans[['COUNTRY','Loan Amount in USD (M)', 'YEAR']]\nagricultureLoansChart = agricultureLoansChart.pivot_table(index='YEAR', columns='COUNTRY', values = 'Loan Amount in USD (M)')\nagricultureLoansChart = agricultureLoansChart.fillna(0).cumsum()\nagricultureLoansChart.plot(figsize=(18,8))\nplt.suptitle(\"Incurred Debt in the Agriculture sector\")\nplt.show()",
   "outputs": [
    {
     "data": {
      "text/plain": "<Figure size 1296x576 with 1 Axes>",
      "image/png": "[encoded data removed]"
     },
     "metadata": {
      "needs_background": "light",
      "image/png": {
       "width": 1044,
       "height": 537
      }
     },
     "output_type": "display_data"
    }
   ],
   "execution_count": null
  },
  {
   "cell_type": "markdown",
   "source": "We do not see the other 3 countries in this chart due to a lack of data but our research shows high inflow of money into the agriculture sector of those countries in the past 2-3 years. Angola however has not taken anymore agricultural loans since the end of 2013",
   "metadata": {
    "tags": [],
    "is_collapsed": false,
    "cell_id": "00025-7f7b0f3f-08cc-4cef-b08b-dbf73a22d573",
    "deepnote_cell_type": "text-cell-p"
   }
  },
  {
   "cell_type": "markdown",
   "source": "### Loans in the Water Sector",
   "metadata": {
    "tags": [],
    "cell_id": "00023-e86bf585-e31b-4f14-8dee-0021b18e7ff0",
    "deepnote_cell_type": "markdown"
   }
  },
  {
   "cell_type": "code",
   "metadata": {
    "tags": [],
    "cell_id": "00024-a07033f2-a621-4a7e-8fd0-0321c3bf3970",
    "deepnote_to_be_reexecuted": false,
    "source_hash": "50b831ec",
    "execution_start": 1636920295897,
    "execution_millis": 144,
    "deepnote_cell_type": "code"
   },
   "source": "WaterLoans = pd.read_excel(\"SectorLoansForHighlyIndebtedAfricanCountries.xlsx\", sheet_name=2) #Water Loans For Top Five Countries\nWaterLoans.head()",
   "outputs": [
    {
     "output_type": "execute_result",
     "execution_count": 12,
     "data": {
      "application/vnd.deepnote.dataframe.v2+json": {
       "row_count": 5,
       "column_count": 6,
       "columns": [
        {
         "name": "YEAR",
         "dtype": "int64",
         "stats": {
          "unique_count": 3,
          "nan_count": 0,
          "min": "2005",
          "max": "2008",
          "histogram": [
           {
            "bin_start": 2005,
            "bin_end": 2005.3,
            "count": 3
           },
           {
            "bin_start": 2005.3,
            "bin_end": 2005.6,
            "count": 0
           },
           {
            "bin_start": 2005.6,
            "bin_end": 2005.9,
            "count": 0
           },
           {
            "bin_start": 2005.9,
            "bin_end": 2006.2,
            "count": 0
           },
           {
            "bin_start": 2006.2,
            "bin_end": 2006.5,
            "count": 0
           },
           {
            "bin_start": 2006.5,
            "bin_end": 2006.8,
            "count": 0
           },
           {
            "bin_start": 2006.8,
            "bin_end": 2007.1,
            "count": 1
           },
           {
            "bin_start": 2007.1,
            "bin_end": 2007.4,
            "count": 0
           },
           {
            "bin_start": 2007.4,
            "bin_end": 2007.7,
            "count": 0
           },
           {
            "bin_start": 2007.7,
            "bin_end": 2008,
            "count": 1
           }
          ]
         }
        },
        {
         "name": "Loan Amount in USD (M)",
         "dtype": "int64",
         "stats": {
          "unique_count": 5,
          "nan_count": 0,
          "min": "19",
          "max": "83",
          "histogram": [
           {
            "bin_start": 19,
            "bin_end": 25.4,
            "count": 2
           },
           {
            "bin_start": 25.4,
            "bin_end": 31.8,
            "count": 0
           },
           {
            "bin_start": 31.8,
            "bin_end": 38.2,
            "count": 1
           },
           {
            "bin_start": 38.2,
            "bin_end": 44.6,
            "count": 1
           },
           {
            "bin_start": 44.6,
            "bin_end": 51,
            "count": 0
           },
           {
            "bin_start": 51,
            "bin_end": 57.400000000000006,
            "count": 0
           },
           {
            "bin_start": 57.400000000000006,
            "bin_end": 63.800000000000004,
            "count": 0
           },
           {
            "bin_start": 63.800000000000004,
            "bin_end": 70.2,
            "count": 0
           },
           {
            "bin_start": 70.2,
            "bin_end": 76.6,
            "count": 0
           },
           {
            "bin_start": 76.6,
            "bin_end": 83,
            "count": 1
           }
          ]
         }
        },
        {
         "name": "COUNTRY",
         "dtype": "object",
         "stats": {
          "unique_count": 1,
          "nan_count": 0,
          "categories": [
           {
            "name": "Angola",
            "count": 5
           }
          ]
         }
        },
        {
         "name": "LENDER",
         "dtype": "object",
         "stats": {
          "unique_count": 1,
          "nan_count": 0,
          "categories": [
           {
            "name": "Eximbank",
            "count": 5
           }
          ]
         }
        },
        {
         "name": "SECTOR",
         "dtype": "object",
         "stats": {
          "unique_count": 1,
          "nan_count": 0,
          "categories": [
           {
            "name": "Water",
            "count": 5
           }
          ]
         }
        },
        {
         "name": "PURPOSE",
         "dtype": "object",
         "stats": {
          "unique_count": 5,
          "nan_count": 0,
          "categories": [
           {
            "name": "Luanda's Water Supply System",
            "count": 1
           },
           {
            "name": "Huambo's Water Supply System",
            "count": 1
           },
           {
            "name": "3 others",
            "count": 3
           }
          ]
         }
        },
        {
         "name": "_deepnote_index_column",
         "dtype": "int64"
        }
       ],
       "rows_top": [
        {
         "YEAR": 2005,
         "Loan Amount in USD (M)": 40,
         "COUNTRY": "Angola",
         "LENDER": "Eximbank",
         "SECTOR": "Water",
         "PURPOSE": "Luanda's Water Supply System",
         "_deepnote_index_column": 0
        },
        {
         "YEAR": 2005,
         "Loan Amount in USD (M)": 20,
         "COUNTRY": "Angola",
         "LENDER": "Eximbank",
         "SECTOR": "Water",
         "PURPOSE": "Huambo's Water Supply System",
         "_deepnote_index_column": 1
        },
        {
         "YEAR": 2005,
         "Loan Amount in USD (M)": 19,
         "COUNTRY": "Angola",
         "LENDER": "Eximbank",
         "SECTOR": "Water",
         "PURPOSE": "Caxito, Catete and Uíge's Water Supply System",
         "_deepnote_index_column": 2
        },
        {
         "YEAR": 2008,
         "Loan Amount in USD (M)": 32,
         "COUNTRY": "Angola",
         "LENDER": "Eximbank",
         "SECTOR": "Water",
         "PURPOSE": "Lundas Sul and Norte, Dundo and Saurimo Water Systems",
         "_deepnote_index_column": 3
        },
        {
         "YEAR": 2007,
         "Loan Amount in USD (M)": 83,
         "COUNTRY": "Angola",
         "LENDER": "Eximbank",
         "SECTOR": "Water",
         "PURPOSE": "Luanda's Water Supply System, Package 4",
         "_deepnote_index_column": 4
        }
       ],
       "rows_bottom": null
      },
      "text/plain": "   YEAR  Loan Amount in USD (M) COUNTRY    LENDER SECTOR  \\\n0  2005                      40  Angola  Eximbank  Water   \n1  2005                      20  Angola  Eximbank  Water   \n2  2005                      19  Angola  Eximbank  Water   \n3  2008                      32  Angola  Eximbank  Water   \n4  2007                      83  Angola  Eximbank  Water   \n\n                                             PURPOSE  \n0                       Luanda's Water Supply System  \n1                       Huambo's Water Supply System  \n2      Caxito, Catete and Uíge's Water Supply System  \n3  Lundas Sul and Norte, Dundo and Saurimo Water ...  \n4            Luanda's Water Supply System, Package 4  ",
      "text/html": "<div>\n<style scoped>\n    .dataframe tbody tr th:only-of-type {\n        vertical-align: middle;\n    }\n\n    .dataframe tbody tr th {\n        vertical-align: top;\n    }\n\n    .dataframe thead th {\n        text-align: right;\n    }\n</style>\n<table border=\"1\" class=\"dataframe\">\n  <thead>\n    <tr style=\"text-align: right;\">\n      <th></th>\n      <th>YEAR</th>\n      <th>Loan Amount in USD (M)</th>\n      <th>COUNTRY</th>\n      <th>LENDER</th>\n      <th>SECTOR</th>\n      <th>PURPOSE</th>\n    </tr>\n  </thead>\n  <tbody>\n    <tr>\n      <th>0</th>\n      <td>2005</td>\n      <td>40</td>\n      <td>Angola</td>\n      <td>Eximbank</td>\n      <td>Water</td>\n      <td>Luanda's Water Supply System</td>\n    </tr>\n    <tr>\n      <th>1</th>\n      <td>2005</td>\n      <td>20</td>\n      <td>Angola</td>\n      <td>Eximbank</td>\n      <td>Water</td>\n      <td>Huambo's Water Supply System</td>\n    </tr>\n    <tr>\n      <th>2</th>\n      <td>2005</td>\n      <td>19</td>\n      <td>Angola</td>\n      <td>Eximbank</td>\n      <td>Water</td>\n      <td>Caxito, Catete and Uíge's Water Supply System</td>\n    </tr>\n    <tr>\n      <th>3</th>\n      <td>2008</td>\n      <td>32</td>\n      <td>Angola</td>\n      <td>Eximbank</td>\n      <td>Water</td>\n      <td>Lundas Sul and Norte, Dundo and Saurimo Water ...</td>\n    </tr>\n    <tr>\n      <th>4</th>\n      <td>2007</td>\n      <td>83</td>\n      <td>Angola</td>\n      <td>Eximbank</td>\n      <td>Water</td>\n      <td>Luanda's Water Supply System, Package 4</td>\n    </tr>\n  </tbody>\n</table>\n</div>"
     },
     "metadata": {}
    }
   ],
   "execution_count": null
  },
  {
   "cell_type": "code",
   "metadata": {
    "tags": [],
    "cell_id": "00025-0b0cf374-f329-4175-a252-33b0c8934cde",
    "deepnote_to_be_reexecuted": false,
    "source_hash": "e1673e50",
    "execution_start": 1636920295948,
    "execution_millis": 341,
    "deepnote_cell_type": "code"
   },
   "source": "WaterLoans = WaterLoans[['COUNTRY','Loan Amount in USD (M)', 'YEAR']]\nWaterLoans = WaterLoans.pivot_table(index='YEAR', columns='COUNTRY', values = 'Loan Amount in USD (M)')\nWaterLoans = WaterLoans.fillna(0).cumsum()\nWaterLoans.plot(figsize=(18,8))\nplt.suptitle(\"Incurred Debt in the Water sector\")\nplt.show()",
   "outputs": [
    {
     "data": {
      "text/plain": "<Figure size 1296x576 with 1 Axes>",
      "image/png": "[encoded data removed]"
     },
     "metadata": {
      "needs_background": "light",
      "image/png": {
       "width": 1044,
       "height": 537
      }
     },
     "output_type": "display_data"
    }
   ],
   "execution_count": null
  },
  {
   "cell_type": "markdown",
   "source": "### Analysis Of Impact Of These Loans",
   "metadata": {
    "tags": [],
    "cell_id": "00032-b015d21a-914c-4446-90cd-8bbee835fda7",
    "deepnote_cell_type": "markdown"
   }
  },
  {
   "cell_type": "markdown",
   "source": "Let's compare the impact of these loans on the development metrics for Angola. We're going to be using specific sector loans to compare the impact in that particular sector. The first one is Agricultural Loans over the past 20 years, these amount to a total of $5 billion. The metrics that show the impact of loans in this sector are Arable land as a % of total land and Employment rate in Agriculture as % of total employment. These metrics best show the impact these loans have had on the Agricultural sector of Angola",
   "metadata": {
    "tags": [],
    "is_collapsed": false,
    "deepnote_cell_type": "text-cell-p"
   }
  },
  {
   "cell_type": "code",
   "metadata": {
    "tags": [],
    "cell_id": "00026-72e920af-3f7a-4403-9085-54366698cec0",
    "deepnote_to_be_reexecuted": false,
    "source_hash": "7d667d78",
    "execution_start": 1636920296296,
    "execution_millis": 615,
    "deepnote_cell_type": "code"
   },
   "source": "###Scatter Plot 1: Agriculture Loan (Millions) vs Arable Land (Angola)\n###Scatter Plot 2: Agriculture Loan (Millions) vs Employment in Agriculture (Angola)\n\nangola_df = wb.data.DataFrame(['AG.LND.ARBL.ZS', 'SL.AGR.EMPL.ZS'], ['AGO'],\n                             time=range(2000, 2020), index=['series', 'economy'])\n\nagricultureLoansScatter = agricultureLoans[agricultureLoans['COUNTRY'] == 'Angola']\nagricultureLoansScatter = agricultureLoansScatter[['Loan Amount in USD (M)', 'YEAR']]\nagricultureLoansScatter = agricultureLoansScatter.set_index('YEAR')\nagricultureLoansScatter = agricultureLoansScatter.reset_index().groupby('YEAR').sum()\n\n#Loans in Agriculture vs Increase in Arable land\nangolaArableLand = angola_df.reset_index().transpose()[2:][[0]]\nangolaArableLand.index = angolaArableLand.index.map(lambda x: int(x[2:]))\nangolaArableLand = angolaArableLand.rename(columns={0: \"Arable Land (% of land area)\"})\n\nscatter = pd.concat([angolaArableLand[:-1], agricultureLoansScatter], axis=1).fillna(0)\nscatter['Loan Amount in USD (M)'] = scatter['Loan Amount in USD (M)'].cumsum()\nscatter.plot.scatter(x=\"Arable Land (% of land area)\",y='Loan Amount in USD (M)')\n\n#Loans in Agriculture vs Employment in the Agriculture sector\nangolaAgricultureEmployment = angola_df.reset_index().transpose()[2:][[1]]\nangolaAgricultureEmployment.index = angolaAgricultureEmployment.index.map(lambda x: int(x[2:]))\nangolaAgricultureEmployment = angolaAgricultureEmployment.rename(columns={1: \"Employment in agriculture (% of total employment)\"})\n\nscatter = pd.concat([angolaAgricultureEmployment, agricultureLoansScatter], axis=1).fillna(0)\nscatter['Loan Amount in USD (M)'] = scatter['Loan Amount in USD (M)'].cumsum()\nscatter.plot.scatter(x='Employment in agriculture (% of total employment)',y='Loan Amount in USD (M)')",
   "outputs": [
    {
     "output_type": "execute_result",
     "execution_count": 14,
     "data": {
      "text/plain": "<AxesSubplot:xlabel='Employment in agriculture (% of total employment)', ylabel='Loan Amount in USD (M)'>"
     },
     "metadata": {}
    },
    {
     "data": {
      "text/plain": "<Figure size 432x288 with 1 Axes>",
      "image/png": "[encoded data removed]"
     },
     "metadata": {
      "needs_background": "light",
      "image/png": {
       "width": 402,
       "height": 262
      }
     },
     "output_type": "display_data"
    },
    {
     "data": {
      "text/plain": "<Figure size 432x288 with 1 Axes>",
      "image/png": "[encoded data removed]"
     },
     "metadata": {
      "needs_background": "light",
      "image/png": {
       "width": 395,
       "height": 262
      }
     },
     "output_type": "display_data"
    }
   ],
   "execution_count": null
  },
  {
   "cell_type": "markdown",
   "source": "The right side of the scatter plot shows that as the cumulative amount of loans have increased over the past 5 years, the development in those sectors is minimal. Agricultural loans doubled over the past 5 years from $600 million to $1.2 billion and the arable land also increased from 3.2% to 4% of total land, yet the employment in that sector stayed constant. This, combined with little to no improvement in the GDP from the agriculture sector, points to a slowing growth.",
   "metadata": {
    "tags": [],
    "is_collapsed": false,
    "cell_id": "00035-993a0e58-20e7-462a-be8b-9da63620a56d",
    "deepnote_cell_type": "text-cell-p"
   }
  },
  {
   "cell_type": "markdown",
   "source": "Analysis: As the cumulative loan amounts have gone up these metrics have trended in the right direction however we see the 'Law of Diminishing returns' applies here. This is due to the fact that the supporting infrastructure in Angola haven't kept up with the inflow of capital and the benefit of more loans is not directly relating to an improvement in these metrics. Moreover, the tense political conditions have made it increasingly harder for efficient deployment of capital. ",
   "metadata": {
    "tags": [],
    "is_collapsed": false,
    "deepnote_cell_type": "text-cell-p"
   }
  },
  {
   "cell_type": "code",
   "metadata": {
    "tags": [],
    "cell_id": "00027-998a9722-c1ac-44da-8e1a-930e6f1219cd",
    "deepnote_to_be_reexecuted": false,
    "source_hash": "ef84fc9e",
    "execution_start": 1636920296864,
    "execution_millis": 312,
    "deepnote_cell_type": "code"
   },
   "source": "###Scatter Plot 1: Transportation Loan (Millions) vs Poverty headcount ratio (Angola)\n\nangola_df = wb.data.DataFrame(['TM.VAL.ICTG.ZS.UN'], ['AGO'],\n                             time=range(2000, 2020), index=['series', 'economy'])\n\n\ntransportLoansScatter = transportLoans[transportLoans['COUNTRY'] == 'Angola']\ntransportLoansScatter = transportLoansScatter[['Loan Amount in USD (M)', 'YEAR']]\ntransportLoansScatter = transportLoansScatter.set_index('YEAR')\ntransportLoansScatter = transportLoansScatter.reset_index().groupby('YEAR').sum()\n\n#Loans in Transportation vs Poverty headcount ratio\nangolaPovertyRatio = angola_df.reset_index().transpose()[2:][[0]]\nangolaPovertyRatio.index = angolaPovertyRatio.index.map(lambda x: int(x[2:]))\nangolaPovertyRatio = angolaPovertyRatio.rename(columns={0: \"Poverty headcount ratio\"})\n\nscatter = pd.concat([angolaPovertyRatio, transportLoansScatter], axis=1).dropna()\nscatter['Loan Amount in USD (M)'] = scatter['Loan Amount in USD (M)'].cumsum()\nscatter.plot.scatter(x='Poverty headcount ratio',y='Loan Amount in USD (M)')",
   "outputs": [
    {
     "output_type": "execute_result",
     "execution_count": 15,
     "data": {
      "text/plain": "<AxesSubplot:xlabel='Poverty headcount ratio', ylabel='Loan Amount in USD (M)'>"
     },
     "metadata": {}
    },
    {
     "data": {
      "text/plain": "<Figure size 432x288 with 1 Axes>",
      "image/png": "[encoded data removed]"
     },
     "metadata": {
      "needs_background": "light",
      "image/png": {
       "width": 395,
       "height": 262
      }
     },
     "output_type": "display_data"
    }
   ],
   "execution_count": null
  },
  {
   "cell_type": "markdown",
   "source": "As transportation loans have gone up the poverty headcount ratio has declined but this too is showing signs of slowing down. The last loan in the transport sector has had little to no impact on the poverty headcount ratio of Angola. There is not enough data to prove this hypothesis but after looking at similar data from other sectors we are not optimistic about this rate of decline of poverty with increasing loans.",
   "metadata": {
    "tags": [],
    "is_collapsed": false,
    "cell_id": "00038-c8971b62-a5d8-44b7-bee1-1607a0b08941",
    "deepnote_cell_type": "text-cell-p"
   }
  },
  {
   "cell_type": "markdown",
   "source": "## <u>Model Evaluaton/Feature Selection</u>",
   "metadata": {
    "tags": [],
    "cell_id": "00011-02e6fbf4-7ba4-44b8-a965-35adcdaac8c2",
    "deepnote_cell_type": "markdown"
   }
  },
  {
   "cell_type": "code",
   "metadata": {
    "tags": [],
    "cell_id": "00012-34292b24-0439-417a-add6-c1170cbb018d",
    "deepnote_to_be_reexecuted": false,
    "source_hash": "ab0424f5",
    "execution_start": 1636920297177,
    "execution_millis": 382,
    "deepnote_cell_type": "code"
   },
   "source": "#['AGO', 'ETH', 'ZMB', 'KEN', 'NGA']\n#EP.PMP.DESL.CD\tPump price for diesel fuel (US$ per liter)\n#EP.PMP.SGAS.CD\tPump price for gasoline (US$ per liter)\n# LP.LPI.OVRL.XQ\tLogistics performance index: Overall (1=low to 5=high)\n# IS.SHP.GCNW.XQ\tLiner shipping connectivity index (maximum value in 2004 = 100)\n#SE.PRM.CMPT\tCompleters, primary, total\n#SE.PRM.GINT.ZS\tGross intake ratio in first grade of primary education, total (% of relevant age group)\n#SE.PSA.LITR\tPISA mean score for reading, total\n#SE.PSA.MATH\tPISA mean score for math, total\n#SE.SCH.LIFE\tExpected years of schooling\n#SE.TER.CMPL.ZS\tGross graduation ratio, tertiary, total (%)\n#SL.UEM.ADVN.ZS\tUnemployment with advanced education (% of total labor force with advanced education)\n#SL.UEM.BASC.ZS\tUnemployment with basic education (% of total labor force with basic education)\n#SL.UEM.NEET.ZS\tShare of youth not in education, employment or training, total (% of youth population)\n#SL.UEM.LTRM.ZS\tLong-term unemployment (% of total unemployment)\n#SE.XPD.TOTL.GD.ZS\tGovernment expenditure on education, total (% of GDP)\n#SH.XPD.CHEX.GD.ZS\tCurrent health expenditure (% of GDP)\n#SH.XPD.CHEX.PC.CD\tCurrent health expenditure per capita (current US$)\n#SH.XPD.PVTD.CH.ZS\tDomestic private health expenditure (% of current health expenditure\n#EG.IMP.CONS.ZS\tEnergy imports, net (% of energy use)\n#AG.LND.ARBL.ZS\tArable land (% of land area)\n# EG.CFT.ACCS.ZS\tAccess to clean fuels and technologies for cooking (% of population)\n#EN.ATM.PM25.MC.M3\tPM2.5 air pollution, mean annual exposure (micrograms per cubic meter)\n#EN.ATM.PM25.MC.ZS\tPM2.5 air pollution, population exposed to levels exceeding WHO guideline value (% of total)\n#ER.H2O.FWTL.ZS\tAnnual freshwater withdrawals, total (% of internal resources)#\n#ER.H2O.INTR.PC\tRenewable internal freshwater resources per capita (cubic meters)\n#SH.XPD.EHEX.PP.CD\tExternal health expenditure per capita, PPP (current international $)\n#SI.POV.MDIM\tMultidimensional poverty headcount ratio (% of total population)\n#SP.DYN.IMRT.MA.IN\tMortality rate, infant, male (per 1,000 live births)\n#SP.DYN.LE00.IN\tLife expectancy at birth, total (years)\n#SP.DYN.TFRT.IN\tFertility rate, total (births per woman)\n#TM.VAL.ICTG.ZS.UN \tICT goods imports (% total goods imports)\n#NY.GDP.MKTP.PP.CD\tGDP, PPP (current international $)\ncombined1train = wb.data.DataFrame(['EP.PMP.DESL.CD', 'EP.PMP.SGAS.CD',  'IS.SHP.GCNW.XQ', \n            'LP.LPI.OVRL.XQ',  'SL.UEM.NEET.ZS', 'SE.XPD.TOTL.GD.ZS', 'SH.XPD.CHEX.GD.ZS'\n            , 'SH.XPD.CHEX.PC.CD', 'SH.XPD.PVTD.CH.ZS', 'EG.IMP.CONS.ZS', 'AG.LND.ARBL.ZS',\n            'EG.CFT.ACCS.ZS', 'EN.ATM.PM25.MC.M3', 'EN.ATM.PM25.MC.ZS', 'ER.H2O.FWTL.ZS'\n            , 'ER.H2O.INTR.PC', 'SH.XPD.EHEX.PP.CD', 'SH.XPD.EXTR.ZS', 'SI.POV.MDIM', 'SP.DYN.IMRT.MA.IN',\n            'SP.DYN.LE00.IN', 'SP.DYN.TFRT.IN', 'TM.VAL.ICTG.ZS.UN'], ['AGO'],\n                             time=range(2000, 2020), index=['series', 'economy'])\ncombined1Xtrain = combined1train.reset_index().transpose()[2:].fillna(0)\ncombined1train",
   "outputs": [
    {
     "output_type": "execute_result",
     "execution_count": 16,
     "data": {
      "application/vnd.deepnote.dataframe.v2+json": {
       "row_count": 22,
       "column_count": 20,
       "columns": [
        {
         "name": "YR2000",
         "dtype": "float64",
         "stats": {
          "unique_count": 15,
          "nan_count": 7,
          "min": "-504.159001757244",
          "max": "130.8",
          "histogram": [
           {
            "bin_start": -504.159001757244,
            "bin_end": -440.66310158151964,
            "count": 1
           },
           {
            "bin_start": -440.66310158151964,
            "bin_end": -377.1672014057952,
            "count": 0
           },
           {
            "bin_start": -377.1672014057952,
            "bin_end": -313.6713012300708,
            "count": 0
           },
           {
            "bin_start": -313.6713012300708,
            "bin_end": -250.1754010543464,
            "count": 0
           },
           {
            "bin_start": -250.1754010543464,
            "bin_end": -186.67950087862198,
            "count": 0
           },
           {
            "bin_start": -186.67950087862198,
            "bin_end": -123.18360070289759,
            "count": 0
           },
           {
            "bin_start": -123.18360070289759,
            "bin_end": -59.68770052717315,
            "count": 0
           },
           {
            "bin_start": -59.68770052717315,
            "bin_end": 3.8081996485512377,
            "count": 6
           },
           {
            "bin_start": 3.8081996485512377,
            "bin_end": 67.30409982427568,
            "count": 6
           },
           {
            "bin_start": 67.30409982427568,
            "bin_end": 130.8,
            "count": 2
           }
          ]
         }
        },
        {
         "name": "YR2001",
         "dtype": "float64",
         "stats": {
          "unique_count": 10,
          "nan_count": 12,
          "min": "-475.111255280346",
          "max": "127.2",
          "histogram": [
           {
            "bin_start": -475.111255280346,
            "bin_end": -414.88012975231135,
            "count": 1
           },
           {
            "bin_start": -414.88012975231135,
            "bin_end": -354.6490042242768,
            "count": 0
           },
           {
            "bin_start": -354.6490042242768,
            "bin_end": -294.41787869624216,
            "count": 0
           },
           {
            "bin_start": -294.41787869624216,
            "bin_end": -234.18675316820756,
            "count": 0
           },
           {
            "bin_start": -234.18675316820756,
            "bin_end": -173.95562764017296,
            "count": 0
           },
           {
            "bin_start": -173.95562764017296,
            "bin_end": -113.72450211213834,
            "count": 0
           },
           {
            "bin_start": -113.72450211213834,
            "bin_end": -53.49337658410377,
            "count": 0
           },
           {
            "bin_start": -53.49337658410377,
            "bin_end": 6.737748943930853,
            "count": 4
           },
           {
            "bin_start": 6.737748943930853,
            "bin_end": 66.96887447196548,
            "count": 4
           },
           {
            "bin_start": 66.96887447196548,
            "bin_end": 127.2,
            "count": 1
           }
          ]
         }
        },
        {
         "name": "YR2002",
         "dtype": "float64",
         "stats": {
          "unique_count": 14,
          "nan_count": 8,
          "min": "-550.714185301334",
          "max": "8447.76921242475",
          "histogram": [
           {
            "bin_start": -550.714185301334,
            "bin_end": 349.1341544712743,
            "count": 13
           },
           {
            "bin_start": 349.1341544712743,
            "bin_end": 1248.9824942438827,
            "count": 0
           },
           {
            "bin_start": 1248.9824942438827,
            "bin_end": 2148.830834016491,
            "count": 0
           },
           {
            "bin_start": 2148.830834016491,
            "bin_end": 3048.6791737890994,
            "count": 0
           },
           {
            "bin_start": 3048.6791737890994,
            "bin_end": 3948.527513561708,
            "count": 0
           },
           {
            "bin_start": 3948.527513561708,
            "bin_end": 4848.375853334315,
            "count": 0
           },
           {
            "bin_start": 4848.375853334315,
            "bin_end": 5748.224193106924,
            "count": 0
           },
           {
            "bin_start": 5748.224193106924,
            "bin_end": 6648.072532879532,
            "count": 0
           },
           {
            "bin_start": 6648.072532879532,
            "bin_end": 7547.920872652141,
            "count": 0
           },
           {
            "bin_start": 7547.920872652141,
            "bin_end": 8447.76921242475,
            "count": 1
           }
          ]
         }
        },
        {
         "name": "YR2003",
         "dtype": "float64",
         "stats": {
          "unique_count": 10,
          "nan_count": 12,
          "min": "-501.436655943393",
          "max": "118.9",
          "histogram": [
           {
            "bin_start": -501.436655943393,
            "bin_end": -439.4029903490537,
            "count": 1
           },
           {
            "bin_start": -439.4029903490537,
            "bin_end": -377.3693247547144,
            "count": 0
           },
           {
            "bin_start": -377.3693247547144,
            "bin_end": -315.33565916037514,
            "count": 0
           },
           {
            "bin_start": -315.33565916037514,
            "bin_end": -253.30199356603583,
            "count": 0
           },
           {
            "bin_start": -253.30199356603583,
            "bin_end": -191.26832797169652,
            "count": 0
           },
           {
            "bin_start": -191.26832797169652,
            "bin_end": -129.23466237735727,
            "count": 0
           },
           {
            "bin_start": -129.23466237735727,
            "bin_end": -67.20099678301796,
            "count": 0
           },
           {
            "bin_start": -67.20099678301796,
            "bin_end": -5.167331188678645,
            "count": 0
           },
           {
            "bin_start": -5.167331188678645,
            "bin_end": 56.86633440566061,
            "count": 7
           },
           {
            "bin_start": 56.86633440566061,
            "bin_end": 118.9,
            "count": 2
           }
          ]
         }
        },
        {
         "name": "YR2004",
         "dtype": "float64",
         "stats": {
          "unique_count": 14,
          "nan_count": 8,
          "min": "-555.809535409895",
          "max": "114.1",
          "histogram": [
           {
            "bin_start": -555.809535409895,
            "bin_end": -488.81858186890554,
            "count": 1
           },
           {
            "bin_start": -488.81858186890554,
            "bin_end": -421.82762832791605,
            "count": 0
           },
           {
            "bin_start": -421.82762832791605,
            "bin_end": -354.8366747869265,
            "count": 0
           },
           {
            "bin_start": -354.8366747869265,
            "bin_end": -287.845721245937,
            "count": 0
           },
           {
            "bin_start": -287.845721245937,
            "bin_end": -220.8547677049475,
            "count": 0
           },
           {
            "bin_start": -220.8547677049475,
            "bin_end": -153.86381416395795,
            "count": 0
           },
           {
            "bin_start": -153.86381416395795,
            "bin_end": -86.87286062296846,
            "count": 0
           },
           {
            "bin_start": -86.87286062296846,
            "bin_end": -19.881907081978966,
            "count": 0
           },
           {
            "bin_start": -19.881907081978966,
            "bin_end": 47.10904645901053,
            "count": 9
           },
           {
            "bin_start": 47.10904645901053,
            "bin_end": 114.1,
            "count": 4
           }
          ]
         }
        },
        {
         "name": "YR2005",
         "dtype": "float64",
         "stats": {
          "unique_count": 14,
          "nan_count": 8,
          "min": "-735.864294703601",
          "max": "109.0",
          "histogram": [
           {
            "bin_start": -735.864294703601,
            "bin_end": -651.3778652332409,
            "count": 1
           },
           {
            "bin_start": -651.3778652332409,
            "bin_end": -566.8914357628807,
            "count": 0
           },
           {
            "bin_start": -566.8914357628807,
            "bin_end": -482.40500629252074,
            "count": 0
           },
           {
            "bin_start": -482.40500629252074,
            "bin_end": -397.9185768221606,
            "count": 0
           },
           {
            "bin_start": -397.9185768221606,
            "bin_end": -313.4321473518005,
            "count": 0
           },
           {
            "bin_start": -313.4321473518005,
            "bin_end": -228.94571788144043,
            "count": 0
           },
           {
            "bin_start": -228.94571788144043,
            "bin_end": -144.45928841108037,
            "count": 0
           },
           {
            "bin_start": -144.45928841108037,
            "bin_end": -59.97285894072024,
            "count": 0
           },
           {
            "bin_start": -59.97285894072024,
            "bin_end": 24.51357052963988,
            "count": 6
           },
           {
            "bin_start": 24.51357052963988,
            "bin_end": 109,
            "count": 7
           }
          ]
         }
        },
        {
         "name": "YR2006",
         "dtype": "float64",
         "stats": {
          "unique_count": 14,
          "nan_count": 8,
          "min": "-759.628788823642",
          "max": "103.9",
          "histogram": [
           {
            "bin_start": -759.628788823642,
            "bin_end": -673.2759099412779,
            "count": 1
           },
           {
            "bin_start": -673.2759099412779,
            "bin_end": -586.9230310589137,
            "count": 0
           },
           {
            "bin_start": -586.9230310589137,
            "bin_end": -500.5701521765494,
            "count": 0
           },
           {
            "bin_start": -500.5701521765494,
            "bin_end": -414.21727329418525,
            "count": 0
           },
           {
            "bin_start": -414.21727329418525,
            "bin_end": -327.8643944118211,
            "count": 0
           },
           {
            "bin_start": -327.8643944118211,
            "bin_end": -241.5115155294568,
            "count": 0
           },
           {
            "bin_start": -241.5115155294568,
            "bin_end": -155.15863664709264,
            "count": 0
           },
           {
            "bin_start": -155.15863664709264,
            "bin_end": -68.80575776472847,
            "count": 0
           },
           {
            "bin_start": -68.80575776472847,
            "bin_end": 17.547121117635697,
            "count": 8
           },
           {
            "bin_start": 17.547121117635697,
            "bin_end": 103.9,
            "count": 5
           }
          ]
         }
        },
        {
         "name": "YR2007",
         "dtype": "float64",
         "stats": {
          "unique_count": 15,
          "nan_count": 7,
          "min": "-858.188815303372",
          "max": "7079.52410290949",
          "histogram": [
           {
            "bin_start": -858.188815303372,
            "bin_end": -64.41752348208581,
            "count": 1
           },
           {
            "bin_start": -64.41752348208581,
            "bin_end": 729.3537683392004,
            "count": 13
           },
           {
            "bin_start": 729.3537683392004,
            "bin_end": 1523.1250601604866,
            "count": 0
           },
           {
            "bin_start": 1523.1250601604866,
            "bin_end": 2316.896351981773,
            "count": 0
           },
           {
            "bin_start": 2316.896351981773,
            "bin_end": 3110.6676438030595,
            "count": 0
           },
           {
            "bin_start": 3110.6676438030595,
            "bin_end": 3904.438935624345,
            "count": 0
           },
           {
            "bin_start": 3904.438935624345,
            "bin_end": 4698.210227445631,
            "count": 0
           },
           {
            "bin_start": 4698.210227445631,
            "bin_end": 5491.9815192669175,
            "count": 0
           },
           {
            "bin_start": 5491.9815192669175,
            "bin_end": 6285.752811088204,
            "count": 0
           },
           {
            "bin_start": 6285.752811088204,
            "bin_end": 7079.52410290949,
            "count": 1
           }
          ]
         }
        },
        {
         "name": "YR2008",
         "dtype": "float64",
         "stats": {
          "unique_count": 13,
          "nan_count": 9,
          "min": "-885.245940803771",
          "max": "135.6058197",
          "histogram": [
           {
            "bin_start": -885.245940803771,
            "bin_end": -783.1607647533939,
            "count": 1
           },
           {
            "bin_start": -783.1607647533939,
            "bin_end": -681.0755887030168,
            "count": 0
           },
           {
            "bin_start": -681.0755887030168,
            "bin_end": -578.9904126526396,
            "count": 0
           },
           {
            "bin_start": -578.9904126526396,
            "bin_end": -476.90523660226256,
            "count": 0
           },
           {
            "bin_start": -476.90523660226256,
            "bin_end": -374.8200605518855,
            "count": 0
           },
           {
            "bin_start": -374.8200605518855,
            "bin_end": -272.7348845015083,
            "count": 0
           },
           {
            "bin_start": -272.7348845015083,
            "bin_end": -170.64970845113123,
            "count": 0
           },
           {
            "bin_start": -170.64970845113123,
            "bin_end": -68.56453240075416,
            "count": 0
           },
           {
            "bin_start": -68.56453240075416,
            "bin_end": 33.52064364962291,
            "count": 8
           },
           {
            "bin_start": 33.52064364962291,
            "bin_end": 135.6058197,
            "count": 4
           }
          ]
         }
        },
        {
         "name": "YR2009",
         "dtype": "float64",
         "stats": {
          "unique_count": 13,
          "nan_count": 9,
          "min": "-764.549421482873",
          "max": "119.99628448",
          "histogram": [
           {
            "bin_start": -764.549421482873,
            "bin_end": -676.0948508865856,
            "count": 1
           },
           {
            "bin_start": -676.0948508865856,
            "bin_end": -587.6402802902984,
            "count": 0
           },
           {
            "bin_start": -587.6402802902984,
            "bin_end": -499.18570969401105,
            "count": 0
           },
           {
            "bin_start": -499.18570969401105,
            "bin_end": -410.73113909772377,
            "count": 0
           },
           {
            "bin_start": -410.73113909772377,
            "bin_end": -322.2765685014365,
            "count": 0
           },
           {
            "bin_start": -322.2765685014365,
            "bin_end": -233.82199790514915,
            "count": 0
           },
           {
            "bin_start": -233.82199790514915,
            "bin_end": -145.36742730886192,
            "count": 0
           },
           {
            "bin_start": -145.36742730886192,
            "bin_end": -56.91285671257458,
            "count": 0
           },
           {
            "bin_start": -56.91285671257458,
            "bin_end": 31.54171388371276,
            "count": 8
           },
           {
            "bin_start": 31.54171388371276,
            "bin_end": 119.99628448,
            "count": 4
           }
          ]
         }
        },
        {
         "name": "YR2010",
         "dtype": "float64",
         "stats": {
          "unique_count": 18,
          "nan_count": 4,
          "min": "-703.772381443532",
          "max": "100.0",
          "histogram": [
           {
            "bin_start": -703.772381443532,
            "bin_end": -623.3951432991788,
            "count": 1
           },
           {
            "bin_start": -623.3951432991788,
            "bin_end": -543.0179051548256,
            "count": 0
           },
           {
            "bin_start": -543.0179051548256,
            "bin_end": -462.64066701047244,
            "count": 0
           },
           {
            "bin_start": -462.64066701047244,
            "bin_end": -382.2634288661192,
            "count": 0
           },
           {
            "bin_start": -382.2634288661192,
            "bin_end": -301.886190721766,
            "count": 0
           },
           {
            "bin_start": -301.886190721766,
            "bin_end": -221.50895257741286,
            "count": 0
           },
           {
            "bin_start": -221.50895257741286,
            "bin_end": -141.13171443305964,
            "count": 0
           },
           {
            "bin_start": -141.13171443305964,
            "bin_end": -60.75447628870643,
            "count": 0
           },
           {
            "bin_start": -60.75447628870643,
            "bin_end": 19.622761855646786,
            "count": 10
           },
           {
            "bin_start": 19.622761855646786,
            "bin_end": 100,
            "count": 7
           }
          ]
         }
        },
        {
         "name": "YR2011",
         "dtype": "float64",
         "stats": {
          "unique_count": 16,
          "nan_count": 6,
          "min": "-619.053894591281",
          "max": "122.10723114",
          "histogram": [
           {
            "bin_start": -619.053894591281,
            "bin_end": -544.9377820181529,
            "count": 1
           },
           {
            "bin_start": -544.9377820181529,
            "bin_end": -470.82166944502484,
            "count": 0
           },
           {
            "bin_start": -470.82166944502484,
            "bin_end": -396.70555687189676,
            "count": 0
           },
           {
            "bin_start": -396.70555687189676,
            "bin_end": -322.5894442987686,
            "count": 0
           },
           {
            "bin_start": -322.5894442987686,
            "bin_end": -248.4733317256405,
            "count": 0
           },
           {
            "bin_start": -248.4733317256405,
            "bin_end": -174.3572191525124,
            "count": 0
           },
           {
            "bin_start": -174.3572191525124,
            "bin_end": -100.24110657938434,
            "count": 0
           },
           {
            "bin_start": -100.24110657938434,
            "bin_end": -26.124994006256202,
            "count": 0
           },
           {
            "bin_start": -26.124994006256202,
            "bin_end": 47.99111856687193,
            "count": 11
           },
           {
            "bin_start": 47.99111856687193,
            "bin_end": 122.10723114,
            "count": 4
           }
          ]
         }
        },
        {
         "name": "YR2012",
         "dtype": "float64",
         "stats": {
          "unique_count": 20,
          "nan_count": 2,
          "min": "-589.506131357009",
          "max": "5894.55321377613",
          "histogram": [
           {
            "bin_start": -589.506131357009,
            "bin_end": 58.89980315630487,
            "count": 16
           },
           {
            "bin_start": 58.89980315630487,
            "bin_end": 707.3057376696188,
            "count": 3
           },
           {
            "bin_start": 707.3057376696188,
            "bin_end": 1355.7116721829327,
            "count": 0
           },
           {
            "bin_start": 1355.7116721829327,
            "bin_end": 2004.1176066962466,
            "count": 0
           },
           {
            "bin_start": 2004.1176066962466,
            "bin_end": 2652.5235412095603,
            "count": 0
           },
           {
            "bin_start": 2652.5235412095603,
            "bin_end": 3300.9294757228745,
            "count": 0
           },
           {
            "bin_start": 3300.9294757228745,
            "bin_end": 3949.3354102361886,
            "count": 0
           },
           {
            "bin_start": 3949.3354102361886,
            "bin_end": 4597.741344749502,
            "count": 0
           },
           {
            "bin_start": 4597.741344749502,
            "bin_end": 5246.147279262816,
            "count": 0
           },
           {
            "bin_start": 5246.147279262816,
            "bin_end": 5894.55321377613,
            "count": 1
           }
          ]
         }
        },
        {
         "name": "YR2013",
         "dtype": "float64",
         "stats": {
          "unique_count": 15,
          "nan_count": 7,
          "min": "-594.546142867359",
          "max": "143.60687256",
          "histogram": [
           {
            "bin_start": -594.546142867359,
            "bin_end": -520.730841324623,
            "count": 1
           },
           {
            "bin_start": -520.730841324623,
            "bin_end": -446.9155397818872,
            "count": 0
           },
           {
            "bin_start": -446.9155397818872,
            "bin_end": -373.1002382391513,
            "count": 0
           },
           {
            "bin_start": -373.1002382391513,
            "bin_end": -299.2849366964154,
            "count": 0
           },
           {
            "bin_start": -299.2849366964154,
            "bin_end": -225.46963515367952,
            "count": 0
           },
           {
            "bin_start": -225.46963515367952,
            "bin_end": -151.65433361094358,
            "count": 0
           },
           {
            "bin_start": -151.65433361094358,
            "bin_end": -77.83903206820776,
            "count": 0
           },
           {
            "bin_start": -77.83903206820776,
            "bin_end": -4.023730525471819,
            "count": 0
           },
           {
            "bin_start": -4.023730525471819,
            "bin_end": 69.79157101726412,
            "count": 11
           },
           {
            "bin_start": 69.79157101726412,
            "bin_end": 143.60687256,
            "count": 3
           }
          ]
         }
        },
        {
         "name": "YR2014",
         "dtype": "float64",
         "stats": {
          "unique_count": 19,
          "nan_count": 3,
          "min": "-540.997471229649",
          "max": "131.6476593",
          "histogram": [
           {
            "bin_start": -540.997471229649,
            "bin_end": -473.7329581766841,
            "count": 1
           },
           {
            "bin_start": -473.7329581766841,
            "bin_end": -406.4684451237192,
            "count": 0
           },
           {
            "bin_start": -406.4684451237192,
            "bin_end": -339.2039320707543,
            "count": 0
           },
           {
            "bin_start": -339.2039320707543,
            "bin_end": -271.9394190177894,
            "count": 0
           },
           {
            "bin_start": -271.9394190177894,
            "bin_end": -204.67490596482452,
            "count": 0
           },
           {
            "bin_start": -204.67490596482452,
            "bin_end": -137.41039291185962,
            "count": 0
           },
           {
            "bin_start": -137.41039291185962,
            "bin_end": -70.14587985889472,
            "count": 0
           },
           {
            "bin_start": -70.14587985889472,
            "bin_end": -2.881366805929815,
            "count": 0
           },
           {
            "bin_start": -2.881366805929815,
            "bin_end": 64.38314624703514,
            "count": 15
           },
           {
            "bin_start": 64.38314624703514,
            "bin_end": 131.6476593,
            "count": 3
           }
          ]
         }
        },
        {
         "name": "YR2015",
         "dtype": "float64",
         "stats": {
          "unique_count": 15,
          "nan_count": 7,
          "min": "2.60579467",
          "max": "108.58293915",
          "histogram": [
           {
            "bin_start": 2.60579467,
            "bin_end": 13.203509118000001,
            "count": 6
           },
           {
            "bin_start": 13.203509118000001,
            "bin_end": 23.801223566000004,
            "count": 1
           },
           {
            "bin_start": 23.801223566000004,
            "bin_end": 34.398938014,
            "count": 1
           },
           {
            "bin_start": 34.398938014,
            "bin_end": 44.99665246200001,
            "count": 0
           },
           {
            "bin_start": 44.99665246200001,
            "bin_end": 55.59436691000001,
            "count": 3
           },
           {
            "bin_start": 55.59436691000001,
            "bin_end": 66.19208135800001,
            "count": 2
           },
           {
            "bin_start": 66.19208135800001,
            "bin_end": 76.789795806,
            "count": 0
           },
           {
            "bin_start": 76.789795806,
            "bin_end": 87.387510254,
            "count": 0
           },
           {
            "bin_start": 87.387510254,
            "bin_end": 97.98522470200001,
            "count": 0
           },
           {
            "bin_start": 97.98522470200001,
            "bin_end": 108.58293915,
            "count": 2
           }
          ]
         }
        },
        {
         "name": "YR2016",
         "dtype": "float64",
         "stats": {
          "unique_count": 17,
          "nan_count": 5,
          "min": "0.82",
          "max": "100.0",
          "histogram": [
           {
            "bin_start": 0.82,
            "bin_end": 10.738000000000001,
            "count": 9
           },
           {
            "bin_start": 10.738000000000001,
            "bin_end": 20.656000000000002,
            "count": 0
           },
           {
            "bin_start": 20.656000000000002,
            "bin_end": 30.574000000000005,
            "count": 1
           },
           {
            "bin_start": 30.574000000000005,
            "bin_end": 40.492000000000004,
            "count": 1
           },
           {
            "bin_start": 40.492000000000004,
            "bin_end": 50.410000000000004,
            "count": 1
           },
           {
            "bin_start": 50.410000000000004,
            "bin_end": 60.32800000000001,
            "count": 2
           },
           {
            "bin_start": 60.32800000000001,
            "bin_end": 70.246,
            "count": 1
           },
           {
            "bin_start": 70.246,
            "bin_end": 80.164,
            "count": 0
           },
           {
            "bin_start": 80.164,
            "bin_end": 90.08200000000001,
            "count": 0
           },
           {
            "bin_start": 90.08200000000001,
            "bin_end": 100,
            "count": 2
           }
          ]
         }
        },
        {
         "name": "YR2017",
         "dtype": "float64",
         "stats": {
          "unique_count": 15,
          "nan_count": 7,
          "min": "0.476824324324324",
          "max": "4963.64981732259",
          "histogram": [
           {
            "bin_start": 0.476824324324324,
            "bin_end": 496.79412362415087,
            "count": 14
           },
           {
            "bin_start": 496.79412362415087,
            "bin_end": 993.1114229239774,
            "count": 0
           },
           {
            "bin_start": 993.1114229239774,
            "bin_end": 1489.428722223804,
            "count": 0
           },
           {
            "bin_start": 1489.428722223804,
            "bin_end": 1985.7460215236306,
            "count": 0
           },
           {
            "bin_start": 1985.7460215236306,
            "bin_end": 2482.063320823457,
            "count": 0
           },
           {
            "bin_start": 2482.063320823457,
            "bin_end": 2978.3806201232837,
            "count": 0
           },
           {
            "bin_start": 2978.3806201232837,
            "bin_end": 3474.6979194231103,
            "count": 0
           },
           {
            "bin_start": 3474.6979194231103,
            "bin_end": 3971.015218722937,
            "count": 0
           },
           {
            "bin_start": 3971.015218722937,
            "bin_end": 4467.332518022763,
            "count": 0
           },
           {
            "bin_start": 4467.332518022763,
            "bin_end": 4963.64981732259,
            "count": 1
           }
          ]
         }
        },
        {
         "name": "YR2018",
         "dtype": "float64",
         "stats": {
          "unique_count": 12,
          "nan_count": 10,
          "min": "2.04469990730286",
          "max": "87.61676788",
          "histogram": [
           {
            "bin_start": 2.04469990730286,
            "bin_end": 10.601906704572574,
            "count": 7
           },
           {
            "bin_start": 10.601906704572574,
            "bin_end": 19.15911350184229,
            "count": 0
           },
           {
            "bin_start": 19.15911350184229,
            "bin_end": 27.716320299112002,
            "count": 1
           },
           {
            "bin_start": 27.716320299112002,
            "bin_end": 36.27352709638171,
            "count": 0
           },
           {
            "bin_start": 36.27352709638171,
            "bin_end": 44.83073389365143,
            "count": 0
           },
           {
            "bin_start": 44.83073389365143,
            "bin_end": 53.38794069092114,
            "count": 0
           },
           {
            "bin_start": 53.38794069092114,
            "bin_end": 61.945147488190855,
            "count": 3
           },
           {
            "bin_start": 61.945147488190855,
            "bin_end": 70.50235428546057,
            "count": 0
           },
           {
            "bin_start": 70.50235428546057,
            "bin_end": 79.05956108273028,
            "count": 0
           },
           {
            "bin_start": 79.05956108273028,
            "bin_end": 87.61676788,
            "count": 1
           }
          ]
         }
        },
        {
         "name": "YR2019",
         "dtype": "float64",
         "stats": {
          "unique_count": 5,
          "nan_count": 17,
          "min": "1.82117998600006",
          "max": "61.147",
          "histogram": [
           {
            "bin_start": 1.82117998600006,
            "bin_end": 7.753761987400054,
            "count": 2
           },
           {
            "bin_start": 7.753761987400054,
            "bin_end": 13.686343988800047,
            "count": 0
           },
           {
            "bin_start": 13.686343988800047,
            "bin_end": 19.618925990200044,
            "count": 0
           },
           {
            "bin_start": 19.618925990200044,
            "bin_end": 25.551507991600037,
            "count": 0
           },
           {
            "bin_start": 25.551507991600037,
            "bin_end": 31.48408999300003,
            "count": 1
           },
           {
            "bin_start": 31.48408999300003,
            "bin_end": 37.416671994400026,
            "count": 0
           },
           {
            "bin_start": 37.416671994400026,
            "bin_end": 43.34925399580002,
            "count": 0
           },
           {
            "bin_start": 43.34925399580002,
            "bin_end": 49.28183599720001,
            "count": 0
           },
           {
            "bin_start": 49.28183599720001,
            "bin_end": 55.214417998600005,
            "count": 0
           },
           {
            "bin_start": 55.214417998600005,
            "bin_end": 61.147,
            "count": 2
           }
          ]
         }
        },
        {
         "name": "_deepnote_index_column",
         "dtype": "object"
        }
       ],
       "rows_top": [
        {
         "YR2000": 2.40635277131627,
         "YR2001": 2.40635277131627,
         "YR2002": 2.48656453036015,
         "YR2003": 2.6469880484479,
         "YR2004": 2.6469880484479,
         "YR2005": 2.6469880484479,
         "YR2006": 2.6469880484479,
         "YR2007": 2.72719980749178,
         "YR2008": 2.72719980749178,
         "YR2009": 3.20847036175503,
         "YR2010": 3.28868212079891,
         "YR2011": 3.76995267506216,
         "YR2012": 3.76995267506216,
         "YR2013": 3.93037619314992,
         "YR2014": 3.93037619314992,
         "YR2015": 3.93037619314992,
         "YR2016": 3.93037619314992,
         "YR2017": 3.93037619314992,
         "YR2018": 3.93037619314992,
         "YR2019": "nan",
         "_deepnote_index_column": "('AG.LND.ARBL.ZS', 'AGO')"
        },
        {
         "YR2000": 37.27,
         "YR2001": 37.96,
         "YR2002": 38.49,
         "YR2003": 39.24,
         "YR2004": 39.94,
         "YR2005": 40.75,
         "YR2006": 41.39,
         "YR2007": 41.91,
         "YR2008": 42.58,
         "YR2009": 43.32,
         "YR2010": 44.1,
         "YR2011": 44.8,
         "YR2012": 45.36,
         "YR2013": 46.15,
         "YR2014": 46.67,
         "YR2015": 47.36,
         "YR2016": 48.05,
         "YR2017": "nan",
         "YR2018": "nan",
         "YR2019": "nan",
         "_deepnote_index_column": "('EG.CFT.ACCS.ZS', 'AGO')"
        },
        {
         "YR2000": -504.159001757244,
         "YR2001": -475.111255280346,
         "YR2002": -550.714185301334,
         "YR2003": -501.436655943393,
         "YR2004": -555.809535409895,
         "YR2005": -735.864294703601,
         "YR2006": -759.628788823642,
         "YR2007": -858.188815303372,
         "YR2008": -885.245940803771,
         "YR2009": -764.549421482873,
         "YR2010": -703.772381443532,
         "YR2011": -619.053894591281,
         "YR2012": -589.506131357009,
         "YR2013": -594.546142867359,
         "YR2014": -540.997471229649,
         "YR2015": "nan",
         "YR2016": "nan",
         "YR2017": "nan",
         "YR2018": "nan",
         "YR2019": "nan",
         "_deepnote_index_column": "('EG.IMP.CONS.ZS', 'AGO')"
        },
        {
         "YR2000": 36.182967879889,
         "YR2001": "nan",
         "YR2002": "nan",
         "YR2003": "nan",
         "YR2004": "nan",
         "YR2005": 34.9629120527896,
         "YR2006": "nan",
         "YR2007": "nan",
         "YR2008": "nan",
         "YR2009": "nan",
         "YR2010": 33.7872471854573,
         "YR2011": 33.1041946330203,
         "YR2012": 33.4154950593669,
         "YR2013": 34.6639225658386,
         "YR2014": 32.9740250383699,
         "YR2015": 32.7298731438952,
         "YR2016": 31.785388814817,
         "YR2017": 32.3885049076425,
         "YR2018": "nan",
         "YR2019": "nan",
         "_deepnote_index_column": "('EN.ATM.PM25.MC.M3', 'AGO')"
        },
        {
         "YR2000": 100,
         "YR2001": "nan",
         "YR2002": "nan",
         "YR2003": "nan",
         "YR2004": "nan",
         "YR2005": 100,
         "YR2006": "nan",
         "YR2007": "nan",
         "YR2008": "nan",
         "YR2009": "nan",
         "YR2010": 100,
         "YR2011": 100,
         "YR2012": 100,
         "YR2013": 100,
         "YR2014": 100,
         "YR2015": 100,
         "YR2016": 100,
         "YR2017": 100,
         "YR2018": "nan",
         "YR2019": "nan",
         "_deepnote_index_column": "('EN.ATM.PM25.MC.ZS', 'AGO')"
        },
        {
         "YR2000": 0.15,
         "YR2001": "nan",
         "YR2002": 0.13,
         "YR2003": "nan",
         "YR2004": 0.29,
         "YR2005": "nan",
         "YR2006": 0.36,
         "YR2007": "nan",
         "YR2008": 0.39,
         "YR2009": "nan",
         "YR2010": 0.43,
         "YR2011": "nan",
         "YR2012": 0.42,
         "YR2013": "nan",
         "YR2014": 0.51,
         "YR2015": "nan",
         "YR2016": 0.82,
         "YR2017": "nan",
         "YR2018": "nan",
         "YR2019": "nan",
         "_deepnote_index_column": "('EP.PMP.DESL.CD', 'AGO')"
        },
        {
         "YR2000": 0.3,
         "YR2001": "nan",
         "YR2002": 0.19,
         "YR2003": "nan",
         "YR2004": 0.39,
         "YR2005": "nan",
         "YR2006": 0.5,
         "YR2007": "nan",
         "YR2008": 0.53,
         "YR2009": "nan",
         "YR2010": 0.65,
         "YR2011": "nan",
         "YR2012": 0.63,
         "YR2013": "nan",
         "YR2014": 0.76,
         "YR2015": "nan",
         "YR2016": 0.97,
         "YR2017": "nan",
         "YR2018": "nan",
         "YR2019": "nan",
         "_deepnote_index_column": "('EP.PMP.SGAS.CD', 'AGO')"
        },
        {
         "YR2000": "nan",
         "YR2001": "nan",
         "YR2002": 0.450351351351351,
         "YR2003": "nan",
         "YR2004": "nan",
         "YR2005": "nan",
         "YR2006": "nan",
         "YR2007": 0.476824324324324,
         "YR2008": "nan",
         "YR2009": "nan",
         "YR2010": "nan",
         "YR2011": "nan",
         "YR2012": 0.476824324324324,
         "YR2013": "nan",
         "YR2014": "nan",
         "YR2015": "nan",
         "YR2016": "nan",
         "YR2017": 0.476824324324324,
         "YR2018": "nan",
         "YR2019": "nan",
         "_deepnote_index_column": "('ER.H2O.FWTL.ZS', 'AGO')"
        },
        {
         "YR2000": "nan",
         "YR2001": "nan",
         "YR2002": 8447.76921242475,
         "YR2003": "nan",
         "YR2004": "nan",
         "YR2005": "nan",
         "YR2006": "nan",
         "YR2007": 7079.52410290949,
         "YR2008": "nan",
         "YR2009": "nan",
         "YR2010": "nan",
         "YR2011": "nan",
         "YR2012": 5894.55321377613,
         "YR2013": "nan",
         "YR2014": "nan",
         "YR2015": "nan",
         "YR2016": "nan",
         "YR2017": 4963.64981732259,
         "YR2018": "nan",
         "YR2019": "nan",
         "_deepnote_index_column": "('ER.H2O.INTR.PC', 'AGO')"
        },
        {
         "YR2000": "nan",
         "YR2001": "nan",
         "YR2002": "nan",
         "YR2003": "nan",
         "YR2004": 9.67,
         "YR2005": 10.46,
         "YR2006": 14.5390550588,
         "YR2007": 13.8550695936,
         "YR2008": 15.6503000086,
         "YR2009": 16.2560804001,
         "YR2010": 16.7902381694,
         "YR2011": 17.3506681878,
         "YR2012": 17.5424266562,
         "YR2013": 21.6095155045,
         "YR2014": 21.7283665413,
         "YR2015": 22.2305388427,
         "YR2016": 26.7775489792,
         "YR2017": 23.4463595731,
         "YR2018": 25.1572287867,
         "YR2019": 25.8626087565,
         "_deepnote_index_column": "('IS.SHP.GCNW.XQ', 'AGO')"
        },
        {
         "YR2000": "nan",
         "YR2001": "nan",
         "YR2002": "nan",
         "YR2003": "nan",
         "YR2004": "nan",
         "YR2005": "nan",
         "YR2006": "nan",
         "YR2007": 2.48,
         "YR2008": "nan",
         "YR2009": "nan",
         "YR2010": 2.25,
         "YR2011": "nan",
         "YR2012": 2.28,
         "YR2013": "nan",
         "YR2014": 2.54298,
         "YR2015": "nan",
         "YR2016": 2.241183,
         "YR2017": "nan",
         "YR2018": 2.05,
         "YR2019": "nan",
         "_deepnote_index_column": "('LP.LPI.OVRL.XQ', 'AGO')"
        },
        {
         "YR2000": 2.60753011703491,
         "YR2001": "nan",
         "YR2002": "nan",
         "YR2003": "nan",
         "YR2004": "nan",
         "YR2005": 2.12011003494263,
         "YR2006": 2.28146004676819,
         "YR2007": "nan",
         "YR2008": "nan",
         "YR2009": "nan",
         "YR2010": 3.42131996154785,
         "YR2011": 3.2437698841095,
         "YR2012": 3.27847003936768,
         "YR2013": 3.8720600605011,
         "YR2014": 2.93055009841919,
         "YR2015": 3.48690009117126,
         "YR2016": 2.75494003295898,
         "YR2017": 2.46688008308411,
         "YR2018": 2.04469990730286,
         "YR2019": 1.82117998600006,
         "_deepnote_index_column": "('SE.XPD.TOTL.GD.ZS', 'AGO')"
        },
        {
         "YR2000": 1.90859938,
         "YR2001": 4.48351622,
         "YR2002": 3.32946134,
         "YR2003": 3.54797316,
         "YR2004": 3.96719909,
         "YR2005": 2.85219526,
         "YR2006": 2.68553543,
         "YR2007": 2.97439122,
         "YR2008": 3.32290339,
         "YR2009": 3.84260798,
         "YR2010": 2.69509959,
         "YR2011": 2.64560771,
         "YR2012": 2.39574957,
         "YR2013": 2.73282671,
         "YR2014": 2.43412876,
         "YR2015": 2.60579467,
         "YR2016": 2.71314979,
         "YR2017": 2.79150295,
         "YR2018": 2.54900527,
         "YR2019": "nan",
         "_deepnote_index_column": "('SH.XPD.CHEX.GD.ZS', 'AGO')"
        },
        {
         "YR2000": 12.99896717,
         "YR2001": 28.91812134,
         "YR2002": 29.04936409,
         "YR2003": 34.87518692,
         "YR2004": 49.81074142,
         "YR2005": 54.26077652,
         "YR2006": 69.81230164,
         "YR2007": 92.86030579,
         "YR2008": 135.6058197,
         "YR2009": 119.99628448,
         "YR2010": 96.69701385,
         "YR2011": 122.10723114,
         "YR2012": 122.18558502,
         "YR2013": 143.60687256,
         "YR2014": 131.6476593,
         "YR2015": 108.58293915,
         "YR2016": 95.12497711,
         "YR2017": 114.33460236,
         "YR2018": 87.61676788,
         "YR2019": "nan",
         "_deepnote_index_column": "('SH.XPD.CHEX.PC.CD', 'AGO')"
        },
        {
         "YR2000": 0.37139514,
         "YR2001": 2.50360131,
         "YR2002": 1.51585543,
         "YR2003": 1.33275962,
         "YR2004": 3.04533696,
         "YR2005": 3.94683123,
         "YR2006": 7.94073629,
         "YR2007": 4.57137966,
         "YR2008": 5.14515162,
         "YR2009": 8.96088123,
         "YR2010": 5.45119524,
         "YR2011": 4.80401993,
         "YR2012": 3.52969861,
         "YR2013": 4.89490032,
         "YR2014": 5.55533123,
         "YR2015": 4.93803644,
         "YR2016": 6.67606974,
         "YR2017": 5.78263712,
         "YR2018": 5.47283792,
         "YR2019": "nan",
         "_deepnote_index_column": "('SH.XPD.EHEX.PP.CD', 'AGO')"
        },
        {
         "YR2000": 41.27677536,
         "YR2001": 52.92855453,
         "YR2002": 59.41811371,
         "YR2003": 57.65277863,
         "YR2004": 55.55617142,
         "YR2005": 52.12799835,
         "YR2006": 40.36954498,
         "YR2007": 39.40856934,
         "YR2008": 33.1567688,
         "YR2009": 28.49826241,
         "YR2010": 34.6372757,
         "YR2011": 32.38171387,
         "YR2012": 32.57001877,
         "YR2013": 35.40423965,
         "YR2014": 42.67658997,
         "YR2015": 49.96444702,
         "YR2016": 52.2201004,
         "YR2017": 50.60655975,
         "YR2018": 54.74777222,
         "YR2019": "nan",
         "_deepnote_index_column": "('SH.XPD.PVTD.CH.ZS', 'AGO')"
        },
        {
         "YR2000": "nan",
         "YR2001": "nan",
         "YR2002": "nan",
         "YR2003": "nan",
         "YR2004": "nan",
         "YR2005": "nan",
         "YR2006": "nan",
         "YR2007": "nan",
         "YR2008": "nan",
         "YR2009": "nan",
         "YR2010": "nan",
         "YR2011": "nan",
         "YR2012": "nan",
         "YR2013": "nan",
         "YR2014": "nan",
         "YR2015": 54,
         "YR2016": "nan",
         "YR2017": "nan",
         "YR2018": "nan",
         "YR2019": "nan",
         "_deepnote_index_column": "('SI.POV.MDIM', 'AGO')"
        },
        {
         "YR2000": "nan",
         "YR2001": "nan",
         "YR2002": "nan",
         "YR2003": "nan",
         "YR2004": 30.9599990844727,
         "YR2005": "nan",
         "YR2006": "nan",
         "YR2007": "nan",
         "YR2008": "nan",
         "YR2009": 25.8099994659424,
         "YR2010": "nan",
         "YR2011": 10.0100002288818,
         "YR2012": "nan",
         "YR2013": "nan",
         "YR2014": 27.8999996185303,
         "YR2015": "nan",
         "YR2016": "nan",
         "YR2017": "nan",
         "YR2018": "nan",
         "YR2019": "nan",
         "_deepnote_index_column": "('SL.UEM.NEET.ZS', 'AGO')"
        },
        {
         "YR2000": 130.8,
         "YR2001": 127.2,
         "YR2002": 123.3,
         "YR2003": 118.9,
         "YR2004": 114.1,
         "YR2005": 109,
         "YR2006": 103.9,
         "YR2007": 98.4,
         "YR2008": 93.1,
         "YR2009": 87.7,
         "YR2010": 82.8,
         "YR2011": 78.1,
         "YR2012": 73.8,
         "YR2013": 69.9,
         "YR2014": 66.4,
         "YR2015": 63.6,
         "YR2016": 61.1,
         "YR2017": 58.9,
         "YR2018": 57.1,
         "YR2019": 55.3,
         "_deepnote_index_column": "('SP.DYN.IMRT.MA.IN', 'AGO')"
        },
        {
         "YR2000": 46.522,
         "YR2001": 47.059,
         "YR2002": 47.702,
         "YR2003": 48.44,
         "YR2004": 49.263,
         "YR2005": 50.165,
         "YR2006": 51.143,
         "YR2007": 52.177,
         "YR2008": 53.243,
         "YR2009": 54.311,
         "YR2010": 55.35,
         "YR2011": 56.33,
         "YR2012": 57.236,
         "YR2013": 58.054,
         "YR2014": 58.776,
         "YR2015": 59.398,
         "YR2016": 59.925,
         "YR2017": 60.379,
         "YR2018": 60.782,
         "YR2019": 61.147,
         "_deepnote_index_column": "('SP.DYN.LE00.IN', 'AGO')"
        },
        {
         "YR2000": 6.639,
         "YR2001": 6.601,
         "YR2002": 6.567,
         "YR2003": 6.533,
         "YR2004": 6.499,
         "YR2005": 6.461,
         "YR2006": 6.419,
         "YR2007": 6.372,
         "YR2008": 6.32,
         "YR2009": 6.26,
         "YR2010": 6.194,
         "YR2011": 6.12,
         "YR2012": 6.039,
         "YR2013": 5.953,
         "YR2014": 5.864,
         "YR2015": 5.774,
         "YR2016": 5.686,
         "YR2017": 5.6,
         "YR2018": 5.519,
         "YR2019": 5.442,
         "_deepnote_index_column": "('SP.DYN.TFRT.IN', 'AGO')"
        },
        {
         "YR2000": "nan",
         "YR2001": "nan",
         "YR2002": "nan",
         "YR2003": "nan",
         "YR2004": "nan",
         "YR2005": "nan",
         "YR2006": "nan",
         "YR2007": 4.5142995927,
         "YR2008": "nan",
         "YR2009": 3.0047461227,
         "YR2010": 3.0187373057,
         "YR2011": 3.753755282,
         "YR2012": 3.7972159284,
         "YR2013": 3.0126733229,
         "YR2014": 2.8418049562,
         "YR2015": 2.8717367811,
         "YR2016": 2.2952648863,
         "YR2017": 2.4538252266,
         "YR2018": 2.5160169523,
         "YR2019": "nan",
         "_deepnote_index_column": "('TM.VAL.ICTG.ZS.UN', 'AGO')"
        }
       ],
       "rows_bottom": null
      },
      "text/plain": "                               YR2000      YR2001       YR2002      YR2003  \\\nseries            economy                                                    \nAG.LND.ARBL.ZS    AGO        2.406353    2.406353     2.486565    2.646988   \nEG.CFT.ACCS.ZS    AGO       37.270000   37.960000    38.490000   39.240000   \nEG.IMP.CONS.ZS    AGO     -504.159002 -475.111255  -550.714185 -501.436656   \nEN.ATM.PM25.MC.M3 AGO       36.182968         NaN          NaN         NaN   \nEN.ATM.PM25.MC.ZS AGO      100.000000         NaN          NaN         NaN   \nEP.PMP.DESL.CD    AGO        0.150000         NaN     0.130000         NaN   \nEP.PMP.SGAS.CD    AGO        0.300000         NaN     0.190000         NaN   \nER.H2O.FWTL.ZS    AGO             NaN         NaN     0.450351         NaN   \nER.H2O.INTR.PC    AGO             NaN         NaN  8447.769212         NaN   \nIS.SHP.GCNW.XQ    AGO             NaN         NaN          NaN         NaN   \nLP.LPI.OVRL.XQ    AGO             NaN         NaN          NaN         NaN   \nSE.XPD.TOTL.GD.ZS AGO        2.607530         NaN          NaN         NaN   \nSH.XPD.CHEX.GD.ZS AGO        1.908599    4.483516     3.329461    3.547973   \nSH.XPD.CHEX.PC.CD AGO       12.998967   28.918121    29.049364   34.875187   \nSH.XPD.EHEX.PP.CD AGO        0.371395    2.503601     1.515855    1.332760   \nSH.XPD.PVTD.CH.ZS AGO       41.276775   52.928555    59.418114   57.652779   \nSI.POV.MDIM       AGO             NaN         NaN          NaN         NaN   \nSL.UEM.NEET.ZS    AGO             NaN         NaN          NaN         NaN   \nSP.DYN.IMRT.MA.IN AGO      130.800000  127.200000   123.300000  118.900000   \nSP.DYN.LE00.IN    AGO       46.522000   47.059000    47.702000   48.440000   \nSP.DYN.TFRT.IN    AGO        6.639000    6.601000     6.567000    6.533000   \nTM.VAL.ICTG.ZS.UN AGO             NaN         NaN          NaN         NaN   \n\n                               YR2004      YR2005      YR2006       YR2007  \\\nseries            economy                                                    \nAG.LND.ARBL.ZS    AGO        2.646988    2.646988    2.646988     2.727200   \nEG.CFT.ACCS.ZS    AGO       39.940000   40.750000   41.390000    41.910000   \nEG.IMP.CONS.ZS    AGO     -555.809535 -735.864295 -759.628789  -858.188815   \nEN.ATM.PM25.MC.M3 AGO             NaN   34.962912         NaN          NaN   \nEN.ATM.PM25.MC.ZS AGO             NaN  100.000000         NaN          NaN   \nEP.PMP.DESL.CD    AGO        0.290000         NaN    0.360000          NaN   \nEP.PMP.SGAS.CD    AGO        0.390000         NaN    0.500000          NaN   \nER.H2O.FWTL.ZS    AGO             NaN         NaN         NaN     0.476824   \nER.H2O.INTR.PC    AGO             NaN         NaN         NaN  7079.524103   \nIS.SHP.GCNW.XQ    AGO        9.670000   10.460000   14.539055    13.855070   \nLP.LPI.OVRL.XQ    AGO             NaN         NaN         NaN     2.480000   \nSE.XPD.TOTL.GD.ZS AGO             NaN    2.120110    2.281460          NaN   \nSH.XPD.CHEX.GD.ZS AGO        3.967199    2.852195    2.685535     2.974391   \nSH.XPD.CHEX.PC.CD AGO       49.810741   54.260777   69.812302    92.860306   \nSH.XPD.EHEX.PP.CD AGO        3.045337    3.946831    7.940736     4.571380   \nSH.XPD.PVTD.CH.ZS AGO       55.556171   52.127998   40.369545    39.408569   \nSI.POV.MDIM       AGO             NaN         NaN         NaN          NaN   \nSL.UEM.NEET.ZS    AGO       30.959999         NaN         NaN          NaN   \nSP.DYN.IMRT.MA.IN AGO      114.100000  109.000000  103.900000    98.400000   \nSP.DYN.LE00.IN    AGO       49.263000   50.165000   51.143000    52.177000   \nSP.DYN.TFRT.IN    AGO        6.499000    6.461000    6.419000     6.372000   \nTM.VAL.ICTG.ZS.UN AGO             NaN         NaN         NaN     4.514300   \n\n                               YR2008      YR2009      YR2010      YR2011  \\\nseries            economy                                                   \nAG.LND.ARBL.ZS    AGO        2.727200    3.208470    3.288682    3.769953   \nEG.CFT.ACCS.ZS    AGO       42.580000   43.320000   44.100000   44.800000   \nEG.IMP.CONS.ZS    AGO     -885.245941 -764.549421 -703.772381 -619.053895   \nEN.ATM.PM25.MC.M3 AGO             NaN         NaN   33.787247   33.104195   \nEN.ATM.PM25.MC.ZS AGO             NaN         NaN  100.000000  100.000000   \nEP.PMP.DESL.CD    AGO        0.390000         NaN    0.430000         NaN   \nEP.PMP.SGAS.CD    AGO        0.530000         NaN    0.650000         NaN   \nER.H2O.FWTL.ZS    AGO             NaN         NaN         NaN         NaN   \nER.H2O.INTR.PC    AGO             NaN         NaN         NaN         NaN   \nIS.SHP.GCNW.XQ    AGO       15.650300   16.256080   16.790238   17.350668   \nLP.LPI.OVRL.XQ    AGO             NaN         NaN    2.250000         NaN   \nSE.XPD.TOTL.GD.ZS AGO             NaN         NaN    3.421320    3.243770   \nSH.XPD.CHEX.GD.ZS AGO        3.322903    3.842608    2.695100    2.645608   \nSH.XPD.CHEX.PC.CD AGO      135.605820  119.996284   96.697014  122.107231   \nSH.XPD.EHEX.PP.CD AGO        5.145152    8.960881    5.451195    4.804020   \nSH.XPD.PVTD.CH.ZS AGO       33.156769   28.498262   34.637276   32.381714   \nSI.POV.MDIM       AGO             NaN         NaN         NaN         NaN   \nSL.UEM.NEET.ZS    AGO             NaN   25.809999         NaN   10.010000   \nSP.DYN.IMRT.MA.IN AGO       93.100000   87.700000   82.800000   78.100000   \nSP.DYN.LE00.IN    AGO       53.243000   54.311000   55.350000   56.330000   \nSP.DYN.TFRT.IN    AGO        6.320000    6.260000    6.194000    6.120000   \nTM.VAL.ICTG.ZS.UN AGO             NaN    3.004746    3.018737    3.753755   \n\n                                YR2012      YR2013      YR2014      YR2015  \\\nseries            economy                                                    \nAG.LND.ARBL.ZS    AGO         3.769953    3.930376    3.930376    3.930376   \nEG.CFT.ACCS.ZS    AGO        45.360000   46.150000   46.670000   47.360000   \nEG.IMP.CONS.ZS    AGO      -589.506131 -594.546143 -540.997471         NaN   \nEN.ATM.PM25.MC.M3 AGO        33.415495   34.663923   32.974025   32.729873   \nEN.ATM.PM25.MC.ZS AGO       100.000000  100.000000  100.000000  100.000000   \nEP.PMP.DESL.CD    AGO         0.420000         NaN    0.510000         NaN   \nEP.PMP.SGAS.CD    AGO         0.630000         NaN    0.760000         NaN   \nER.H2O.FWTL.ZS    AGO         0.476824         NaN         NaN         NaN   \nER.H2O.INTR.PC    AGO      5894.553214         NaN         NaN         NaN   \nIS.SHP.GCNW.XQ    AGO        17.542427   21.609516   21.728367   22.230539   \nLP.LPI.OVRL.XQ    AGO         2.280000         NaN    2.542980         NaN   \nSE.XPD.TOTL.GD.ZS AGO         3.278470    3.872060    2.930550    3.486900   \nSH.XPD.CHEX.GD.ZS AGO         2.395750    2.732827    2.434129    2.605795   \nSH.XPD.CHEX.PC.CD AGO       122.185585  143.606873  131.647659  108.582939   \nSH.XPD.EHEX.PP.CD AGO         3.529699    4.894900    5.555331    4.938036   \nSH.XPD.PVTD.CH.ZS AGO        32.570019   35.404240   42.676590   49.964447   \nSI.POV.MDIM       AGO              NaN         NaN         NaN   54.000000   \nSL.UEM.NEET.ZS    AGO              NaN         NaN   27.900000         NaN   \nSP.DYN.IMRT.MA.IN AGO        73.800000   69.900000   66.400000   63.600000   \nSP.DYN.LE00.IN    AGO        57.236000   58.054000   58.776000   59.398000   \nSP.DYN.TFRT.IN    AGO         6.039000    5.953000    5.864000    5.774000   \nTM.VAL.ICTG.ZS.UN AGO         3.797216    3.012673    2.841805    2.871737   \n\n                               YR2016       YR2017     YR2018     YR2019  \nseries            economy                                                 \nAG.LND.ARBL.ZS    AGO        3.930376     3.930376   3.930376        NaN  \nEG.CFT.ACCS.ZS    AGO       48.050000          NaN        NaN        NaN  \nEG.IMP.CONS.ZS    AGO             NaN          NaN        NaN        NaN  \nEN.ATM.PM25.MC.M3 AGO       31.785389    32.388505        NaN        NaN  \nEN.ATM.PM25.MC.ZS AGO      100.000000   100.000000        NaN        NaN  \nEP.PMP.DESL.CD    AGO        0.820000          NaN        NaN        NaN  \nEP.PMP.SGAS.CD    AGO        0.970000          NaN        NaN        NaN  \nER.H2O.FWTL.ZS    AGO             NaN     0.476824        NaN        NaN  \nER.H2O.INTR.PC    AGO             NaN  4963.649817        NaN        NaN  \nIS.SHP.GCNW.XQ    AGO       26.777549    23.446360  25.157229  25.862609  \nLP.LPI.OVRL.XQ    AGO        2.241183          NaN   2.050000        NaN  \nSE.XPD.TOTL.GD.ZS AGO        2.754940     2.466880   2.044700   1.821180  \nSH.XPD.CHEX.GD.ZS AGO        2.713150     2.791503   2.549005        NaN  \nSH.XPD.CHEX.PC.CD AGO       95.124977   114.334602  87.616768        NaN  \nSH.XPD.EHEX.PP.CD AGO        6.676070     5.782637   5.472838        NaN  \nSH.XPD.PVTD.CH.ZS AGO       52.220100    50.606560  54.747772        NaN  \nSI.POV.MDIM       AGO             NaN          NaN        NaN        NaN  \nSL.UEM.NEET.ZS    AGO             NaN          NaN        NaN        NaN  \nSP.DYN.IMRT.MA.IN AGO       61.100000    58.900000  57.100000  55.300000  \nSP.DYN.LE00.IN    AGO       59.925000    60.379000  60.782000  61.147000  \nSP.DYN.TFRT.IN    AGO        5.686000     5.600000   5.519000   5.442000  \nTM.VAL.ICTG.ZS.UN AGO        2.295265     2.453825   2.516017        NaN  ",
      "text/html": "<div>\n<style scoped>\n    .dataframe tbody tr th:only-of-type {\n        vertical-align: middle;\n    }\n\n    .dataframe tbody tr th {\n        vertical-align: top;\n    }\n\n    .dataframe thead th {\n        text-align: right;\n    }\n</style>\n<table border=\"1\" class=\"dataframe\">\n  <thead>\n    <tr style=\"text-align: right;\">\n      <th></th>\n      <th></th>\n      <th>YR2000</th>\n      <th>YR2001</th>\n      <th>YR2002</th>\n      <th>YR2003</th>\n      <th>YR2004</th>\n      <th>YR2005</th>\n      <th>YR2006</th>\n      <th>YR2007</th>\n      <th>YR2008</th>\n      <th>YR2009</th>\n      <th>YR2010</th>\n      <th>YR2011</th>\n      <th>YR2012</th>\n      <th>YR2013</th>\n      <th>YR2014</th>\n      <th>YR2015</th>\n      <th>YR2016</th>\n      <th>YR2017</th>\n      <th>YR2018</th>\n      <th>YR2019</th>\n    </tr>\n    <tr>\n      <th>series</th>\n      <th>economy</th>\n      <th></th>\n      <th></th>\n      <th></th>\n      <th></th>\n      <th></th>\n      <th></th>\n      <th></th>\n      <th></th>\n      <th></th>\n      <th></th>\n      <th></th>\n      <th></th>\n      <th></th>\n      <th></th>\n      <th></th>\n      <th></th>\n      <th></th>\n      <th></th>\n      <th></th>\n      <th></th>\n    </tr>\n  </thead>\n  <tbody>\n    <tr>\n      <th>AG.LND.ARBL.ZS</th>\n      <th>AGO</th>\n      <td>2.406353</td>\n      <td>2.406353</td>\n      <td>2.486565</td>\n      <td>2.646988</td>\n      <td>2.646988</td>\n      <td>2.646988</td>\n      <td>2.646988</td>\n      <td>2.727200</td>\n      <td>2.727200</td>\n      <td>3.208470</td>\n      <td>3.288682</td>\n      <td>3.769953</td>\n      <td>3.769953</td>\n      <td>3.930376</td>\n      <td>3.930376</td>\n      <td>3.930376</td>\n      <td>3.930376</td>\n      <td>3.930376</td>\n      <td>3.930376</td>\n      <td>NaN</td>\n    </tr>\n    <tr>\n      <th>EG.CFT.ACCS.ZS</th>\n      <th>AGO</th>\n      <td>37.270000</td>\n      <td>37.960000</td>\n      <td>38.490000</td>\n      <td>39.240000</td>\n      <td>39.940000</td>\n      <td>40.750000</td>\n      <td>41.390000</td>\n      <td>41.910000</td>\n      <td>42.580000</td>\n      <td>43.320000</td>\n      <td>44.100000</td>\n      <td>44.800000</td>\n      <td>45.360000</td>\n      <td>46.150000</td>\n      <td>46.670000</td>\n      <td>47.360000</td>\n      <td>48.050000</td>\n      <td>NaN</td>\n      <td>NaN</td>\n      <td>NaN</td>\n    </tr>\n    <tr>\n      <th>EG.IMP.CONS.ZS</th>\n      <th>AGO</th>\n      <td>-504.159002</td>\n      <td>-475.111255</td>\n      <td>-550.714185</td>\n      <td>-501.436656</td>\n      <td>-555.809535</td>\n      <td>-735.864295</td>\n      <td>-759.628789</td>\n      <td>-858.188815</td>\n      <td>-885.245941</td>\n      <td>-764.549421</td>\n      <td>-703.772381</td>\n      <td>-619.053895</td>\n      <td>-589.506131</td>\n      <td>-594.546143</td>\n      <td>-540.997471</td>\n      <td>NaN</td>\n      <td>NaN</td>\n      <td>NaN</td>\n      <td>NaN</td>\n      <td>NaN</td>\n    </tr>\n    <tr>\n      <th>EN.ATM.PM25.MC.M3</th>\n      <th>AGO</th>\n      <td>36.182968</td>\n      <td>NaN</td>\n      <td>NaN</td>\n      <td>NaN</td>\n      <td>NaN</td>\n      <td>34.962912</td>\n      <td>NaN</td>\n      <td>NaN</td>\n      <td>NaN</td>\n      <td>NaN</td>\n      <td>33.787247</td>\n      <td>33.104195</td>\n      <td>33.415495</td>\n      <td>34.663923</td>\n      <td>32.974025</td>\n      <td>32.729873</td>\n      <td>31.785389</td>\n      <td>32.388505</td>\n      <td>NaN</td>\n      <td>NaN</td>\n    </tr>\n    <tr>\n      <th>EN.ATM.PM25.MC.ZS</th>\n      <th>AGO</th>\n      <td>100.000000</td>\n      <td>NaN</td>\n      <td>NaN</td>\n      <td>NaN</td>\n      <td>NaN</td>\n      <td>100.000000</td>\n      <td>NaN</td>\n      <td>NaN</td>\n      <td>NaN</td>\n      <td>NaN</td>\n      <td>100.000000</td>\n      <td>100.000000</td>\n      <td>100.000000</td>\n      <td>100.000000</td>\n      <td>100.000000</td>\n      <td>100.000000</td>\n      <td>100.000000</td>\n      <td>100.000000</td>\n      <td>NaN</td>\n      <td>NaN</td>\n    </tr>\n    <tr>\n      <th>EP.PMP.DESL.CD</th>\n      <th>AGO</th>\n      <td>0.150000</td>\n      <td>NaN</td>\n      <td>0.130000</td>\n      <td>NaN</td>\n      <td>0.290000</td>\n      <td>NaN</td>\n      <td>0.360000</td>\n      <td>NaN</td>\n      <td>0.390000</td>\n      <td>NaN</td>\n      <td>0.430000</td>\n      <td>NaN</td>\n      <td>0.420000</td>\n      <td>NaN</td>\n      <td>0.510000</td>\n      <td>NaN</td>\n      <td>0.820000</td>\n      <td>NaN</td>\n      <td>NaN</td>\n      <td>NaN</td>\n    </tr>\n    <tr>\n      <th>EP.PMP.SGAS.CD</th>\n      <th>AGO</th>\n      <td>0.300000</td>\n      <td>NaN</td>\n      <td>0.190000</td>\n      <td>NaN</td>\n      <td>0.390000</td>\n      <td>NaN</td>\n      <td>0.500000</td>\n      <td>NaN</td>\n      <td>0.530000</td>\n      <td>NaN</td>\n      <td>0.650000</td>\n      <td>NaN</td>\n      <td>0.630000</td>\n      <td>NaN</td>\n      <td>0.760000</td>\n      <td>NaN</td>\n      <td>0.970000</td>\n      <td>NaN</td>\n      <td>NaN</td>\n      <td>NaN</td>\n    </tr>\n    <tr>\n      <th>ER.H2O.FWTL.ZS</th>\n      <th>AGO</th>\n      <td>NaN</td>\n      <td>NaN</td>\n      <td>0.450351</td>\n      <td>NaN</td>\n      <td>NaN</td>\n      <td>NaN</td>\n      <td>NaN</td>\n      <td>0.476824</td>\n      <td>NaN</td>\n      <td>NaN</td>\n      <td>NaN</td>\n      <td>NaN</td>\n      <td>0.476824</td>\n      <td>NaN</td>\n      <td>NaN</td>\n      <td>NaN</td>\n      <td>NaN</td>\n      <td>0.476824</td>\n      <td>NaN</td>\n      <td>NaN</td>\n    </tr>\n    <tr>\n      <th>ER.H2O.INTR.PC</th>\n      <th>AGO</th>\n      <td>NaN</td>\n      <td>NaN</td>\n      <td>8447.769212</td>\n      <td>NaN</td>\n      <td>NaN</td>\n      <td>NaN</td>\n      <td>NaN</td>\n      <td>7079.524103</td>\n      <td>NaN</td>\n      <td>NaN</td>\n      <td>NaN</td>\n      <td>NaN</td>\n      <td>5894.553214</td>\n      <td>NaN</td>\n      <td>NaN</td>\n      <td>NaN</td>\n      <td>NaN</td>\n      <td>4963.649817</td>\n      <td>NaN</td>\n      <td>NaN</td>\n    </tr>\n    <tr>\n      <th>IS.SHP.GCNW.XQ</th>\n      <th>AGO</th>\n      <td>NaN</td>\n      <td>NaN</td>\n      <td>NaN</td>\n      <td>NaN</td>\n      <td>9.670000</td>\n      <td>10.460000</td>\n      <td>14.539055</td>\n      <td>13.855070</td>\n      <td>15.650300</td>\n      <td>16.256080</td>\n      <td>16.790238</td>\n      <td>17.350668</td>\n      <td>17.542427</td>\n      <td>21.609516</td>\n      <td>21.728367</td>\n      <td>22.230539</td>\n      <td>26.777549</td>\n      <td>23.446360</td>\n      <td>25.157229</td>\n      <td>25.862609</td>\n    </tr>\n    <tr>\n      <th>LP.LPI.OVRL.XQ</th>\n      <th>AGO</th>\n      <td>NaN</td>\n      <td>NaN</td>\n      <td>NaN</td>\n      <td>NaN</td>\n      <td>NaN</td>\n      <td>NaN</td>\n      <td>NaN</td>\n      <td>2.480000</td>\n      <td>NaN</td>\n      <td>NaN</td>\n      <td>2.250000</td>\n      <td>NaN</td>\n      <td>2.280000</td>\n      <td>NaN</td>\n      <td>2.542980</td>\n      <td>NaN</td>\n      <td>2.241183</td>\n      <td>NaN</td>\n      <td>2.050000</td>\n      <td>NaN</td>\n    </tr>\n    <tr>\n      <th>SE.XPD.TOTL.GD.ZS</th>\n      <th>AGO</th>\n      <td>2.607530</td>\n      <td>NaN</td>\n      <td>NaN</td>\n      <td>NaN</td>\n      <td>NaN</td>\n      <td>2.120110</td>\n      <td>2.281460</td>\n      <td>NaN</td>\n      <td>NaN</td>\n      <td>NaN</td>\n      <td>3.421320</td>\n      <td>3.243770</td>\n      <td>3.278470</td>\n      <td>3.872060</td>\n      <td>2.930550</td>\n      <td>3.486900</td>\n      <td>2.754940</td>\n      <td>2.466880</td>\n      <td>2.044700</td>\n      <td>1.821180</td>\n    </tr>\n    <tr>\n      <th>SH.XPD.CHEX.GD.ZS</th>\n      <th>AGO</th>\n      <td>1.908599</td>\n      <td>4.483516</td>\n      <td>3.329461</td>\n      <td>3.547973</td>\n      <td>3.967199</td>\n      <td>2.852195</td>\n      <td>2.685535</td>\n      <td>2.974391</td>\n      <td>3.322903</td>\n      <td>3.842608</td>\n      <td>2.695100</td>\n      <td>2.645608</td>\n      <td>2.395750</td>\n      <td>2.732827</td>\n      <td>2.434129</td>\n      <td>2.605795</td>\n      <td>2.713150</td>\n      <td>2.791503</td>\n      <td>2.549005</td>\n      <td>NaN</td>\n    </tr>\n    <tr>\n      <th>SH.XPD.CHEX.PC.CD</th>\n      <th>AGO</th>\n      <td>12.998967</td>\n      <td>28.918121</td>\n      <td>29.049364</td>\n      <td>34.875187</td>\n      <td>49.810741</td>\n      <td>54.260777</td>\n      <td>69.812302</td>\n      <td>92.860306</td>\n      <td>135.605820</td>\n      <td>119.996284</td>\n      <td>96.697014</td>\n      <td>122.107231</td>\n      <td>122.185585</td>\n      <td>143.606873</td>\n      <td>131.647659</td>\n      <td>108.582939</td>\n      <td>95.124977</td>\n      <td>114.334602</td>\n      <td>87.616768</td>\n      <td>NaN</td>\n    </tr>\n    <tr>\n      <th>SH.XPD.EHEX.PP.CD</th>\n      <th>AGO</th>\n      <td>0.371395</td>\n      <td>2.503601</td>\n      <td>1.515855</td>\n      <td>1.332760</td>\n      <td>3.045337</td>\n      <td>3.946831</td>\n      <td>7.940736</td>\n      <td>4.571380</td>\n      <td>5.145152</td>\n      <td>8.960881</td>\n      <td>5.451195</td>\n      <td>4.804020</td>\n      <td>3.529699</td>\n      <td>4.894900</td>\n      <td>5.555331</td>\n      <td>4.938036</td>\n      <td>6.676070</td>\n      <td>5.782637</td>\n      <td>5.472838</td>\n      <td>NaN</td>\n    </tr>\n    <tr>\n      <th>SH.XPD.PVTD.CH.ZS</th>\n      <th>AGO</th>\n      <td>41.276775</td>\n      <td>52.928555</td>\n      <td>59.418114</td>\n      <td>57.652779</td>\n      <td>55.556171</td>\n      <td>52.127998</td>\n      <td>40.369545</td>\n      <td>39.408569</td>\n      <td>33.156769</td>\n      <td>28.498262</td>\n      <td>34.637276</td>\n      <td>32.381714</td>\n      <td>32.570019</td>\n      <td>35.404240</td>\n      <td>42.676590</td>\n      <td>49.964447</td>\n      <td>52.220100</td>\n      <td>50.606560</td>\n      <td>54.747772</td>\n      <td>NaN</td>\n    </tr>\n    <tr>\n      <th>SI.POV.MDIM</th>\n      <th>AGO</th>\n      <td>NaN</td>\n      <td>NaN</td>\n      <td>NaN</td>\n      <td>NaN</td>\n      <td>NaN</td>\n      <td>NaN</td>\n      <td>NaN</td>\n      <td>NaN</td>\n      <td>NaN</td>\n      <td>NaN</td>\n      <td>NaN</td>\n      <td>NaN</td>\n      <td>NaN</td>\n      <td>NaN</td>\n      <td>NaN</td>\n      <td>54.000000</td>\n      <td>NaN</td>\n      <td>NaN</td>\n      <td>NaN</td>\n      <td>NaN</td>\n    </tr>\n    <tr>\n      <th>SL.UEM.NEET.ZS</th>\n      <th>AGO</th>\n      <td>NaN</td>\n      <td>NaN</td>\n      <td>NaN</td>\n      <td>NaN</td>\n      <td>30.959999</td>\n      <td>NaN</td>\n      <td>NaN</td>\n      <td>NaN</td>\n      <td>NaN</td>\n      <td>25.809999</td>\n      <td>NaN</td>\n      <td>10.010000</td>\n      <td>NaN</td>\n      <td>NaN</td>\n      <td>27.900000</td>\n      <td>NaN</td>\n      <td>NaN</td>\n      <td>NaN</td>\n      <td>NaN</td>\n      <td>NaN</td>\n    </tr>\n    <tr>\n      <th>SP.DYN.IMRT.MA.IN</th>\n      <th>AGO</th>\n      <td>130.800000</td>\n      <td>127.200000</td>\n      <td>123.300000</td>\n      <td>118.900000</td>\n      <td>114.100000</td>\n      <td>109.000000</td>\n      <td>103.900000</td>\n      <td>98.400000</td>\n      <td>93.100000</td>\n      <td>87.700000</td>\n      <td>82.800000</td>\n      <td>78.100000</td>\n      <td>73.800000</td>\n      <td>69.900000</td>\n      <td>66.400000</td>\n      <td>63.600000</td>\n      <td>61.100000</td>\n      <td>58.900000</td>\n      <td>57.100000</td>\n      <td>55.300000</td>\n    </tr>\n    <tr>\n      <th>SP.DYN.LE00.IN</th>\n      <th>AGO</th>\n      <td>46.522000</td>\n      <td>47.059000</td>\n      <td>47.702000</td>\n      <td>48.440000</td>\n      <td>49.263000</td>\n      <td>50.165000</td>\n      <td>51.143000</td>\n      <td>52.177000</td>\n      <td>53.243000</td>\n      <td>54.311000</td>\n      <td>55.350000</td>\n      <td>56.330000</td>\n      <td>57.236000</td>\n      <td>58.054000</td>\n      <td>58.776000</td>\n      <td>59.398000</td>\n      <td>59.925000</td>\n      <td>60.379000</td>\n      <td>60.782000</td>\n      <td>61.147000</td>\n    </tr>\n    <tr>\n      <th>SP.DYN.TFRT.IN</th>\n      <th>AGO</th>\n      <td>6.639000</td>\n      <td>6.601000</td>\n      <td>6.567000</td>\n      <td>6.533000</td>\n      <td>6.499000</td>\n      <td>6.461000</td>\n      <td>6.419000</td>\n      <td>6.372000</td>\n      <td>6.320000</td>\n      <td>6.260000</td>\n      <td>6.194000</td>\n      <td>6.120000</td>\n      <td>6.039000</td>\n      <td>5.953000</td>\n      <td>5.864000</td>\n      <td>5.774000</td>\n      <td>5.686000</td>\n      <td>5.600000</td>\n      <td>5.519000</td>\n      <td>5.442000</td>\n    </tr>\n    <tr>\n      <th>TM.VAL.ICTG.ZS.UN</th>\n      <th>AGO</th>\n      <td>NaN</td>\n      <td>NaN</td>\n      <td>NaN</td>\n      <td>NaN</td>\n      <td>NaN</td>\n      <td>NaN</td>\n      <td>NaN</td>\n      <td>4.514300</td>\n      <td>NaN</td>\n      <td>3.004746</td>\n      <td>3.018737</td>\n      <td>3.753755</td>\n      <td>3.797216</td>\n      <td>3.012673</td>\n      <td>2.841805</td>\n      <td>2.871737</td>\n      <td>2.295265</td>\n      <td>2.453825</td>\n      <td>2.516017</td>\n      <td>NaN</td>\n    </tr>\n  </tbody>\n</table>\n</div>"
     },
     "metadata": {}
    }
   ],
   "execution_count": null
  },
  {
   "cell_type": "markdown",
   "source": "Input Variables\n- AG.LND.ARBL.ZS: Arable Land\n- EG.CFT.ACCS.ZS: Access to clean foods and technology for cooking\n- EG.IMP.CONS.ZS: Energy imports, net (% of energy use) \n- EN.ATM.PM25.MC.M3: PM2.5 air pollution (mean annual exposure)\n- EN.ATM.PM25.MC.ZS: PM2.5 air pollution (populations exposed to exceed WHO levels) \n- EP.PMP.DESL.CD: Pump price for Diesel Fuel\n- EP.PMP.SGAS.CDL Pump price for Gasoline\n- ER.H2O.FWTL.ZS: Annual freshwater withdrawals\n- ER.H2O.INTR.PC: Renewable internal freshwater resources per capita\n- IS.SHP.GCNW.XQ: Liner shipping connectivity index\n- LP.LPI.OVRL.XQ: Logistics performance index\n- SE.XPD.TOTL.GD.ZS: Government expenditure on education\n- SH.XPD.CHEX.GD.ZS: Current health expenditure\n- SH.XPD.CHEX.PC.CD: Current health expenditure per capita\n- SH.XPD.EHEX.PP.CD: External health expenditure per capitaS\n- SH.XPD.PVTD.CH.ZS: Domestic private health expenditure\n- SI.POV.MDIM: Multidimensional poverty headcount ratio\n- SL.UEM.NEET.ZS: Share of youth not in education \n- SP.DYN.IMRT.MA.IN: Mortality rate, infant, male\n- SP.DYN.LE00.IN: Life expectancy at birth, total\n- SP.DYN.TFRT.IN: Fertility rate, total\n- TM.VAL.ICTG.ZS.UN: ICT good imports \n\nOutput Variables\n- NY.GDP.MKTP.PP.CD: GDP\n\n\n",
   "metadata": {
    "tags": [],
    "cell_id": "00036-40d450ac-32bc-4a85-9796-1776169ff379",
    "deepnote_cell_type": "markdown"
   }
  },
  {
   "cell_type": "code",
   "metadata": {
    "tags": [],
    "cell_id": "00013-75ab00a6-1e0c-4885-9cd4-9a7164814dfb",
    "deepnote_to_be_reexecuted": false,
    "source_hash": "fb60ea9f",
    "execution_start": 1636920297559,
    "execution_millis": 334,
    "deepnote_cell_type": "code"
   },
   "source": "combined1test = wb.data.DataFrame(['EP.PMP.DESL.CD', 'EP.PMP.SGAS.CD',  'IS.SHP.GCNW.XQ', \n            'LP.LPI.OVRL.XQ',  'SL.UEM.NEET.ZS', 'SE.XPD.TOTL.GD.ZS', 'SH.XPD.CHEX.GD.ZS'\n            , 'SH.XPD.CHEX.PC.CD', 'SH.XPD.PVTD.CH.ZS', 'EG.IMP.CONS.ZS', 'AG.LND.ARBL.ZS',\n            'EG.CFT.ACCS.ZS', 'EN.ATM.PM25.MC.M3', 'EN.ATM.PM25.MC.ZS', 'ER.H2O.FWTL.ZS'\n            , 'ER.H2O.INTR.PC', 'SH.XPD.EHEX.PP.CD', 'SH.XPD.EXTR.ZS', 'SI.POV.MDIM', 'SP.DYN.IMRT.MA.IN',\n            'SP.DYN.LE00.IN', 'SP.DYN.TFRT.IN', 'TM.VAL.ICTG.ZS.UN'], ['ETH'],\n                             time=range(2000, 2020), index=['series', 'economy'])\ncombined1Xtest = combined1test.reset_index().transpose()[2:].fillna(0)",
   "outputs": [],
   "execution_count": null
  },
  {
   "cell_type": "code",
   "metadata": {
    "tags": [],
    "cell_id": "00012-d161b15e-1f79-4ba7-9bec-2bcf9b3d5e0f",
    "deepnote_to_be_reexecuted": false,
    "source_hash": "d59bf4ba",
    "execution_start": 1636920297902,
    "execution_millis": 513,
    "deepnote_cell_type": "code"
   },
   "source": "combined1Ytrain = wb.data.DataFrame(['NY.GDP.MKTP.PP.CD'], ['AGO'],\n                             time=range(2000, 2020), index=['series', 'economy'])\ncombined1Ytrain = combined1Ytrain.reset_index().transpose()[2:].fillna(0)",
   "outputs": [],
   "execution_count": null
  },
  {
   "cell_type": "code",
   "metadata": {
    "tags": [],
    "cell_id": "00013-b13db8e6-e976-403e-9344-528b941ed702",
    "deepnote_to_be_reexecuted": false,
    "source_hash": "655b21ab",
    "execution_start": 1636920298423,
    "execution_millis": 12,
    "deepnote_cell_type": "code"
   },
   "source": "combined1Ytrain",
   "outputs": [
    {
     "output_type": "execute_result",
     "execution_count": 19,
     "data": {
      "application/vnd.deepnote.dataframe.v2+json": {
       "row_count": 20,
       "column_count": 1,
       "columns": [
        {
         "name": 0,
         "dtype": "float64",
         "stats": {
          "unique_count": 20,
          "nan_count": 0,
          "min": "53931438611.886",
          "max": "220364785384.766",
          "histogram": [
           {
            "bin_start": 53931438611.886,
            "bin_end": 70574773289.174,
            "count": 4
           },
           {
            "bin_start": 70574773289.174,
            "bin_end": 87218107966.462,
            "count": 1
           },
           {
            "bin_start": 87218107966.462,
            "bin_end": 103861442643.75,
            "count": 1
           },
           {
            "bin_start": 103861442643.75,
            "bin_end": 120504777321.038,
            "count": 1
           },
           {
            "bin_start": 120504777321.038,
            "bin_end": 137148111998.326,
            "count": 1
           },
           {
            "bin_start": 137148111998.326,
            "bin_end": 153791446675.614,
            "count": 2
           },
           {
            "bin_start": 153791446675.614,
            "bin_end": 170434781352.902,
            "count": 2
           },
           {
            "bin_start": 170434781352.902,
            "bin_end": 187078116030.19,
            "count": 1
           },
           {
            "bin_start": 187078116030.19,
            "bin_end": 203721450707.47803,
            "count": 1
           },
           {
            "bin_start": 203721450707.47803,
            "bin_end": 220364785384.766,
            "count": 6
           }
          ]
         }
        },
        {
         "name": "_deepnote_index_column",
         "dtype": "object"
        }
       ],
       "rows_top": [
        {
         "0": 53931438611.886,
         "_deepnote_index_column": "YR2000"
        },
        {
         "0": 57432494669.7672,
         "_deepnote_index_column": "YR2001"
        },
        {
         "0": 66313630684.0612,
         "_deepnote_index_column": "YR2002"
        },
        {
         "0": 69564636251.1885,
         "_deepnote_index_column": "YR2003"
        },
        {
         "0": 79261910487.6944,
         "_deepnote_index_column": "YR2004"
        },
        {
         "0": 94014137040.1714,
         "_deepnote_index_column": "YR2005"
        },
        {
         "0": 108044190442.528,
         "_deepnote_index_column": "YR2006"
        },
        {
         "0": 126490191862.26,
         "_deepnote_index_column": "YR2007"
        },
        {
         "0": 143349394242.913,
         "_deepnote_index_column": "YR2008"
        },
        {
         "0": 145682561883.685,
         "_deepnote_index_column": "YR2009"
        },
        {
         "0": 153870650179.651,
         "_deepnote_index_column": "YR2010"
        },
        {
         "0": 162538809184.169,
         "_deepnote_index_column": "YR2011"
        },
        {
         "0": 186124220333.292,
         "_deepnote_index_column": "YR2012"
        },
        {
         "0": 199865635605.063,
         "_deepnote_index_column": "YR2013"
        },
        {
         "0": 220364785384.766,
         "_deepnote_index_column": "YR2014"
        },
        {
         "0": 204603585194.557,
         "_deepnote_index_column": "YR2015"
        },
        {
         "0": 204874680466.819,
         "_deepnote_index_column": "YR2016"
        },
        {
         "0": 217987314775.762,
         "_deepnote_index_column": "YR2017"
        },
        {
         "0": 218748623735.012,
         "_deepnote_index_column": "YR2018"
        },
        {
         "0": 219774431755.075,
         "_deepnote_index_column": "YR2019"
        }
       ],
       "rows_bottom": null
      },
      "text/plain": "                   0\nYR2000  5.393144e+10\nYR2001  5.743249e+10\nYR2002  6.631363e+10\nYR2003  6.956464e+10\nYR2004  7.926191e+10\nYR2005  9.401414e+10\nYR2006  1.080442e+11\nYR2007  1.264902e+11\nYR2008  1.433494e+11\nYR2009  1.456826e+11\nYR2010  1.538707e+11\nYR2011  1.625388e+11\nYR2012  1.861242e+11\nYR2013  1.998656e+11\nYR2014  2.203648e+11\nYR2015  2.046036e+11\nYR2016  2.048747e+11\nYR2017  2.179873e+11\nYR2018  2.187486e+11\nYR2019  2.197744e+11",
      "text/html": "<div>\n<style scoped>\n    .dataframe tbody tr th:only-of-type {\n        vertical-align: middle;\n    }\n\n    .dataframe tbody tr th {\n        vertical-align: top;\n    }\n\n    .dataframe thead th {\n        text-align: right;\n    }\n</style>\n<table border=\"1\" class=\"dataframe\">\n  <thead>\n    <tr style=\"text-align: right;\">\n      <th></th>\n      <th>0</th>\n    </tr>\n  </thead>\n  <tbody>\n    <tr>\n      <th>YR2000</th>\n      <td>5.393144e+10</td>\n    </tr>\n    <tr>\n      <th>YR2001</th>\n      <td>5.743249e+10</td>\n    </tr>\n    <tr>\n      <th>YR2002</th>\n      <td>6.631363e+10</td>\n    </tr>\n    <tr>\n      <th>YR2003</th>\n      <td>6.956464e+10</td>\n    </tr>\n    <tr>\n      <th>YR2004</th>\n      <td>7.926191e+10</td>\n    </tr>\n    <tr>\n      <th>YR2005</th>\n      <td>9.401414e+10</td>\n    </tr>\n    <tr>\n      <th>YR2006</th>\n      <td>1.080442e+11</td>\n    </tr>\n    <tr>\n      <th>YR2007</th>\n      <td>1.264902e+11</td>\n    </tr>\n    <tr>\n      <th>YR2008</th>\n      <td>1.433494e+11</td>\n    </tr>\n    <tr>\n      <th>YR2009</th>\n      <td>1.456826e+11</td>\n    </tr>\n    <tr>\n      <th>YR2010</th>\n      <td>1.538707e+11</td>\n    </tr>\n    <tr>\n      <th>YR2011</th>\n      <td>1.625388e+11</td>\n    </tr>\n    <tr>\n      <th>YR2012</th>\n      <td>1.861242e+11</td>\n    </tr>\n    <tr>\n      <th>YR2013</th>\n      <td>1.998656e+11</td>\n    </tr>\n    <tr>\n      <th>YR2014</th>\n      <td>2.203648e+11</td>\n    </tr>\n    <tr>\n      <th>YR2015</th>\n      <td>2.046036e+11</td>\n    </tr>\n    <tr>\n      <th>YR2016</th>\n      <td>2.048747e+11</td>\n    </tr>\n    <tr>\n      <th>YR2017</th>\n      <td>2.179873e+11</td>\n    </tr>\n    <tr>\n      <th>YR2018</th>\n      <td>2.187486e+11</td>\n    </tr>\n    <tr>\n      <th>YR2019</th>\n      <td>2.197744e+11</td>\n    </tr>\n  </tbody>\n</table>\n</div>"
     },
     "metadata": {}
    }
   ],
   "execution_count": null
  },
  {
   "cell_type": "code",
   "metadata": {
    "tags": [],
    "cell_id": "00014-ee2585da-df1a-49ec-9e97-508d452eacad",
    "deepnote_to_be_reexecuted": false,
    "source_hash": "d7ed7e1e",
    "execution_start": 1636920298447,
    "execution_millis": 420,
    "deepnote_cell_type": "code"
   },
   "source": "combined1Ytest = wb.data.DataFrame(['NY.GDP.MKTP.PP.CD'], ['ETH'],\n                             time=range(2000, 2020), index=['series', 'economy'])\ncombined1Ytest = combined1Ytest.reset_index().transpose()[2:].fillna(0)",
   "outputs": [],
   "execution_count": null
  },
  {
   "cell_type": "markdown",
   "source": "### Model Breakdown\n\n- Train Data: Angola\n- Test Data: Ethiopia\n- Model: Ridge Regression\n- Performance Indicators: R2 Score/Ridge Regression Model Coefficients\n",
   "metadata": {
    "tags": [],
    "cell_id": "00041-55ae8593-4827-41e3-bf7f-e1fcd858638c",
    "deepnote_cell_type": "markdown"
   }
  },
  {
   "cell_type": "code",
   "metadata": {
    "tags": [],
    "cell_id": "00015-48d5efc6-c7d9-4093-9431-b84be8b59d43",
    "deepnote_to_be_reexecuted": false,
    "source_hash": "5aa32fbc",
    "execution_start": 1636920298878,
    "execution_millis": 335,
    "deepnote_cell_type": "code"
   },
   "source": "from sklearn.linear_model import Ridge\nclf = Ridge(alpha=0.4).fit(combined1Xtrain, combined1Ytrain)",
   "outputs": [],
   "execution_count": null
  },
  {
   "cell_type": "code",
   "metadata": {
    "tags": [],
    "cell_id": "00016-fe57d71b-9852-4fee-baa0-d60fb0021f70",
    "deepnote_to_be_reexecuted": false,
    "source_hash": "a5287328",
    "execution_start": 1636920299220,
    "execution_millis": 2,
    "deepnote_cell_type": "code"
   },
   "source": "y_pred = []\nfor x in clf.predict(combined1Xtest):\n    for y in x:\n        y_pred.append(y)",
   "outputs": [],
   "execution_count": null
  },
  {
   "cell_type": "code",
   "metadata": {
    "tags": [],
    "cell_id": "00017-65e9f8ed-d34b-42e6-b33a-84120ee20c79",
    "deepnote_to_be_reexecuted": false,
    "source_hash": "c6ff3119",
    "execution_start": 1636920299228,
    "execution_millis": 1,
    "deepnote_cell_type": "code"
   },
   "source": "y_true = list(combined1Ytest[0])\n",
   "outputs": [],
   "execution_count": null
  },
  {
   "cell_type": "code",
   "metadata": {
    "tags": [],
    "cell_id": "00018-ba77a6d0-5d1e-4916-b628-b3646c7bcabe",
    "deepnote_to_be_reexecuted": false,
    "source_hash": "7bcef0e0",
    "execution_start": 1636920299236,
    "execution_millis": 4,
    "deepnote_cell_type": "code"
   },
   "source": "from sklearn.metrics import r2_score\nprint('Test R2 Score:', r2_score(y_true, y_pred))",
   "outputs": [
    {
     "name": "stdout",
     "text": "Test R2 Score: 0.8727440521683966\n",
     "output_type": "stream"
    }
   ],
   "execution_count": null
  },
  {
   "cell_type": "code",
   "metadata": {
    "tags": [],
    "cell_id": "00039-aa452b68-f23c-49fc-a6c3-4f4a8705ddce",
    "deepnote_to_be_reexecuted": false,
    "source_hash": "e81a5c4c",
    "execution_start": 1636920299239,
    "execution_millis": 42,
    "deepnote_cell_type": "code"
   },
   "source": "y_pred_1 = []\nfor x in clf.predict(combined1Xtrain):\n    for y in x:\n        y_pred_1.append(y)\n\ny_true_1 = list(combined1Ytrain[0])\nprint('Train R2 Score:', r2_score(y_true_1, y_pred_1))",
   "outputs": [
    {
     "name": "stdout",
     "text": "Train R2 Score: 0.9976660130778238\n",
     "output_type": "stream"
    }
   ],
   "execution_count": null
  },
  {
   "cell_type": "code",
   "metadata": {
    "tags": [],
    "cell_id": "00021-236927a9-397d-4613-b474-13bc685f0e0a",
    "deepnote_to_be_reexecuted": false,
    "source_hash": "dcc9a6fa",
    "execution_start": 1636920299280,
    "execution_millis": 0,
    "deepnote_cell_type": "code"
   },
   "source": "influence_params = []\nfor x in clf.coef_:\n    for y in x:\n        influence_params.append(abs(y))\n",
   "outputs": [],
   "execution_count": null
  },
  {
   "cell_type": "code",
   "metadata": {
    "tags": [],
    "cell_id": "00021-3133ba53-66fc-410d-a763-c301d248c54a",
    "deepnote_to_be_reexecuted": false,
    "source_hash": "28f26596",
    "execution_start": 1636920299323,
    "execution_millis": 20,
    "deepnote_cell_type": "code"
   },
   "source": "combined1Xtest",
   "outputs": [
    {
     "output_type": "execute_result",
     "execution_count": 27,
     "data": {
      "application/vnd.deepnote.dataframe.v2+json": {
       "row_count": 20,
       "column_count": 22,
       "columns": [
        {
         "name": 0,
         "dtype": "float64",
         "stats": {
          "unique_count": 20,
          "nan_count": 0,
          "min": "0.0",
          "max": "14.333653068162",
          "histogram": [
           {
            "bin_start": 0,
            "bin_end": 1.4333653068162,
            "count": 1
           },
           {
            "bin_start": 1.4333653068162,
            "bin_end": 2.8667306136324,
            "count": 0
           },
           {
            "bin_start": 2.8667306136324,
            "bin_end": 4.3000959204486,
            "count": 0
           },
           {
            "bin_start": 4.3000959204486,
            "bin_end": 5.7334612272648,
            "count": 0
           },
           {
            "bin_start": 5.7334612272648,
            "bin_end": 7.166826534081,
            "count": 0
           },
           {
            "bin_start": 7.166826534081,
            "bin_end": 8.6001918408972,
            "count": 0
           },
           {
            "bin_start": 8.6001918408972,
            "bin_end": 10.0335571477134,
            "count": 3
           },
           {
            "bin_start": 10.0335571477134,
            "bin_end": 11.4669224545296,
            "count": 3
           },
           {
            "bin_start": 11.4669224545296,
            "bin_end": 12.9002877613458,
            "count": 5
           },
           {
            "bin_start": 12.9002877613458,
            "bin_end": 14.333653068162,
            "count": 8
           }
          ]
         }
        },
        {
         "name": 1,
         "dtype": "float64",
         "stats": {
          "unique_count": 18,
          "nan_count": 0,
          "min": "0.0",
          "max": "3.51",
          "histogram": [
           {
            "bin_start": 0,
            "bin_end": 0.351,
            "count": 3
           },
           {
            "bin_start": 0.351,
            "bin_end": 0.702,
            "count": 0
           },
           {
            "bin_start": 0.702,
            "bin_end": 1.053,
            "count": 0
           },
           {
            "bin_start": 1.053,
            "bin_end": 1.404,
            "count": 3
           },
           {
            "bin_start": 1.404,
            "bin_end": 1.755,
            "count": 2
           },
           {
            "bin_start": 1.755,
            "bin_end": 2.106,
            "count": 3
           },
           {
            "bin_start": 2.106,
            "bin_end": 2.457,
            "count": 1
           },
           {
            "bin_start": 2.457,
            "bin_end": 2.808,
            "count": 2
           },
           {
            "bin_start": 2.808,
            "bin_end": 3.159,
            "count": 3
           },
           {
            "bin_start": 3.159,
            "bin_end": 3.51,
            "count": 3
           }
          ]
         }
        },
        {
         "name": 2,
         "dtype": "float64",
         "stats": {
          "unique_count": 16,
          "nan_count": 0,
          "min": "0.0",
          "max": "5.9263144174666",
          "histogram": [
           {
            "bin_start": 0,
            "bin_end": 0.5926314417466599,
            "count": 5
           },
           {
            "bin_start": 0.5926314417466599,
            "bin_end": 1.1852628834933199,
            "count": 0
           },
           {
            "bin_start": 1.1852628834933199,
            "bin_end": 1.7778943252399797,
            "count": 0
           },
           {
            "bin_start": 1.7778943252399797,
            "bin_end": 2.3705257669866397,
            "count": 0
           },
           {
            "bin_start": 2.3705257669866397,
            "bin_end": 2.9631572087333,
            "count": 0
           },
           {
            "bin_start": 2.9631572087333,
            "bin_end": 3.5557886504799594,
            "count": 1
           },
           {
            "bin_start": 3.5557886504799594,
            "bin_end": 4.14842009222662,
            "count": 2
           },
           {
            "bin_start": 4.14842009222662,
            "bin_end": 4.7410515339732795,
            "count": 6
           },
           {
            "bin_start": 4.7410515339732795,
            "bin_end": 5.333682975719939,
            "count": 4
           },
           {
            "bin_start": 5.333682975719939,
            "bin_end": 5.9263144174666,
            "count": 2
           }
          ]
         }
        },
        {
         "name": 3,
         "dtype": "float64",
         "stats": {
          "unique_count": 11,
          "nan_count": 0,
          "min": "0.0",
          "max": "39.245037575297",
          "histogram": [
           {
            "bin_start": 0,
            "bin_end": 3.9245037575297,
            "count": 10
           },
           {
            "bin_start": 3.9245037575297,
            "bin_end": 7.8490075150594,
            "count": 0
           },
           {
            "bin_start": 7.8490075150594,
            "bin_end": 11.7735112725891,
            "count": 0
           },
           {
            "bin_start": 11.7735112725891,
            "bin_end": 15.6980150301188,
            "count": 0
           },
           {
            "bin_start": 15.6980150301188,
            "bin_end": 19.6225187876485,
            "count": 0
           },
           {
            "bin_start": 19.6225187876485,
            "bin_end": 23.5470225451782,
            "count": 0
           },
           {
            "bin_start": 23.5470225451782,
            "bin_end": 27.4715263027079,
            "count": 0
           },
           {
            "bin_start": 27.4715263027079,
            "bin_end": 31.3960300602376,
            "count": 0
           },
           {
            "bin_start": 31.3960300602376,
            "bin_end": 35.3205338177673,
            "count": 2
           },
           {
            "bin_start": 35.3205338177673,
            "bin_end": 39.245037575297,
            "count": 8
           }
          ]
         }
        },
        {
         "name": 4,
         "dtype": "float64",
         "stats": {
          "unique_count": 2,
          "nan_count": 0,
          "min": "0.0",
          "max": "100.0",
          "histogram": [
           {
            "bin_start": 0,
            "bin_end": 10,
            "count": 10
           },
           {
            "bin_start": 10,
            "bin_end": 20,
            "count": 0
           },
           {
            "bin_start": 20,
            "bin_end": 30,
            "count": 0
           },
           {
            "bin_start": 30,
            "bin_end": 40,
            "count": 0
           },
           {
            "bin_start": 40,
            "bin_end": 50,
            "count": 0
           },
           {
            "bin_start": 50,
            "bin_end": 60,
            "count": 0
           },
           {
            "bin_start": 60,
            "bin_end": 70,
            "count": 0
           },
           {
            "bin_start": 70,
            "bin_end": 80,
            "count": 0
           },
           {
            "bin_start": 80,
            "bin_end": 90,
            "count": 0
           },
           {
            "bin_start": 90,
            "bin_end": 100,
            "count": 10
           }
          ]
         }
        },
        {
         "name": 5,
         "dtype": "float64",
         "stats": {
          "unique_count": 9,
          "nan_count": 0,
          "min": "0.0",
          "max": "0.94",
          "histogram": [
           {
            "bin_start": 0,
            "bin_end": 0.094,
            "count": 11
           },
           {
            "bin_start": 0.094,
            "bin_end": 0.188,
            "count": 0
           },
           {
            "bin_start": 0.188,
            "bin_end": 0.28200000000000003,
            "count": 1
           },
           {
            "bin_start": 0.28200000000000003,
            "bin_end": 0.376,
            "count": 1
           },
           {
            "bin_start": 0.376,
            "bin_end": 0.47,
            "count": 1
           },
           {
            "bin_start": 0.47,
            "bin_end": 0.5640000000000001,
            "count": 0
           },
           {
            "bin_start": 0.5640000000000001,
            "bin_end": 0.658,
            "count": 2
           },
           {
            "bin_start": 0.658,
            "bin_end": 0.752,
            "count": 0
           },
           {
            "bin_start": 0.752,
            "bin_end": 0.846,
            "count": 1
           },
           {
            "bin_start": 0.846,
            "bin_end": 0.94,
            "count": 3
           }
          ]
         }
        },
        {
         "name": 6,
         "dtype": "float64",
         "stats": {
          "unique_count": 10,
          "nan_count": 0,
          "min": "0.0",
          "max": "1.05",
          "histogram": [
           {
            "bin_start": 0,
            "bin_end": 0.10500000000000001,
            "count": 11
           },
           {
            "bin_start": 0.10500000000000001,
            "bin_end": 0.21000000000000002,
            "count": 0
           },
           {
            "bin_start": 0.21000000000000002,
            "bin_end": 0.31500000000000006,
            "count": 0
           },
           {
            "bin_start": 0.31500000000000006,
            "bin_end": 0.42000000000000004,
            "count": 0
           },
           {
            "bin_start": 0.42000000000000004,
            "bin_end": 0.525,
            "count": 2
           },
           {
            "bin_start": 0.525,
            "bin_end": 0.6300000000000001,
            "count": 1
           },
           {
            "bin_start": 0.6300000000000001,
            "bin_end": 0.7350000000000001,
            "count": 0
           },
           {
            "bin_start": 0.7350000000000001,
            "bin_end": 0.8400000000000001,
            "count": 1
           },
           {
            "bin_start": 0.8400000000000001,
            "bin_end": 0.9450000000000001,
            "count": 3
           },
           {
            "bin_start": 0.9450000000000001,
            "bin_end": 1.05,
            "count": 2
           }
          ]
         }
        },
        {
         "name": 7,
         "dtype": "float64",
         "stats": {
          "unique_count": 5,
          "nan_count": 0,
          "min": "0.0",
          "max": "8.64598360655738",
          "histogram": [
           {
            "bin_start": 0,
            "bin_end": 0.8645983606557379,
            "count": 16
           },
           {
            "bin_start": 0.8645983606557379,
            "bin_end": 1.7291967213114758,
            "count": 0
           },
           {
            "bin_start": 1.7291967213114758,
            "bin_end": 2.5937950819672135,
            "count": 0
           },
           {
            "bin_start": 2.5937950819672135,
            "bin_end": 3.4583934426229517,
            "count": 0
           },
           {
            "bin_start": 3.4583934426229517,
            "bin_end": 4.32299180327869,
            "count": 0
           },
           {
            "bin_start": 4.32299180327869,
            "bin_end": 5.187590163934427,
            "count": 1
           },
           {
            "bin_start": 5.187590163934427,
            "bin_end": 6.052188524590165,
            "count": 0
           },
           {
            "bin_start": 6.052188524590165,
            "bin_end": 6.916786885245903,
            "count": 1
           },
           {
            "bin_start": 6.916786885245903,
            "bin_end": 7.7813852459016415,
            "count": 0
           },
           {
            "bin_start": 7.7813852459016415,
            "bin_end": 8.64598360655738,
            "count": 2
           }
          ]
         }
        },
        {
         "name": 8,
         "dtype": "float64",
         "stats": {
          "unique_count": 5,
          "nan_count": 0,
          "min": "0.0",
          "max": "1739.32655841878",
          "histogram": [
           {
            "bin_start": 0,
            "bin_end": 173.932655841878,
            "count": 16
           },
           {
            "bin_start": 173.932655841878,
            "bin_end": 347.865311683756,
            "count": 0
           },
           {
            "bin_start": 347.865311683756,
            "bin_end": 521.797967525634,
            "count": 0
           },
           {
            "bin_start": 521.797967525634,
            "bin_end": 695.730623367512,
            "count": 0
           },
           {
            "bin_start": 695.730623367512,
            "bin_end": 869.6632792093899,
            "count": 0
           },
           {
            "bin_start": 869.6632792093899,
            "bin_end": 1043.595935051268,
            "count": 0
           },
           {
            "bin_start": 1043.595935051268,
            "bin_end": 1217.528590893146,
            "count": 1
           },
           {
            "bin_start": 1217.528590893146,
            "bin_end": 1391.461246735024,
            "count": 1
           },
           {
            "bin_start": 1391.461246735024,
            "bin_end": 1565.3939025769018,
            "count": 1
           },
           {
            "bin_start": 1565.3939025769018,
            "bin_end": 1739.32655841878,
            "count": 1
           }
          ]
         }
        },
        {
         "name": 9,
         "dtype": "int64",
         "stats": {
          "unique_count": 1,
          "nan_count": 0,
          "min": "0",
          "max": "0",
          "histogram": [
           {
            "bin_start": -0.5,
            "bin_end": -0.4,
            "count": 0
           },
           {
            "bin_start": -0.4,
            "bin_end": -0.3,
            "count": 0
           },
           {
            "bin_start": -0.3,
            "bin_end": -0.19999999999999996,
            "count": 0
           },
           {
            "bin_start": -0.19999999999999996,
            "bin_end": -0.09999999999999998,
            "count": 0
           },
           {
            "bin_start": -0.09999999999999998,
            "bin_end": 0,
            "count": 0
           },
           {
            "bin_start": 0,
            "bin_end": 0.10000000000000009,
            "count": 20
           },
           {
            "bin_start": 0.10000000000000009,
            "bin_end": 0.20000000000000007,
            "count": 0
           },
           {
            "bin_start": 0.20000000000000007,
            "bin_end": 0.30000000000000004,
            "count": 0
           },
           {
            "bin_start": 0.30000000000000004,
            "bin_end": 0.4,
            "count": 0
           },
           {
            "bin_start": 0.4,
            "bin_end": 0.5,
            "count": 0
           }
          ]
         }
        },
        {
         "name": 10,
         "dtype": "float64",
         "stats": {
          "unique_count": 6,
          "nan_count": 0,
          "min": "0.0",
          "max": "2.593625",
          "histogram": [
           {
            "bin_start": 0,
            "bin_end": 0.2593625,
            "count": 15
           },
           {
            "bin_start": 0.2593625,
            "bin_end": 0.518725,
            "count": 0
           },
           {
            "bin_start": 0.518725,
            "bin_end": 0.7780875,
            "count": 0
           },
           {
            "bin_start": 0.7780875,
            "bin_end": 1.03745,
            "count": 0
           },
           {
            "bin_start": 1.03745,
            "bin_end": 1.2968125,
            "count": 0
           },
           {
            "bin_start": 1.2968125,
            "bin_end": 1.556175,
            "count": 0
           },
           {
            "bin_start": 1.556175,
            "bin_end": 1.8155375,
            "count": 0
           },
           {
            "bin_start": 1.8155375,
            "bin_end": 2.0749,
            "count": 0
           },
           {
            "bin_start": 2.0749,
            "bin_end": 2.3342625,
            "count": 2
           },
           {
            "bin_start": 2.3342625,
            "bin_end": 2.593625,
            "count": 3
           }
          ]
         }
        },
        {
         "name": 11,
         "dtype": "float64",
         "stats": {
          "unique_count": 17,
          "nan_count": 0,
          "min": "0.0",
          "max": "5.64951992034912",
          "histogram": [
           {
            "bin_start": 0,
            "bin_end": 0.564951992034912,
            "count": 4
           },
           {
            "bin_start": 0.564951992034912,
            "bin_end": 1.129903984069824,
            "count": 0
           },
           {
            "bin_start": 1.129903984069824,
            "bin_end": 1.694855976104736,
            "count": 0
           },
           {
            "bin_start": 1.694855976104736,
            "bin_end": 2.259807968139648,
            "count": 0
           },
           {
            "bin_start": 2.259807968139648,
            "bin_end": 2.8247599601745597,
            "count": 0
           },
           {
            "bin_start": 2.8247599601745597,
            "bin_end": 3.389711952209472,
            "count": 0
           },
           {
            "bin_start": 3.389711952209472,
            "bin_end": 3.954663944244384,
            "count": 2
           },
           {
            "bin_start": 3.954663944244384,
            "bin_end": 4.519615936279296,
            "count": 4
           },
           {
            "bin_start": 4.519615936279296,
            "bin_end": 5.084567928314208,
            "count": 4
           },
           {
            "bin_start": 5.084567928314208,
            "bin_end": 5.64951992034912,
            "count": 6
           }
          ]
         }
        },
        {
         "name": 12,
         "dtype": "float64",
         "stats": {
          "unique_count": 20,
          "nan_count": 0,
          "min": "0.0",
          "max": "5.46637201",
          "histogram": [
           {
            "bin_start": 0,
            "bin_end": 0.546637201,
            "count": 1
           },
           {
            "bin_start": 0.546637201,
            "bin_end": 1.093274402,
            "count": 0
           },
           {
            "bin_start": 1.093274402,
            "bin_end": 1.639911603,
            "count": 0
           },
           {
            "bin_start": 1.639911603,
            "bin_end": 2.186548804,
            "count": 0
           },
           {
            "bin_start": 2.186548804,
            "bin_end": 2.7331860050000003,
            "count": 0
           },
           {
            "bin_start": 2.7331860050000003,
            "bin_end": 3.279823206,
            "count": 0
           },
           {
            "bin_start": 3.279823206,
            "bin_end": 3.826460407,
            "count": 4
           },
           {
            "bin_start": 3.826460407,
            "bin_end": 4.373097608,
            "count": 6
           },
           {
            "bin_start": 4.373097608,
            "bin_end": 4.919734809,
            "count": 7
           },
           {
            "bin_start": 4.919734809,
            "bin_end": 5.46637201,
            "count": 2
           }
          ]
         }
        },
        {
         "name": 13,
         "dtype": "float64",
         "stats": {
          "unique_count": 20,
          "nan_count": 0,
          "min": "0.0",
          "max": "25.07559586",
          "histogram": [
           {
            "bin_start": 0,
            "bin_end": 2.507559586,
            "count": 1
           },
           {
            "bin_start": 2.507559586,
            "bin_end": 5.015119172,
            "count": 0
           },
           {
            "bin_start": 5.015119172,
            "bin_end": 7.5226787580000005,
            "count": 6
           },
           {
            "bin_start": 7.5226787580000005,
            "bin_end": 10.030238344,
            "count": 1
           },
           {
            "bin_start": 10.030238344,
            "bin_end": 12.53779793,
            "count": 1
           },
           {
            "bin_start": 12.53779793,
            "bin_end": 15.045357516000001,
            "count": 1
           },
           {
            "bin_start": 15.045357516000001,
            "bin_end": 17.552917102000002,
            "count": 3
           },
           {
            "bin_start": 17.552917102000002,
            "bin_end": 20.060476688,
            "count": 1
           },
           {
            "bin_start": 20.060476688,
            "bin_end": 22.568036274,
            "count": 2
           },
           {
            "bin_start": 22.568036274,
            "bin_end": 25.07559586,
            "count": 4
           }
          ]
         }
        },
        {
         "name": 14,
         "dtype": "float64",
         "stats": {
          "unique_count": 20,
          "nan_count": 0,
          "min": "0.0",
          "max": "23.94673157",
          "histogram": [
           {
            "bin_start": 0,
            "bin_end": 2.394673157,
            "count": 1
           },
           {
            "bin_start": 2.394673157,
            "bin_end": 4.789346314,
            "count": 4
           },
           {
            "bin_start": 4.789346314,
            "bin_end": 7.184019471000001,
            "count": 1
           },
           {
            "bin_start": 7.184019471000001,
            "bin_end": 9.578692628,
            "count": 1
           },
           {
            "bin_start": 9.578692628,
            "bin_end": 11.973365785,
            "count": 2
           },
           {
            "bin_start": 11.973365785,
            "bin_end": 14.368038942000002,
            "count": 4
           },
           {
            "bin_start": 14.368038942000002,
            "bin_end": 16.762712099,
            "count": 2
           },
           {
            "bin_start": 16.762712099,
            "bin_end": 19.157385256,
            "count": 1
           },
           {
            "bin_start": 19.157385256,
            "bin_end": 21.552058413,
            "count": 2
           },
           {
            "bin_start": 21.552058413,
            "bin_end": 23.94673157,
            "count": 2
           }
          ]
         }
        },
        {
         "name": 15,
         "dtype": "float64",
         "stats": {
          "unique_count": 20,
          "nan_count": 0,
          "min": "0.0",
          "max": "58.84427261",
          "histogram": [
           {
            "bin_start": 0,
            "bin_end": 5.884427261,
            "count": 1
           },
           {
            "bin_start": 5.884427261,
            "bin_end": 11.768854522,
            "count": 0
           },
           {
            "bin_start": 11.768854522,
            "bin_end": 17.653281783,
            "count": 0
           },
           {
            "bin_start": 17.653281783,
            "bin_end": 23.537709044,
            "count": 0
           },
           {
            "bin_start": 23.537709044,
            "bin_end": 29.422136305,
            "count": 0
           },
           {
            "bin_start": 29.422136305,
            "bin_end": 35.306563566,
            "count": 0
           },
           {
            "bin_start": 35.306563566,
            "bin_end": 41.190990827,
            "count": 7
           },
           {
            "bin_start": 41.190990827,
            "bin_end": 47.075418088,
            "count": 5
           },
           {
            "bin_start": 47.075418088,
            "bin_end": 52.959845349,
            "count": 3
           },
           {
            "bin_start": 52.959845349,
            "bin_end": 58.84427261,
            "count": 4
           }
          ]
         }
        },
        {
         "name": 16,
         "dtype": "int64",
         "stats": {
          "unique_count": 1,
          "nan_count": 0,
          "min": "0",
          "max": "0",
          "histogram": [
           {
            "bin_start": -0.5,
            "bin_end": -0.4,
            "count": 0
           },
           {
            "bin_start": -0.4,
            "bin_end": -0.3,
            "count": 0
           },
           {
            "bin_start": -0.3,
            "bin_end": -0.19999999999999996,
            "count": 0
           },
           {
            "bin_start": -0.19999999999999996,
            "bin_end": -0.09999999999999998,
            "count": 0
           },
           {
            "bin_start": -0.09999999999999998,
            "bin_end": 0,
            "count": 0
           },
           {
            "bin_start": 0,
            "bin_end": 0.10000000000000009,
            "count": 20
           },
           {
            "bin_start": 0.10000000000000009,
            "bin_end": 0.20000000000000007,
            "count": 0
           },
           {
            "bin_start": 0.20000000000000007,
            "bin_end": 0.30000000000000004,
            "count": 0
           },
           {
            "bin_start": 0.30000000000000004,
            "bin_end": 0.4,
            "count": 0
           },
           {
            "bin_start": 0.4,
            "bin_end": 0.5,
            "count": 0
           }
          ]
         }
        },
        {
         "name": 17,
         "dtype": "float64",
         "stats": {
          "unique_count": 2,
          "nan_count": 0,
          "min": "0.0",
          "max": "10.4799995422363",
          "histogram": [
           {
            "bin_start": 0,
            "bin_end": 1.04799995422363,
            "count": 19
           },
           {
            "bin_start": 1.04799995422363,
            "bin_end": 2.09599990844726,
            "count": 0
           },
           {
            "bin_start": 2.09599990844726,
            "bin_end": 3.1439998626708903,
            "count": 0
           },
           {
            "bin_start": 3.1439998626708903,
            "bin_end": 4.19199981689452,
            "count": 0
           },
           {
            "bin_start": 4.19199981689452,
            "bin_end": 5.23999977111815,
            "count": 0
           },
           {
            "bin_start": 5.23999977111815,
            "bin_end": 6.2879997253417805,
            "count": 0
           },
           {
            "bin_start": 6.2879997253417805,
            "bin_end": 7.33599967956541,
            "count": 0
           },
           {
            "bin_start": 7.33599967956541,
            "bin_end": 8.38399963378904,
            "count": 0
           },
           {
            "bin_start": 8.38399963378904,
            "bin_end": 9.43199958801267,
            "count": 0
           },
           {
            "bin_start": 9.43199958801267,
            "bin_end": 10.4799995422363,
            "count": 1
           }
          ]
         }
        },
        {
         "name": 18,
         "dtype": "float64",
         "stats": {
          "unique_count": 20,
          "nan_count": 0,
          "min": "41.5",
          "max": "96.8",
          "histogram": [
           {
            "bin_start": 41.5,
            "bin_end": 47.03,
            "count": 4
           },
           {
            "bin_start": 47.03,
            "bin_end": 52.56,
            "count": 2
           },
           {
            "bin_start": 52.56,
            "bin_end": 58.089999999999996,
            "count": 2
           },
           {
            "bin_start": 58.089999999999996,
            "bin_end": 63.62,
            "count": 2
           },
           {
            "bin_start": 63.62,
            "bin_end": 69.15,
            "count": 2
           },
           {
            "bin_start": 69.15,
            "bin_end": 74.67999999999999,
            "count": 2
           },
           {
            "bin_start": 74.67999999999999,
            "bin_end": 80.21,
            "count": 1
           },
           {
            "bin_start": 80.21,
            "bin_end": 85.74,
            "count": 2
           },
           {
            "bin_start": 85.74,
            "bin_end": 91.27,
            "count": 1
           },
           {
            "bin_start": 91.27,
            "bin_end": 96.8,
            "count": 2
           }
          ]
         }
        },
        {
         "name": 19,
         "dtype": "float64",
         "stats": {
          "unique_count": 20,
          "nan_count": 0,
          "min": "51.941",
          "max": "66.597",
          "histogram": [
           {
            "bin_start": 51.941,
            "bin_end": 53.406600000000005,
            "count": 3
           },
           {
            "bin_start": 53.406600000000005,
            "bin_end": 54.8722,
            "count": 1
           },
           {
            "bin_start": 54.8722,
            "bin_end": 56.3378,
            "count": 2
           },
           {
            "bin_start": 56.3378,
            "bin_end": 57.803399999999996,
            "count": 1
           },
           {
            "bin_start": 57.803399999999996,
            "bin_end": 59.269,
            "count": 1
           },
           {
            "bin_start": 59.269,
            "bin_end": 60.7346,
            "count": 2
           },
           {
            "bin_start": 60.7346,
            "bin_end": 62.200199999999995,
            "count": 1
           },
           {
            "bin_start": 62.200199999999995,
            "bin_end": 63.6658,
            "count": 2
           },
           {
            "bin_start": 63.6658,
            "bin_end": 65.1314,
            "count": 3
           },
           {
            "bin_start": 65.1314,
            "bin_end": 66.597,
            "count": 4
           }
          ]
         }
        },
        {
         "name": 20,
         "dtype": "float64",
         "stats": {
          "unique_count": 20,
          "nan_count": 0,
          "min": "4.146",
          "max": "6.543",
          "histogram": [
           {
            "bin_start": 4.146,
            "bin_end": 4.3857,
            "count": 3
           },
           {
            "bin_start": 4.3857,
            "bin_end": 4.6254,
            "count": 2
           },
           {
            "bin_start": 4.6254,
            "bin_end": 4.8651,
            "count": 2
           },
           {
            "bin_start": 4.8651,
            "bin_end": 5.1048,
            "count": 2
           },
           {
            "bin_start": 5.1048,
            "bin_end": 5.3445,
            "count": 2
           },
           {
            "bin_start": 5.3445,
            "bin_end": 5.5842,
            "count": 2
           },
           {
            "bin_start": 5.5842,
            "bin_end": 5.8239,
            "count": 2
           },
           {
            "bin_start": 5.8239,
            "bin_end": 6.0636,
            "count": 1
           },
           {
            "bin_start": 6.0636,
            "bin_end": 6.3033,
            "count": 2
           },
           {
            "bin_start": 6.3033,
            "bin_end": 6.543,
            "count": 2
           }
          ]
         }
        },
        {
         "name": 21,
         "dtype": "float64",
         "stats": {
          "unique_count": 20,
          "nan_count": 0,
          "min": "0.0",
          "max": "8.9189825087",
          "histogram": [
           {
            "bin_start": 0,
            "bin_end": 0.89189825087,
            "count": 1
           },
           {
            "bin_start": 0.89189825087,
            "bin_end": 1.78379650174,
            "count": 0
           },
           {
            "bin_start": 1.78379650174,
            "bin_end": 2.67569475261,
            "count": 0
           },
           {
            "bin_start": 2.67569475261,
            "bin_end": 3.56759300348,
            "count": 3
           },
           {
            "bin_start": 3.56759300348,
            "bin_end": 4.45949125435,
            "count": 4
           },
           {
            "bin_start": 4.45949125435,
            "bin_end": 5.35138950522,
            "count": 2
           },
           {
            "bin_start": 5.35138950522,
            "bin_end": 6.24328775609,
            "count": 4
           },
           {
            "bin_start": 6.24328775609,
            "bin_end": 7.13518600696,
            "count": 2
           },
           {
            "bin_start": 7.13518600696,
            "bin_end": 8.02708425783,
            "count": 2
           },
           {
            "bin_start": 8.02708425783,
            "bin_end": 8.9189825087,
            "count": 2
           }
          ]
         }
        },
        {
         "name": "_deepnote_index_column",
         "dtype": "object"
        }
       ],
       "rows_top": [
        {
         "0": 10,
         "1": 1.07,
         "2": 3.42708539180706,
         "3": 35.533966751733,
         "4": 100,
         "5": 0.27,
         "6": 0.46,
         "7": 0,
         "8": 0,
         "9": 0,
         "10": 0,
         "11": 3.98310995101929,
         "12": 4.3650465,
         "13": 5.38449526,
         "14": 3.50584769,
         "15": 42.51675034,
         "16": 0,
         "17": 0,
         "18": 96.8,
         "19": 51.941,
         "20": 6.543,
         "21": 4.885197532,
         "_deepnote_index_column": "YR2000"
        },
        {
         "0": 9.9084,
         "1": 1.18,
         "2": 4.13204822205568,
         "3": 0,
         "4": 0,
         "5": 0,
         "6": 0,
         "7": 0,
         "8": 0,
         "9": 0,
         "10": 0,
         "11": 3.7002899646759,
         "12": 4.72316694,
         "13": 5.61692476,
         "14": 4.28596306,
         "15": 40.25794983,
         "16": 0,
         "17": 0,
         "18": 93.2,
         "19": 52.595,
         "20": 6.407,
         "21": 4.1938417335,
         "_deepnote_index_column": "YR2001"
        },
        {
         "0": 9.853,
         "1": 1.31,
         "2": 4.18623290549594,
         "3": 0,
         "4": 0,
         "5": 0.32,
         "6": 0.52,
         "7": 4.55573770491803,
         "8": 1739.32655841878,
         "9": 0,
         "10": 0,
         "11": 3.63245010375977,
         "12": 4.7126298,
         "13": 5.25928497,
         "14": 3.18764424,
         "15": 43.13770676,
         "16": 0,
         "17": 0,
         "18": 89.6,
         "19": 53.349,
         "20": 6.262,
         "21": 5.3756113438,
         "_deepnote_index_column": "YR2002"
        },
        {
         "0": 10.928,
         "1": 1.45999999999999,
         "2": 4.39882977487327,
         "3": 0,
         "4": 0,
         "5": 0,
         "6": 0,
         "7": 0,
         "8": 0,
         "9": 0,
         "10": 0,
         "11": 0,
         "12": 4.89970922,
         "13": 5.84133863,
         "14": 3.58781052,
         "15": 39.3457222,
         "16": 0,
         "17": 0,
         "18": 85.7,
         "19": 54.211,
         "20": 6.112,
         "21": 6.1960535648,
         "_deepnote_index_column": "YR2003"
        },
        {
         "0": 10.9487209446325,
         "1": 1.58,
         "2": 4.47410799951526,
         "3": 0,
         "4": 0,
         "5": 0.42,
         "6": 0.6,
         "7": 0,
         "8": 0,
         "9": 0,
         "10": 0,
         "11": 0,
         "12": 4.31281853,
         "13": 5.88065052,
         "14": 7.48590326,
         "15": 39.62668991,
         "16": 0,
         "17": 0,
         "18": 81.8,
         "19": 55.174,
         "20": 5.961,
         "21": 8.9189825087,
         "_deepnote_index_column": "YR2004"
        },
        {
         "0": 11.3546428305272,
         "1": 1.79,
         "2": 4.09358818908645,
         "3": 34.3510075789008,
         "4": 100,
         "5": 0,
         "6": 0,
         "7": 0,
         "8": 0,
         "9": 0,
         "10": 0,
         "11": 0,
         "12": 4.10098124,
         "13": 6.65360308,
         "14": 5.98420286,
         "15": 35.61906815,
         "16": 0,
         "17": 0,
         "18": 78,
         "19": 56.223,
         "20": 5.812,
         "21": 7.0180265398,
         "_deepnote_index_column": "YR2005"
        },
        {
         "0": 11.8620648636692,
         "1": 1.96,
         "2": 4.24706238848949,
         "3": 0,
         "4": 0,
         "5": 0.62,
         "6": 0.93,
         "7": 0,
         "8": 0,
         "9": 0,
         "10": 0,
         "11": 5.49096012115479,
         "12": 4.45757294,
         "13": 8.66179371,
         "14": 10.50690842,
         "15": 42.51520157,
         "16": 0,
         "17": 0,
         "18": 74.3,
         "19": 57.334,
         "20": 5.667,
         "21": 4.1567047974,
         "_deepnote_index_column": "YR2006"
        },
        {
         "0": 12.430849129113,
         "1": 2.1,
         "2": 4.60814770153173,
         "3": 0,
         "4": 0,
         "5": 0,
         "6": 0,
         "7": 6.84425484352459,
         "8": 1512.25278649,
         "9": 0,
         "10": 2.33,
         "11": 5.45112991333008,
         "12": 5.00128365,
         "13": 11.98231506,
         "14": 13.52633476,
         "15": 39.9972496,
         "16": 0,
         "17": 0,
         "18": 70.8,
         "19": 58.467,
         "20": 5.526,
         "21": 6.2172585615,
         "_deepnote_index_column": "YR2007"
        },
        {
         "0": 12.0484695673723,
         "1": 2.36,
         "2": 4.84375282997219,
         "3": 0,
         "4": 0,
         "5": 0.89,
         "6": 0.92,
         "7": 0,
         "8": 0,
         "9": 0,
         "10": 0,
         "11": 5.40819978713989,
         "12": 4.28063917,
         "13": 13.45180225,
         "14": 17.83525467,
         "15": 41.2253952,
         "16": 0,
         "17": 0,
         "18": 67.5,
         "19": 59.581,
         "20": 5.39,
         "21": 6.9137118831,
         "_deepnote_index_column": "YR2008"
        },
        {
         "0": 12.3513312658986,
         "1": 2.51,
         "2": 4.79024921788802,
         "3": 0,
         "4": 0,
         "5": 0,
         "6": 0,
         "7": 0,
         "8": 0,
         "9": 0,
         "10": 0,
         "11": 4.42207002639771,
         "12": 4.64983416,
         "13": 15.63803864,
         "14": 14.83123684,
         "15": 46.90293503,
         "16": 0,
         "17": 0,
         "18": 64.3,
         "19": 60.645,
         "20": 5.26,
         "21": 7.5777211115,
         "_deepnote_index_column": "YR2009"
        },
        {
         "0": 12.897902517589,
         "1": 2.69,
         "2": 4.56774259193614,
         "3": 35.6341454113469,
         "4": 100,
         "5": 0.78,
         "6": 0.91,
         "7": 0,
         "8": 0,
         "9": 0,
         "10": 2.41,
         "11": 4.49659013748169,
         "12": 5.46637201,
         "13": 16.7058506,
         "14": 19.82130241,
         "15": 48.2890625,
         "16": 0,
         "17": 0,
         "18": 61.4,
         "19": 61.627,
         "20": 5.136,
         "21": 8.312191385,
         "_deepnote_index_column": "YR2010"
        },
        {
         "0": 13.4547389107967,
         "1": 2.82,
         "2": 4.93741611436119,
         "3": 36.3179419484047,
         "4": 100,
         "5": 0,
         "6": 0,
         "7": 0,
         "8": 0,
         "9": 0,
         "10": 0,
         "11": 5.48576021194458,
         "12": 4.46897793,
         "13": 15.11116791,
         "14": 19.48081207,
         "15": 53.94320679,
         "16": 0,
         "17": 0,
         "18": 58.6,
         "19": 62.505,
         "20": 5.017,
         "21": 3.7204444621,
         "_deepnote_index_column": "YR2011"
        },
        {
         "0": 13.5900394790913,
         "1": 3.01,
         "2": 4.94624832602981,
         "3": 35.9738421341538,
         "4": 100,
         "5": 0.94,
         "6": 1.05,
         "7": 7.84508941877049,
         "8": 1315.69039958617,
         "9": 0,
         "10": 2.24,
         "11": 5.56678009033203,
         "12": 4.53959608,
         "13": 20.66479111,
         "14": 15.86138821,
         "15": 48.55955124,
         "16": 0,
         "17": 0,
         "18": 56,
         "19": 63.281,
         "20": 4.901,
         "21": 3.3070234704,
         "_deepnote_index_column": "YR2012"
        },
        {
         "0": 13.7006999515893,
         "1": 3.11,
         "2": 5.58576848838172,
         "3": 35.8842053645556,
         "4": 100,
         "5": 0,
         "6": 0,
         "7": 0,
         "8": 0,
         "9": 0,
         "10": 0,
         "11": 4.4985499382019,
         "12": 4.07506514,
         "13": 19.88365173,
         "14": 12.97043133,
         "15": 49.74310303,
         "16": 0,
         "17": 10.4799995422363,
         "18": 53.5,
         "19": 63.961,
         "20": 4.787,
         "21": 2.7575753693,
         "_deepnote_index_column": "YR2013"
        },
        {
         "0": 13.8112416732663,
         "1": 3.25,
         "2": 5.9263144174666,
         "3": 35.0435974528957,
         "4": 100,
         "5": 0.89,
         "6": 0.99,
         "7": 0,
         "8": 0,
         "9": 0,
         "10": 2.593625,
         "11": 4.60201978683472,
         "12": 4.03365517,
         "13": 22.27192688,
         "14": 14.12374973,
         "15": 58.84427261,
         "16": 0,
         "17": 0,
         "18": 51.1,
         "19": 64.547,
         "20": 4.675,
         "21": 4.9660814936,
         "_deepnote_index_column": "YR2014"
        },
        {
         "0": 13.9213469172077,
         "1": 3.4,
         "2": 0,
         "3": 38.8586046907177,
         "4": 100,
         "5": 0,
         "6": 0,
         "7": 0,
         "8": 0,
         "9": 0,
         "10": 0,
         "11": 4.73791980743408,
         "12": 3.82316828,
         "13": 23.91623878,
         "14": 11.32196808,
         "15": 56.48738098,
         "16": 0,
         "17": 0,
         "18": 48.9,
         "19": 65.048,
         "20": 4.565,
         "21": 7.4944189844,
         "_deepnote_index_column": "YR2015"
        },
        {
         "0": 14.0316508688233,
         "1": 3.51,
         "2": 0,
         "3": 39.245037575297,
         "4": 100,
         "5": 0.64,
         "6": 0.75,
         "7": 0,
         "8": 0,
         "9": 0,
         "10": 2.376767,
         "11": 5.06151008605957,
         "12": 3.66298747,
         "13": 25.07559586,
         "14": 12.72082233,
         "15": 54.76727295,
         "16": 0,
         "17": 0,
         "18": 46.8,
         "19": 65.482,
         "20": 4.456,
         "21": 5.7465208056,
         "_deepnote_index_column": "YR2016"
        },
        {
         "0": 14.1410456345114,
         "1": 0,
         "2": 0,
         "3": 38.9787377576037,
         "4": 100,
         "5": 0,
         "6": 0,
         "7": 8.64598360655738,
         "8": 1146.61733881281,
         "9": 0,
         "10": 0,
         "11": 5.64951992034912,
         "12": 3.50331593,
         "13": 24.92481232,
         "14": 23.16876411,
         "15": 39.70265961,
         "16": 0,
         "17": 0,
         "18": 44.8,
         "19": 65.872,
         "20": 4.35,
         "21": 3.8256413056,
         "_deepnote_index_column": "YR2017"
        },
        {
         "0": 14.333653068162,
         "1": 0,
         "2": 0,
         "3": 0,
         "4": 0,
         "5": 0,
         "6": 0,
         "7": 0,
         "8": 0,
         "9": 0,
         "10": 0,
         "11": 5.06867980957031,
         "12": 3.29555655,
         "13": 24.22611809,
         "14": 23.94673157,
         "15": 40.69766998,
         "16": 0,
         "17": 0,
         "18": 43,
         "19": 66.24,
         "20": 4.247,
         "21": 2.8440308046,
         "_deepnote_index_column": "YR2018"
        },
        {
         "0": 0,
         "1": 0,
         "2": 0,
         "3": 0,
         "4": 0,
         "5": 0,
         "6": 0,
         "7": 0,
         "8": 0,
         "9": 0,
         "10": 0,
         "11": 0,
         "12": 0,
         "13": 0,
         "14": 0,
         "15": 0,
         "16": 0,
         "17": 0,
         "18": 41.5,
         "19": 66.597,
         "20": 4.146,
         "21": 0,
         "_deepnote_index_column": "YR2019"
        }
       ],
       "rows_bottom": null
      },
      "text/plain": "               0     1         2          3      4     5     6         7   \\\nYR2000  10.000000  1.07  3.427085  35.533967  100.0  0.27  0.46  0.000000   \nYR2001   9.908400  1.18  4.132048   0.000000    0.0  0.00  0.00  0.000000   \nYR2002   9.853000  1.31  4.186233   0.000000    0.0  0.32  0.52  4.555738   \nYR2003  10.928000  1.46  4.398830   0.000000    0.0  0.00  0.00  0.000000   \nYR2004  10.948721  1.58  4.474108   0.000000    0.0  0.42  0.60  0.000000   \nYR2005  11.354643  1.79  4.093588  34.351008  100.0  0.00  0.00  0.000000   \nYR2006  11.862065  1.96  4.247062   0.000000    0.0  0.62  0.93  0.000000   \nYR2007  12.430849  2.10  4.608148   0.000000    0.0  0.00  0.00  6.844255   \nYR2008  12.048470  2.36  4.843753   0.000000    0.0  0.89  0.92  0.000000   \nYR2009  12.351331  2.51  4.790249   0.000000    0.0  0.00  0.00  0.000000   \nYR2010  12.897903  2.69  4.567743  35.634145  100.0  0.78  0.91  0.000000   \nYR2011  13.454739  2.82  4.937416  36.317942  100.0  0.00  0.00  0.000000   \nYR2012  13.590039  3.01  4.946248  35.973842  100.0  0.94  1.05  7.845089   \nYR2013  13.700700  3.11  5.585768  35.884205  100.0  0.00  0.00  0.000000   \nYR2014  13.811242  3.25  5.926314  35.043597  100.0  0.89  0.99  0.000000   \nYR2015  13.921347  3.40  0.000000  38.858605  100.0  0.00  0.00  0.000000   \nYR2016  14.031651  3.51  0.000000  39.245038  100.0  0.64  0.75  0.000000   \nYR2017  14.141046  0.00  0.000000  38.978738  100.0  0.00  0.00  8.645984   \nYR2018  14.333653  0.00  0.000000   0.000000    0.0  0.00  0.00  0.000000   \nYR2019   0.000000  0.00  0.000000   0.000000    0.0  0.00  0.00  0.000000   \n\n                 8   9   ...        12         13         14         15  16  \\\nYR2000     0.000000   0  ...  4.365047   5.384495   3.505848  42.516750   0   \nYR2001     0.000000   0  ...  4.723167   5.616925   4.285963  40.257950   0   \nYR2002  1739.326558   0  ...  4.712630   5.259285   3.187644  43.137707   0   \nYR2003     0.000000   0  ...  4.899709   5.841339   3.587811  39.345722   0   \nYR2004     0.000000   0  ...  4.312819   5.880651   7.485903  39.626690   0   \nYR2005     0.000000   0  ...  4.100981   6.653603   5.984203  35.619068   0   \nYR2006     0.000000   0  ...  4.457573   8.661794  10.506908  42.515202   0   \nYR2007  1512.252786   0  ...  5.001284  11.982315  13.526335  39.997250   0   \nYR2008     0.000000   0  ...  4.280639  13.451802  17.835255  41.225395   0   \nYR2009     0.000000   0  ...  4.649834  15.638039  14.831237  46.902935   0   \nYR2010     0.000000   0  ...  5.466372  16.705851  19.821302  48.289062   0   \nYR2011     0.000000   0  ...  4.468978  15.111168  19.480812  53.943207   0   \nYR2012  1315.690400   0  ...  4.539596  20.664791  15.861388  48.559551   0   \nYR2013     0.000000   0  ...  4.075065  19.883652  12.970431  49.743103   0   \nYR2014     0.000000   0  ...  4.033655  22.271927  14.123750  58.844273   0   \nYR2015     0.000000   0  ...  3.823168  23.916239  11.321968  56.487381   0   \nYR2016     0.000000   0  ...  3.662987  25.075596  12.720822  54.767273   0   \nYR2017  1146.617339   0  ...  3.503316  24.924812  23.168764  39.702660   0   \nYR2018     0.000000   0  ...  3.295557  24.226118  23.946732  40.697670   0   \nYR2019     0.000000   0  ...  0.000000   0.000000   0.000000   0.000000   0   \n\n           17    18      19     20        21  \nYR2000   0.00  96.8  51.941  6.543  4.885198  \nYR2001   0.00  93.2  52.595  6.407  4.193842  \nYR2002   0.00  89.6  53.349  6.262  5.375611  \nYR2003   0.00  85.7  54.211  6.112  6.196054  \nYR2004   0.00  81.8  55.174  5.961  8.918983  \nYR2005   0.00  78.0  56.223  5.812  7.018027  \nYR2006   0.00  74.3  57.334  5.667  4.156705  \nYR2007   0.00  70.8  58.467  5.526  6.217259  \nYR2008   0.00  67.5  59.581  5.390  6.913712  \nYR2009   0.00  64.3  60.645  5.260  7.577721  \nYR2010   0.00  61.4  61.627  5.136  8.312191  \nYR2011   0.00  58.6  62.505  5.017  3.720444  \nYR2012   0.00  56.0  63.281  4.901  3.307023  \nYR2013  10.48  53.5  63.961  4.787  2.757575  \nYR2014   0.00  51.1  64.547  4.675  4.966081  \nYR2015   0.00  48.9  65.048  4.565  7.494419  \nYR2016   0.00  46.8  65.482  4.456  5.746521  \nYR2017   0.00  44.8  65.872  4.350  3.825641  \nYR2018   0.00  43.0  66.240  4.247  2.844031  \nYR2019   0.00  41.5  66.597  4.146  0.000000  \n\n[20 rows x 22 columns]",
      "text/html": "<div>\n<style scoped>\n    .dataframe tbody tr th:only-of-type {\n        vertical-align: middle;\n    }\n\n    .dataframe tbody tr th {\n        vertical-align: top;\n    }\n\n    .dataframe thead th {\n        text-align: right;\n    }\n</style>\n<table border=\"1\" class=\"dataframe\">\n  <thead>\n    <tr style=\"text-align: right;\">\n      <th></th>\n      <th>0</th>\n      <th>1</th>\n      <th>2</th>\n      <th>3</th>\n      <th>4</th>\n      <th>5</th>\n      <th>6</th>\n      <th>7</th>\n      <th>8</th>\n      <th>9</th>\n      <th>...</th>\n      <th>12</th>\n      <th>13</th>\n      <th>14</th>\n      <th>15</th>\n      <th>16</th>\n      <th>17</th>\n      <th>18</th>\n      <th>19</th>\n      <th>20</th>\n      <th>21</th>\n    </tr>\n  </thead>\n  <tbody>\n    <tr>\n      <th>YR2000</th>\n      <td>10.000000</td>\n      <td>1.07</td>\n      <td>3.427085</td>\n      <td>35.533967</td>\n      <td>100.0</td>\n      <td>0.27</td>\n      <td>0.46</td>\n      <td>0.000000</td>\n      <td>0.000000</td>\n      <td>0</td>\n      <td>...</td>\n      <td>4.365047</td>\n      <td>5.384495</td>\n      <td>3.505848</td>\n      <td>42.516750</td>\n      <td>0</td>\n      <td>0.00</td>\n      <td>96.8</td>\n      <td>51.941</td>\n      <td>6.543</td>\n      <td>4.885198</td>\n    </tr>\n    <tr>\n      <th>YR2001</th>\n      <td>9.908400</td>\n      <td>1.18</td>\n      <td>4.132048</td>\n      <td>0.000000</td>\n      <td>0.0</td>\n      <td>0.00</td>\n      <td>0.00</td>\n      <td>0.000000</td>\n      <td>0.000000</td>\n      <td>0</td>\n      <td>...</td>\n      <td>4.723167</td>\n      <td>5.616925</td>\n      <td>4.285963</td>\n      <td>40.257950</td>\n      <td>0</td>\n      <td>0.00</td>\n      <td>93.2</td>\n      <td>52.595</td>\n      <td>6.407</td>\n      <td>4.193842</td>\n    </tr>\n    <tr>\n      <th>YR2002</th>\n      <td>9.853000</td>\n      <td>1.31</td>\n      <td>4.186233</td>\n      <td>0.000000</td>\n      <td>0.0</td>\n      <td>0.32</td>\n      <td>0.52</td>\n      <td>4.555738</td>\n      <td>1739.326558</td>\n      <td>0</td>\n      <td>...</td>\n      <td>4.712630</td>\n      <td>5.259285</td>\n      <td>3.187644</td>\n      <td>43.137707</td>\n      <td>0</td>\n      <td>0.00</td>\n      <td>89.6</td>\n      <td>53.349</td>\n      <td>6.262</td>\n      <td>5.375611</td>\n    </tr>\n    <tr>\n      <th>YR2003</th>\n      <td>10.928000</td>\n      <td>1.46</td>\n      <td>4.398830</td>\n      <td>0.000000</td>\n      <td>0.0</td>\n      <td>0.00</td>\n      <td>0.00</td>\n      <td>0.000000</td>\n      <td>0.000000</td>\n      <td>0</td>\n      <td>...</td>\n      <td>4.899709</td>\n      <td>5.841339</td>\n      <td>3.587811</td>\n      <td>39.345722</td>\n      <td>0</td>\n      <td>0.00</td>\n      <td>85.7</td>\n      <td>54.211</td>\n      <td>6.112</td>\n      <td>6.196054</td>\n    </tr>\n    <tr>\n      <th>YR2004</th>\n      <td>10.948721</td>\n      <td>1.58</td>\n      <td>4.474108</td>\n      <td>0.000000</td>\n      <td>0.0</td>\n      <td>0.42</td>\n      <td>0.60</td>\n      <td>0.000000</td>\n      <td>0.000000</td>\n      <td>0</td>\n      <td>...</td>\n      <td>4.312819</td>\n      <td>5.880651</td>\n      <td>7.485903</td>\n      <td>39.626690</td>\n      <td>0</td>\n      <td>0.00</td>\n      <td>81.8</td>\n      <td>55.174</td>\n      <td>5.961</td>\n      <td>8.918983</td>\n    </tr>\n    <tr>\n      <th>YR2005</th>\n      <td>11.354643</td>\n      <td>1.79</td>\n      <td>4.093588</td>\n      <td>34.351008</td>\n      <td>100.0</td>\n      <td>0.00</td>\n      <td>0.00</td>\n      <td>0.000000</td>\n      <td>0.000000</td>\n      <td>0</td>\n      <td>...</td>\n      <td>4.100981</td>\n      <td>6.653603</td>\n      <td>5.984203</td>\n      <td>35.619068</td>\n      <td>0</td>\n      <td>0.00</td>\n      <td>78.0</td>\n      <td>56.223</td>\n      <td>5.812</td>\n      <td>7.018027</td>\n    </tr>\n    <tr>\n      <th>YR2006</th>\n      <td>11.862065</td>\n      <td>1.96</td>\n      <td>4.247062</td>\n      <td>0.000000</td>\n      <td>0.0</td>\n      <td>0.62</td>\n      <td>0.93</td>\n      <td>0.000000</td>\n      <td>0.000000</td>\n      <td>0</td>\n      <td>...</td>\n      <td>4.457573</td>\n      <td>8.661794</td>\n      <td>10.506908</td>\n      <td>42.515202</td>\n      <td>0</td>\n      <td>0.00</td>\n      <td>74.3</td>\n      <td>57.334</td>\n      <td>5.667</td>\n      <td>4.156705</td>\n    </tr>\n    <tr>\n      <th>YR2007</th>\n      <td>12.430849</td>\n      <td>2.10</td>\n      <td>4.608148</td>\n      <td>0.000000</td>\n      <td>0.0</td>\n      <td>0.00</td>\n      <td>0.00</td>\n      <td>6.844255</td>\n      <td>1512.252786</td>\n      <td>0</td>\n      <td>...</td>\n      <td>5.001284</td>\n      <td>11.982315</td>\n      <td>13.526335</td>\n      <td>39.997250</td>\n      <td>0</td>\n      <td>0.00</td>\n      <td>70.8</td>\n      <td>58.467</td>\n      <td>5.526</td>\n      <td>6.217259</td>\n    </tr>\n    <tr>\n      <th>YR2008</th>\n      <td>12.048470</td>\n      <td>2.36</td>\n      <td>4.843753</td>\n      <td>0.000000</td>\n      <td>0.0</td>\n      <td>0.89</td>\n      <td>0.92</td>\n      <td>0.000000</td>\n      <td>0.000000</td>\n      <td>0</td>\n      <td>...</td>\n      <td>4.280639</td>\n      <td>13.451802</td>\n      <td>17.835255</td>\n      <td>41.225395</td>\n      <td>0</td>\n      <td>0.00</td>\n      <td>67.5</td>\n      <td>59.581</td>\n      <td>5.390</td>\n      <td>6.913712</td>\n    </tr>\n    <tr>\n      <th>YR2009</th>\n      <td>12.351331</td>\n      <td>2.51</td>\n      <td>4.790249</td>\n      <td>0.000000</td>\n      <td>0.0</td>\n      <td>0.00</td>\n      <td>0.00</td>\n      <td>0.000000</td>\n      <td>0.000000</td>\n      <td>0</td>\n      <td>...</td>\n      <td>4.649834</td>\n      <td>15.638039</td>\n      <td>14.831237</td>\n      <td>46.902935</td>\n      <td>0</td>\n      <td>0.00</td>\n      <td>64.3</td>\n      <td>60.645</td>\n      <td>5.260</td>\n      <td>7.577721</td>\n    </tr>\n    <tr>\n      <th>YR2010</th>\n      <td>12.897903</td>\n      <td>2.69</td>\n      <td>4.567743</td>\n      <td>35.634145</td>\n      <td>100.0</td>\n      <td>0.78</td>\n      <td>0.91</td>\n      <td>0.000000</td>\n      <td>0.000000</td>\n      <td>0</td>\n      <td>...</td>\n      <td>5.466372</td>\n      <td>16.705851</td>\n      <td>19.821302</td>\n      <td>48.289062</td>\n      <td>0</td>\n      <td>0.00</td>\n      <td>61.4</td>\n      <td>61.627</td>\n      <td>5.136</td>\n      <td>8.312191</td>\n    </tr>\n    <tr>\n      <th>YR2011</th>\n      <td>13.454739</td>\n      <td>2.82</td>\n      <td>4.937416</td>\n      <td>36.317942</td>\n      <td>100.0</td>\n      <td>0.00</td>\n      <td>0.00</td>\n      <td>0.000000</td>\n      <td>0.000000</td>\n      <td>0</td>\n      <td>...</td>\n      <td>4.468978</td>\n      <td>15.111168</td>\n      <td>19.480812</td>\n      <td>53.943207</td>\n      <td>0</td>\n      <td>0.00</td>\n      <td>58.6</td>\n      <td>62.505</td>\n      <td>5.017</td>\n      <td>3.720444</td>\n    </tr>\n    <tr>\n      <th>YR2012</th>\n      <td>13.590039</td>\n      <td>3.01</td>\n      <td>4.946248</td>\n      <td>35.973842</td>\n      <td>100.0</td>\n      <td>0.94</td>\n      <td>1.05</td>\n      <td>7.845089</td>\n      <td>1315.690400</td>\n      <td>0</td>\n      <td>...</td>\n      <td>4.539596</td>\n      <td>20.664791</td>\n      <td>15.861388</td>\n      <td>48.559551</td>\n      <td>0</td>\n      <td>0.00</td>\n      <td>56.0</td>\n      <td>63.281</td>\n      <td>4.901</td>\n      <td>3.307023</td>\n    </tr>\n    <tr>\n      <th>YR2013</th>\n      <td>13.700700</td>\n      <td>3.11</td>\n      <td>5.585768</td>\n      <td>35.884205</td>\n      <td>100.0</td>\n      <td>0.00</td>\n      <td>0.00</td>\n      <td>0.000000</td>\n      <td>0.000000</td>\n      <td>0</td>\n      <td>...</td>\n      <td>4.075065</td>\n      <td>19.883652</td>\n      <td>12.970431</td>\n      <td>49.743103</td>\n      <td>0</td>\n      <td>10.48</td>\n      <td>53.5</td>\n      <td>63.961</td>\n      <td>4.787</td>\n      <td>2.757575</td>\n    </tr>\n    <tr>\n      <th>YR2014</th>\n      <td>13.811242</td>\n      <td>3.25</td>\n      <td>5.926314</td>\n      <td>35.043597</td>\n      <td>100.0</td>\n      <td>0.89</td>\n      <td>0.99</td>\n      <td>0.000000</td>\n      <td>0.000000</td>\n      <td>0</td>\n      <td>...</td>\n      <td>4.033655</td>\n      <td>22.271927</td>\n      <td>14.123750</td>\n      <td>58.844273</td>\n      <td>0</td>\n      <td>0.00</td>\n      <td>51.1</td>\n      <td>64.547</td>\n      <td>4.675</td>\n      <td>4.966081</td>\n    </tr>\n    <tr>\n      <th>YR2015</th>\n      <td>13.921347</td>\n      <td>3.40</td>\n      <td>0.000000</td>\n      <td>38.858605</td>\n      <td>100.0</td>\n      <td>0.00</td>\n      <td>0.00</td>\n      <td>0.000000</td>\n      <td>0.000000</td>\n      <td>0</td>\n      <td>...</td>\n      <td>3.823168</td>\n      <td>23.916239</td>\n      <td>11.321968</td>\n      <td>56.487381</td>\n      <td>0</td>\n      <td>0.00</td>\n      <td>48.9</td>\n      <td>65.048</td>\n      <td>4.565</td>\n      <td>7.494419</td>\n    </tr>\n    <tr>\n      <th>YR2016</th>\n      <td>14.031651</td>\n      <td>3.51</td>\n      <td>0.000000</td>\n      <td>39.245038</td>\n      <td>100.0</td>\n      <td>0.64</td>\n      <td>0.75</td>\n      <td>0.000000</td>\n      <td>0.000000</td>\n      <td>0</td>\n      <td>...</td>\n      <td>3.662987</td>\n      <td>25.075596</td>\n      <td>12.720822</td>\n      <td>54.767273</td>\n      <td>0</td>\n      <td>0.00</td>\n      <td>46.8</td>\n      <td>65.482</td>\n      <td>4.456</td>\n      <td>5.746521</td>\n    </tr>\n    <tr>\n      <th>YR2017</th>\n      <td>14.141046</td>\n      <td>0.00</td>\n      <td>0.000000</td>\n      <td>38.978738</td>\n      <td>100.0</td>\n      <td>0.00</td>\n      <td>0.00</td>\n      <td>8.645984</td>\n      <td>1146.617339</td>\n      <td>0</td>\n      <td>...</td>\n      <td>3.503316</td>\n      <td>24.924812</td>\n      <td>23.168764</td>\n      <td>39.702660</td>\n      <td>0</td>\n      <td>0.00</td>\n      <td>44.8</td>\n      <td>65.872</td>\n      <td>4.350</td>\n      <td>3.825641</td>\n    </tr>\n    <tr>\n      <th>YR2018</th>\n      <td>14.333653</td>\n      <td>0.00</td>\n      <td>0.000000</td>\n      <td>0.000000</td>\n      <td>0.0</td>\n      <td>0.00</td>\n      <td>0.00</td>\n      <td>0.000000</td>\n      <td>0.000000</td>\n      <td>0</td>\n      <td>...</td>\n      <td>3.295557</td>\n      <td>24.226118</td>\n      <td>23.946732</td>\n      <td>40.697670</td>\n      <td>0</td>\n      <td>0.00</td>\n      <td>43.0</td>\n      <td>66.240</td>\n      <td>4.247</td>\n      <td>2.844031</td>\n    </tr>\n    <tr>\n      <th>YR2019</th>\n      <td>0.000000</td>\n      <td>0.00</td>\n      <td>0.000000</td>\n      <td>0.000000</td>\n      <td>0.0</td>\n      <td>0.00</td>\n      <td>0.00</td>\n      <td>0.000000</td>\n      <td>0.000000</td>\n      <td>0</td>\n      <td>...</td>\n      <td>0.000000</td>\n      <td>0.000000</td>\n      <td>0.000000</td>\n      <td>0.000000</td>\n      <td>0</td>\n      <td>0.00</td>\n      <td>41.5</td>\n      <td>66.597</td>\n      <td>4.146</td>\n      <td>0.000000</td>\n    </tr>\n  </tbody>\n</table>\n<p>20 rows × 22 columns</p>\n</div>"
     },
     "metadata": {}
    }
   ],
   "execution_count": null
  },
  {
   "cell_type": "code",
   "metadata": {
    "tags": [],
    "cell_id": "00022-555da189-ef63-4285-bed7-569b8770257f",
    "deepnote_to_be_reexecuted": false,
    "source_hash": "ad7ab622",
    "execution_start": 1636920299351,
    "execution_millis": 168,
    "deepnote_cell_type": "code"
   },
   "source": "combined1trainfinal = wb.data.DataFrame(['EP.PMP.DESL.CD', 'EP.PMP.SGAS.CD',  'IS.SHP.GCNW.XQ', \n            'LP.LPI.OVRL.XQ',  'SL.UEM.NEET.ZS', 'SE.XPD.TOTL.GD.ZS', 'SH.XPD.CHEX.GD.ZS'\n            , 'SH.XPD.CHEX.PC.CD', 'SH.XPD.PVTD.CH.ZS', 'EG.IMP.CONS.ZS', 'AG.LND.ARBL.ZS',\n            'EG.CFT.ACCS.ZS', 'EN.ATM.PM25.MC.M3', 'EN.ATM.PM25.MC.ZS', 'ER.H2O.FWTL.ZS'\n            , 'ER.H2O.INTR.PC', 'SH.XPD.EHEX.PP.CD', 'SH.XPD.EXTR.ZS', 'SI.POV.MDIM', 'SP.DYN.IMRT.MA.IN',\n            'SP.DYN.LE00.IN', 'SP.DYN.TFRT.IN', 'TM.VAL.ICTG.ZS.UN'], ['AGO'],\n                             time=range(2000, 2020), index=['series', 'economy'])",
   "outputs": [],
   "execution_count": null
  },
  {
   "cell_type": "code",
   "metadata": {
    "tags": [],
    "cell_id": "00023-62645286-4441-4e61-a732-805a970a4f63",
    "deepnote_to_be_reexecuted": false,
    "source_hash": "13e3f087",
    "execution_start": 1636920299526,
    "execution_millis": 1,
    "deepnote_cell_type": "code"
   },
   "source": "features = list(combined1trainfinal.reset_index()['series'])",
   "outputs": [],
   "execution_count": null
  },
  {
   "cell_type": "code",
   "metadata": {
    "tags": [],
    "cell_id": "00024-a5183304-dac4-48d4-967c-77db5f9d1e7a",
    "deepnote_to_be_reexecuted": false,
    "source_hash": "c0839e7b",
    "execution_start": 1636920299536,
    "execution_millis": 0,
    "deepnote_cell_type": "code"
   },
   "source": "d = {'features': features, 'absolute of coeffs': influence_params}",
   "outputs": [],
   "execution_count": null
  },
  {
   "cell_type": "code",
   "metadata": {
    "tags": [],
    "cell_id": "00024-5760436c-3145-4724-bfc7-a9a11ae811de",
    "deepnote_to_be_reexecuted": false,
    "source_hash": "2e7034b5",
    "execution_start": 1636920299538,
    "execution_millis": 10,
    "deepnote_cell_type": "code"
   },
   "source": "df = pd.DataFrame(data=d)",
   "outputs": [],
   "execution_count": null
  },
  {
   "cell_type": "code",
   "metadata": {
    "tags": [],
    "cell_id": "00025-ee61a8e8-3734-478d-a955-68bd79331160",
    "deepnote_to_be_reexecuted": false,
    "source_hash": "41b72d0b",
    "execution_start": 1636920299550,
    "execution_millis": 16,
    "deepnote_cell_type": "code"
   },
   "source": "df.sort_values(by='absolute of coeffs', ascending=False).head(5)",
   "outputs": [
    {
     "output_type": "execute_result",
     "execution_count": 32,
     "data": {
      "application/vnd.deepnote.dataframe.v2+json": {
       "row_count": 5,
       "column_count": 2,
       "columns": [
        {
         "name": "features",
         "dtype": "object",
         "stats": {
          "unique_count": 5,
          "nan_count": 0,
          "categories": [
           {
            "name": "AG.LND.ARBL.ZS",
            "count": 1
           },
           {
            "name": "LP.LPI.OVRL.XQ",
            "count": 1
           },
           {
            "name": "3 others",
            "count": 3
           }
          ]
         }
        },
        {
         "name": "absolute of coeffs",
         "dtype": "float64",
         "stats": {
          "unique_count": 5,
          "nan_count": 0,
          "min": "4427884610.850344",
          "max": "8620750266.200365",
          "histogram": [
           {
            "bin_start": 4427884610.850344,
            "bin_end": 4847171176.385345,
            "count": 1
           },
           {
            "bin_start": 4847171176.385345,
            "bin_end": 5266457741.920348,
            "count": 1
           },
           {
            "bin_start": 5266457741.920348,
            "bin_end": 5685744307.45535,
            "count": 0
           },
           {
            "bin_start": 5685744307.45535,
            "bin_end": 6105030872.990353,
            "count": 1
           },
           {
            "bin_start": 6105030872.990353,
            "bin_end": 6524317438.525354,
            "count": 1
           },
           {
            "bin_start": 6524317438.525354,
            "bin_end": 6943604004.060356,
            "count": 0
           },
           {
            "bin_start": 6943604004.060356,
            "bin_end": 7362890569.595358,
            "count": 0
           },
           {
            "bin_start": 7362890569.595358,
            "bin_end": 7782177135.130361,
            "count": 0
           },
           {
            "bin_start": 7782177135.130361,
            "bin_end": 8201463700.665363,
            "count": 0
           },
           {
            "bin_start": 8201463700.665363,
            "bin_end": 8620750266.200365,
            "count": 1
           }
          ]
         }
        },
        {
         "name": "_deepnote_index_column",
         "dtype": "int64"
        }
       ],
       "rows_top": [
        {
         "features": "AG.LND.ARBL.ZS",
         "absolute of coeffs": 8620750266.200365,
         "_deepnote_index_column": 0
        },
        {
         "features": "LP.LPI.OVRL.XQ",
         "absolute of coeffs": 6443994046.298016,
         "_deepnote_index_column": 10
        },
        {
         "features": "SP.DYN.LE00.IN",
         "absolute of coeffs": 5712608764.993828,
         "_deepnote_index_column": 19
        },
        {
         "features": "EP.PMP.SGAS.CD",
         "absolute of coeffs": 5106028975.216425,
         "_deepnote_index_column": 6
        },
        {
         "features": "TM.VAL.ICTG.ZS.UN",
         "absolute of coeffs": 4427884610.850344,
         "_deepnote_index_column": 21
        }
       ],
       "rows_bottom": null
      },
      "text/plain": "             features  absolute of coeffs\n0      AG.LND.ARBL.ZS        8.620750e+09\n10     LP.LPI.OVRL.XQ        6.443994e+09\n19     SP.DYN.LE00.IN        5.712609e+09\n6      EP.PMP.SGAS.CD        5.106029e+09\n21  TM.VAL.ICTG.ZS.UN        4.427885e+09",
      "text/html": "<div>\n<style scoped>\n    .dataframe tbody tr th:only-of-type {\n        vertical-align: middle;\n    }\n\n    .dataframe tbody tr th {\n        vertical-align: top;\n    }\n\n    .dataframe thead th {\n        text-align: right;\n    }\n</style>\n<table border=\"1\" class=\"dataframe\">\n  <thead>\n    <tr style=\"text-align: right;\">\n      <th></th>\n      <th>features</th>\n      <th>absolute of coeffs</th>\n    </tr>\n  </thead>\n  <tbody>\n    <tr>\n      <th>0</th>\n      <td>AG.LND.ARBL.ZS</td>\n      <td>8.620750e+09</td>\n    </tr>\n    <tr>\n      <th>10</th>\n      <td>LP.LPI.OVRL.XQ</td>\n      <td>6.443994e+09</td>\n    </tr>\n    <tr>\n      <th>19</th>\n      <td>SP.DYN.LE00.IN</td>\n      <td>5.712609e+09</td>\n    </tr>\n    <tr>\n      <th>6</th>\n      <td>EP.PMP.SGAS.CD</td>\n      <td>5.106029e+09</td>\n    </tr>\n    <tr>\n      <th>21</th>\n      <td>TM.VAL.ICTG.ZS.UN</td>\n      <td>4.427885e+09</td>\n    </tr>\n  </tbody>\n</table>\n</div>"
     },
     "metadata": {}
    }
   ],
   "execution_count": null
  },
  {
   "cell_type": "markdown",
   "source": "### <u>Model Conclusion</u>\n### The top 3 features that have the most influence on the Ridge Regression model in predicting GDP are the following: AG.LND.ARBL.ZS, LP.LPI.OVRL.XQ, and SP.DYN.LE00.IN. These are Arable land (% of land area), Logistics performance index, and Life Expectancy. Here are following model evaluation scores below:\n\n### Train R2 score: 0.9977 \n### Test R2 score is 0.8272\n\n### Our model does not overfit, which is great news and has performed to its best ability!",
   "metadata": {
    "tags": [],
    "cell_id": "00026-3bed8dd2-a18f-4abb-9745-94418aadf1f4",
    "deepnote_cell_type": "markdown"
   }
  },
  {
   "cell_type": "markdown",
   "source": "### <u>Key Takeaways</u>\n### It's important to understand what Logistics performance index and Arable land are. According to the World bank, \"LPI is an interactive benchmarking tool created to help countries identify the challenges and opportunities they face in their performance on trade logistics and what they can do to improve their performance.\" Arable land is land that is used for harvesting crops. This is especially important for countries like Angola and Ethiopia since trade and land acquisition are integral to economic growth! Life expectancy is also key as well.",
   "metadata": {
    "tags": [],
    "cell_id": "00027-ee5a2371-36d1-480f-82e5-6037da3bd46b",
    "deepnote_cell_type": "markdown"
   }
  },
  {
   "cell_type": "markdown",
   "source": "### <u>References</u>\n#### https://lpi.worldbank.org/\n#### https://databank.worldbank.org/metadataglossary/world-development-indicators/series/AG.LND.AGRI.K2\n#### https://scikit-learn.org/stable/modules/generated/sklearn.metrics.r2_score.html\n#### https://scikit-learn.org/stable/modules/generated/sklearn.linear_model.Ridge.html\n",
   "metadata": {
    "tags": [],
    "cell_id": "00028-fe911f4a-cc95-418e-8541-0918e313d86a",
    "deepnote_cell_type": "markdown"
   }
  },
  {
   "cell_type": "markdown",
   "source": "<a style='text-decoration:none;line-height:16px;display:flex;color:#5B5B62;padding:10px;justify-content:end;' href='https://deepnote.com?utm_source=created-in-deepnote-cell&projectId=828abbb6-8245-4bc1-8af9-0c947a6a01b6' target=\"_blank\">\n<img alt='Created in deepnote.com' style='display:inline;max-height:16px;margin:0px;margin-right:7.5px;' src='data:image/svg+xml;base64,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' > </img>\nCreated in <span style='font-weight:600;margin-left:4px;'>Deepnote</span></a>",
   "metadata": {
    "tags": [],
    "created_in_deepnote_cell": true,
    "deepnote_cell_type": "markdown"
   }
  }
 ],
 "nbformat": 4,
 "nbformat_minor": 2,
 "metadata": {
  "orig_nbformat": 2,
  "deepnote": {
   "is_reactive": false
  },
  "deepnote_notebook_id": "59e42dca-9b8f-4eba-86ad-72dadd9a895f",
  "deepnote_execution_queue": []
 }
}